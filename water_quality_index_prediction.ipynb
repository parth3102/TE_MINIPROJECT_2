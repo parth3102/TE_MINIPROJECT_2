{
 "cells": [
  {
   "cell_type": "code",
   "execution_count": 1,
   "id": "79c68002",
   "metadata": {
    "execution": {
     "iopub.execute_input": "2021-09-21T16:06:36.147870Z",
     "iopub.status.busy": "2021-09-21T16:06:36.147011Z",
     "iopub.status.idle": "2021-09-21T16:06:37.308193Z",
     "shell.execute_reply": "2021-09-21T16:06:37.309334Z",
     "shell.execute_reply.started": "2021-09-14T13:36:25.869208Z"
    },
    "id": "79c68002",
    "papermill": {
     "duration": 1.215514,
     "end_time": "2021-09-21T16:06:37.309740",
     "exception": false,
     "start_time": "2021-09-21T16:06:36.094226",
     "status": "completed"
    },
    "tags": []
   },
   "outputs": [],
   "source": [
    "import numpy as np\n",
    "import pandas as pd\n",
    "import seaborn as sns \n",
    "import matplotlib.pyplot as plt\n",
    "from sklearn.impute import SimpleImputer\n",
    "from sklearn.neighbors import LocalOutlierFactor\n",
    "from scipy.stats import probplot\n",
    "from scipy.stats import zscore"
   ]
  },
  {
   "cell_type": "code",
   "execution_count": 2,
   "id": "4739a8f1",
   "metadata": {
    "colab": {
     "base_uri": "https://localhost:8080/"
    },
    "execution": {
     "iopub.execute_input": "2021-09-21T16:06:37.394926Z",
     "iopub.status.busy": "2021-09-21T16:06:37.394207Z",
     "iopub.status.idle": "2021-09-21T16:06:37.430450Z",
     "shell.execute_reply": "2021-09-21T16:06:37.431088Z",
     "shell.execute_reply.started": "2021-09-14T13:36:27.094224Z"
    },
    "id": "4739a8f1",
    "outputId": "35babd45-797d-4eb1-eb8b-650315f9c516",
    "papermill": {
     "duration": 0.079534,
     "end_time": "2021-09-21T16:06:37.431297",
     "exception": false,
     "start_time": "2021-09-21T16:06:37.351763",
     "status": "completed"
    },
    "tags": []
   },
   "outputs": [
    {
     "data": {
      "text/plain": [
       "(1900, 12)"
      ]
     },
     "execution_count": 2,
     "metadata": {},
     "output_type": "execute_result"
    }
   ],
   "source": [
    "# Importing the dataset\n",
    "df = pd.read_csv(\"water_dataX.csv\", encoding= 'unicode_escape')\n",
    "# Selecting 1900 samples, because samples having indices greater than 1900 are not correct\n",
    "df = df.iloc[0:1900, :]\n",
    "df.shape"
   ]
  },
  {
   "cell_type": "code",
   "execution_count": 3,
   "id": "1f210219",
   "metadata": {
    "colab": {
     "base_uri": "https://localhost:8080/"
    },
    "execution": {
     "iopub.execute_input": "2021-09-21T16:06:37.519972Z",
     "iopub.status.busy": "2021-09-21T16:06:37.519290Z",
     "iopub.status.idle": "2021-09-21T16:06:37.522747Z",
     "shell.execute_reply": "2021-09-21T16:06:37.522111Z",
     "shell.execute_reply.started": "2021-09-14T13:36:27.128207Z"
    },
    "id": "1f210219",
    "outputId": "6ef0fa6f-c4dd-447f-8044-b6fe347bbcb9",
    "papermill": {
     "duration": 0.051288,
     "end_time": "2021-09-21T16:06:37.522891",
     "exception": false,
     "start_time": "2021-09-21T16:06:37.471603",
     "status": "completed"
    },
    "tags": []
   },
   "outputs": [
    {
     "data": {
      "text/plain": [
       "STATION CODE                        object\n",
       "LOCATIONS                           object\n",
       "STATE                               object\n",
       "Temp                                object\n",
       "D.O. (mg/l)                         object\n",
       "PH                                  object\n",
       "CONDUCTIVITY (µmhos/cm)             object\n",
       "B.O.D. (mg/l)                       object\n",
       "NITRATENAN N+ NITRITENANN (mg/l)    object\n",
       "FECAL COLIFORM (MPN/100ml)          object\n",
       "TOTAL COLIFORM (MPN/100ml)Mean      object\n",
       "year                                 int64\n",
       "dtype: object"
      ]
     },
     "execution_count": 3,
     "metadata": {},
     "output_type": "execute_result"
    }
   ],
   "source": [
    "# Checking for datatypes of the dataset\n",
    "df.dtypes"
   ]
  },
  {
   "cell_type": "code",
   "execution_count": 4,
   "id": "b8e356a6",
   "metadata": {
    "colab": {
     "base_uri": "https://localhost:8080/",
     "height": 406
    },
    "execution": {
     "iopub.execute_input": "2021-09-21T16:06:37.604435Z",
     "iopub.status.busy": "2021-09-21T16:06:37.603747Z",
     "iopub.status.idle": "2021-09-21T16:06:37.624521Z",
     "shell.execute_reply": "2021-09-21T16:06:37.623665Z",
     "shell.execute_reply.started": "2021-09-14T13:36:27.140836Z"
    },
    "id": "b8e356a6",
    "outputId": "65e012cd-414e-4069-cd42-ca50e4eec614",
    "papermill": {
     "duration": 0.062417,
     "end_time": "2021-09-21T16:06:37.624761",
     "exception": false,
     "start_time": "2021-09-21T16:06:37.562344",
     "status": "completed"
    },
    "tags": []
   },
   "outputs": [
    {
     "data": {
      "text/html": [
       "<div>\n",
       "<style scoped>\n",
       "    .dataframe tbody tr th:only-of-type {\n",
       "        vertical-align: middle;\n",
       "    }\n",
       "\n",
       "    .dataframe tbody tr th {\n",
       "        vertical-align: top;\n",
       "    }\n",
       "\n",
       "    .dataframe thead th {\n",
       "        text-align: right;\n",
       "    }\n",
       "</style>\n",
       "<table border=\"1\" class=\"dataframe\">\n",
       "  <thead>\n",
       "    <tr style=\"text-align: right;\">\n",
       "      <th></th>\n",
       "      <th>STATION CODE</th>\n",
       "      <th>LOCATIONS</th>\n",
       "      <th>STATE</th>\n",
       "      <th>Temp</th>\n",
       "      <th>D.O. (mg/l)</th>\n",
       "      <th>PH</th>\n",
       "      <th>CONDUCTIVITY (µmhos/cm)</th>\n",
       "      <th>B.O.D. (mg/l)</th>\n",
       "      <th>NITRATENAN N+ NITRITENANN (mg/l)</th>\n",
       "      <th>FECAL COLIFORM (MPN/100ml)</th>\n",
       "      <th>TOTAL COLIFORM (MPN/100ml)Mean</th>\n",
       "      <th>year</th>\n",
       "    </tr>\n",
       "  </thead>\n",
       "  <tbody>\n",
       "    <tr>\n",
       "      <th>0</th>\n",
       "      <td>1393</td>\n",
       "      <td>DAMANGANGA AT D/S OF MADHUBAN, DAMAN</td>\n",
       "      <td>DAMAN &amp; DIU</td>\n",
       "      <td>30.6</td>\n",
       "      <td>6.7</td>\n",
       "      <td>7.5</td>\n",
       "      <td>203</td>\n",
       "      <td>NAN</td>\n",
       "      <td>0.1</td>\n",
       "      <td>11</td>\n",
       "      <td>27</td>\n",
       "      <td>2014</td>\n",
       "    </tr>\n",
       "    <tr>\n",
       "      <th>1</th>\n",
       "      <td>1399</td>\n",
       "      <td>ZUARI AT D/S OF PT. WHERE KUMBARJRIA CANAL JOI...</td>\n",
       "      <td>GOA</td>\n",
       "      <td>29.8</td>\n",
       "      <td>5.7</td>\n",
       "      <td>7.2</td>\n",
       "      <td>189</td>\n",
       "      <td>2</td>\n",
       "      <td>0.2</td>\n",
       "      <td>4953</td>\n",
       "      <td>8391</td>\n",
       "      <td>2014</td>\n",
       "    </tr>\n",
       "    <tr>\n",
       "      <th>2</th>\n",
       "      <td>1475</td>\n",
       "      <td>ZUARI AT PANCHAWADI</td>\n",
       "      <td>GOA</td>\n",
       "      <td>29.5</td>\n",
       "      <td>6.3</td>\n",
       "      <td>6.9</td>\n",
       "      <td>179</td>\n",
       "      <td>1.7</td>\n",
       "      <td>0.1</td>\n",
       "      <td>3243</td>\n",
       "      <td>5330</td>\n",
       "      <td>2014</td>\n",
       "    </tr>\n",
       "    <tr>\n",
       "      <th>3</th>\n",
       "      <td>3181</td>\n",
       "      <td>RIVER ZUARI AT BORIM BRIDGE</td>\n",
       "      <td>GOA</td>\n",
       "      <td>29.7</td>\n",
       "      <td>5.8</td>\n",
       "      <td>6.9</td>\n",
       "      <td>64</td>\n",
       "      <td>3.8</td>\n",
       "      <td>0.5</td>\n",
       "      <td>5382</td>\n",
       "      <td>8443</td>\n",
       "      <td>2014</td>\n",
       "    </tr>\n",
       "    <tr>\n",
       "      <th>4</th>\n",
       "      <td>3182</td>\n",
       "      <td>RIVER ZUARI AT MARCAIM JETTY</td>\n",
       "      <td>GOA</td>\n",
       "      <td>29.5</td>\n",
       "      <td>5.8</td>\n",
       "      <td>7.3</td>\n",
       "      <td>83</td>\n",
       "      <td>1.9</td>\n",
       "      <td>0.4</td>\n",
       "      <td>3428</td>\n",
       "      <td>5500</td>\n",
       "      <td>2014</td>\n",
       "    </tr>\n",
       "  </tbody>\n",
       "</table>\n",
       "</div>"
      ],
      "text/plain": [
       "  STATION CODE                                          LOCATIONS  \\\n",
       "0         1393               DAMANGANGA AT D/S OF MADHUBAN, DAMAN   \n",
       "1         1399  ZUARI AT D/S OF PT. WHERE KUMBARJRIA CANAL JOI...   \n",
       "2         1475                                ZUARI AT PANCHAWADI   \n",
       "3         3181                        RIVER ZUARI AT BORIM BRIDGE   \n",
       "4         3182                       RIVER ZUARI AT MARCAIM JETTY   \n",
       "\n",
       "         STATE  Temp D.O. (mg/l)   PH CONDUCTIVITY (µmhos/cm) B.O.D. (mg/l)  \\\n",
       "0  DAMAN & DIU  30.6         6.7  7.5                     203           NAN   \n",
       "1          GOA  29.8         5.7  7.2                     189             2   \n",
       "2          GOA  29.5         6.3  6.9                     179           1.7   \n",
       "3          GOA  29.7         5.8  6.9                      64           3.8   \n",
       "4          GOA  29.5         5.8  7.3                      83           1.9   \n",
       "\n",
       "  NITRATENAN N+ NITRITENANN (mg/l) FECAL COLIFORM (MPN/100ml)  \\\n",
       "0                              0.1                         11   \n",
       "1                              0.2                       4953   \n",
       "2                              0.1                       3243   \n",
       "3                              0.5                       5382   \n",
       "4                              0.4                       3428   \n",
       "\n",
       "  TOTAL COLIFORM (MPN/100ml)Mean  year  \n",
       "0                             27  2014  \n",
       "1                           8391  2014  \n",
       "2                           5330  2014  \n",
       "3                           8443  2014  \n",
       "4                           5500  2014  "
      ]
     },
     "execution_count": 4,
     "metadata": {},
     "output_type": "execute_result"
    }
   ],
   "source": [
    "df.head()"
   ]
  },
  {
   "cell_type": "code",
   "execution_count": 5,
   "id": "21f5a081",
   "metadata": {
    "execution": {
     "iopub.execute_input": "2021-09-21T16:06:37.705974Z",
     "iopub.status.busy": "2021-09-21T16:06:37.705256Z",
     "iopub.status.idle": "2021-09-21T16:06:37.713751Z",
     "shell.execute_reply": "2021-09-21T16:06:37.713047Z",
     "shell.execute_reply.started": "2021-09-14T13:36:27.172084Z"
    },
    "id": "21f5a081",
    "papermill": {
     "duration": 0.049841,
     "end_time": "2021-09-21T16:06:37.713899",
     "exception": false,
     "start_time": "2021-09-21T16:06:37.664058",
     "status": "completed"
    },
    "tags": []
   },
   "outputs": [],
   "source": [
    "# Changing column names\n",
    "df = df.rename(columns={\"D.O. (mg/l)\": \"DO\", \"CONDUCTIVITY (µmhos/cm)\": \"Conductivity\", \"B.O.D. (mg/l)\": \"BOD\", \"NITRATENAN N+ NITRITENANN (mg/l)\": \"NI\", \"FECAL COLIFORM (MPN/100ml)\": \"Fec_col\", \"TOTAL COLIFORM (MPN/100ml)Mean\": \"Tot_col\"})"
   ]
  },
  {
   "cell_type": "code",
   "execution_count": 6,
   "id": "39f59e75",
   "metadata": {
    "colab": {
     "base_uri": "https://localhost:8080/"
    },
    "execution": {
     "iopub.execute_input": "2021-09-21T16:06:37.878877Z",
     "iopub.status.busy": "2021-09-21T16:06:37.873496Z",
     "iopub.status.idle": "2021-09-21T16:06:37.902306Z",
     "shell.execute_reply": "2021-09-21T16:06:37.902901Z",
     "shell.execute_reply.started": "2021-09-14T13:36:27.183143Z"
    },
    "id": "39f59e75",
    "outputId": "6119bf35-26be-436d-8266-580a18fba78a",
    "papermill": {
     "duration": 0.071264,
     "end_time": "2021-09-21T16:06:37.903078",
     "exception": false,
     "start_time": "2021-09-21T16:06:37.831814",
     "status": "completed"
    },
    "tags": []
   },
   "outputs": [
    {
     "data": {
      "text/plain": [
       "STATION CODE     object\n",
       "LOCATIONS        object\n",
       "STATE            object\n",
       "Temp            float64\n",
       "DO              float64\n",
       "PH              float64\n",
       "Conductivity    float64\n",
       "BOD             float64\n",
       "NI              float64\n",
       "Fec_col         float64\n",
       "Tot_col         float64\n",
       "year              int64\n",
       "dtype: object"
      ]
     },
     "execution_count": 6,
     "metadata": {},
     "output_type": "execute_result"
    }
   ],
   "source": [
    "# Converting object data type to numeric\n",
    "def convert_to_numeric(df):\n",
    "    num_col = df.shape[1]\n",
    "    # Start from index 3\n",
    "    for index in range(3, num_col):\n",
    "        col_name = df.iloc[:, index].name\n",
    "        df[col_name] = pd.to_numeric(df[col_name], errors=\"coerce\")\n",
    "    return df\n",
    "\n",
    "df = convert_to_numeric(df)\n",
    "df.dtypes"
   ]
  },
  {
   "cell_type": "code",
   "execution_count": 7,
   "id": "baca40b0",
   "metadata": {
    "execution": {
     "iopub.execute_input": "2021-09-21T16:06:37.989816Z",
     "iopub.status.busy": "2021-09-21T16:06:37.989039Z",
     "iopub.status.idle": "2021-09-21T16:06:37.996549Z",
     "shell.execute_reply": "2021-09-21T16:06:37.997125Z",
     "shell.execute_reply.started": "2021-09-14T13:36:27.218705Z"
    },
    "id": "baca40b0",
    "papermill": {
     "duration": 0.0547,
     "end_time": "2021-09-21T16:06:37.997321",
     "exception": false,
     "start_time": "2021-09-21T16:06:37.942621",
     "status": "completed"
    },
    "tags": []
   },
   "outputs": [],
   "source": [
    "# Replacing string NAN values with actual NAN value (np.nan)\n",
    "def convert_to_nan(df):\n",
    "    n_col = df.shape[1]\n",
    "    for index in range(n_col):\n",
    "        df.iloc[:, index]  = df.iloc[:, index].replace(\"NAN\", np.nan)\n",
    "    return df\n",
    "\n",
    "df = convert_to_nan(df)"
   ]
  },
  {
   "cell_type": "code",
   "execution_count": 8,
   "id": "7d2f2e93",
   "metadata": {
    "colab": {
     "base_uri": "https://localhost:8080/"
    },
    "execution": {
     "iopub.execute_input": "2021-09-21T16:06:38.087430Z",
     "iopub.status.busy": "2021-09-21T16:06:38.084498Z",
     "iopub.status.idle": "2021-09-21T16:06:38.091000Z",
     "shell.execute_reply": "2021-09-21T16:06:38.090436Z",
     "shell.execute_reply.started": "2021-09-14T13:36:27.232969Z"
    },
    "id": "7d2f2e93",
    "outputId": "d7ae0df4-9245-48d0-85fa-e9341b9fc90c",
    "papermill": {
     "duration": 0.054319,
     "end_time": "2021-09-21T16:06:38.091154",
     "exception": false,
     "start_time": "2021-09-21T16:06:38.036835",
     "status": "completed"
    },
    "tags": []
   },
   "outputs": [
    {
     "data": {
      "text/plain": [
       "year              0\n",
       "PH                7\n",
       "Conductivity     24\n",
       "DO               30\n",
       "BOD              42\n",
       "Temp             89\n",
       "STATION CODE    120\n",
       "Tot_col         130\n",
       "LOCATIONS       183\n",
       "NI              189\n",
       "Fec_col         280\n",
       "STATE           670\n",
       "dtype: int64"
      ]
     },
     "execution_count": 8,
     "metadata": {},
     "output_type": "execute_result"
    }
   ],
   "source": [
    "# Checking for missing values\n",
    "df.isnull().sum().sort_values()"
   ]
  },
  {
   "cell_type": "markdown",
   "id": "a5ac5160",
   "metadata": {
    "id": "a5ac5160",
    "papermill": {
     "duration": 0.038988,
     "end_time": "2021-09-21T16:06:38.169582",
     "exception": false,
     "start_time": "2021-09-21T16:06:38.130594",
     "status": "completed"
    },
    "tags": []
   },
   "source": [
    "* Since I have 1900 training examples, I can replace each missing value with median of the column (to avoid outliers)"
   ]
  },
  {
   "cell_type": "code",
   "execution_count": 9,
   "id": "f8d20fcb",
   "metadata": {
    "execution": {
     "iopub.execute_input": "2021-09-21T16:06:38.264478Z",
     "iopub.status.busy": "2021-09-21T16:06:38.258443Z",
     "iopub.status.idle": "2021-09-21T16:06:38.273755Z",
     "shell.execute_reply": "2021-09-21T16:06:38.273120Z",
     "shell.execute_reply.started": "2021-09-14T13:36:27.252252Z"
    },
    "id": "f8d20fcb",
    "papermill": {
     "duration": 0.065077,
     "end_time": "2021-09-21T16:06:38.273904",
     "exception": false,
     "start_time": "2021-09-21T16:06:38.208827",
     "status": "completed"
    },
    "tags": []
   },
   "outputs": [],
   "source": [
    "# Replacing NULL values with median of column\n",
    "# Selecting numeric data\n",
    "df_num = df.select_dtypes(exclude=\"object\")\n",
    "df_num_col = df_num.columns\n",
    "imputer = SimpleImputer(strategy=\"median\")\n",
    "\n",
    "df_num = imputer.fit_transform(df_num)\n",
    "df_num = pd.DataFrame(df_num, columns=df_num_col)"
   ]
  },
  {
   "cell_type": "code",
   "execution_count": 10,
   "id": "3ec8ef85",
   "metadata": {
    "colab": {
     "base_uri": "https://localhost:8080/"
    },
    "execution": {
     "iopub.execute_input": "2021-09-21T16:06:38.356090Z",
     "iopub.status.busy": "2021-09-21T16:06:38.355429Z",
     "iopub.status.idle": "2021-09-21T16:06:38.363973Z",
     "shell.execute_reply": "2021-09-21T16:06:38.364641Z",
     "shell.execute_reply.started": "2021-09-14T13:36:27.281962Z"
    },
    "id": "3ec8ef85",
    "outputId": "e531cae3-a145-45ea-94c9-59d7e1f40172",
    "papermill": {
     "duration": 0.050904,
     "end_time": "2021-09-21T16:06:38.364809",
     "exception": false,
     "start_time": "2021-09-21T16:06:38.313905",
     "status": "completed"
    },
    "tags": []
   },
   "outputs": [
    {
     "data": {
      "text/plain": [
       "STATION CODE    120\n",
       "LOCATIONS       183\n",
       "STATE           670\n",
       "dtype: int64"
      ]
     },
     "execution_count": 10,
     "metadata": {},
     "output_type": "execute_result"
    }
   ],
   "source": [
    "# Filling Categorical missing values\n",
    "df_cat = df.select_dtypes(include=\"object\")\n",
    "df_cat.isnull().sum()"
   ]
  },
  {
   "cell_type": "code",
   "execution_count": 11,
   "id": "ed87eff7",
   "metadata": {
    "colab": {
     "base_uri": "https://localhost:8080/",
     "height": 300
    },
    "execution": {
     "iopub.execute_input": "2021-09-21T16:06:38.447346Z",
     "iopub.status.busy": "2021-09-21T16:06:38.446662Z",
     "iopub.status.idle": "2021-09-21T16:06:38.466945Z",
     "shell.execute_reply": "2021-09-21T16:06:38.467535Z",
     "shell.execute_reply.started": "2021-09-14T13:36:27.29464Z"
    },
    "id": "ed87eff7",
    "outputId": "7b764d79-ffa9-4eb0-c281-6c3291456efd",
    "papermill": {
     "duration": 0.063241,
     "end_time": "2021-09-21T16:06:38.467718",
     "exception": false,
     "start_time": "2021-09-21T16:06:38.404477",
     "status": "completed"
    },
    "tags": []
   },
   "outputs": [
    {
     "data": {
      "text/html": [
       "<div>\n",
       "<style scoped>\n",
       "    .dataframe tbody tr th:only-of-type {\n",
       "        vertical-align: middle;\n",
       "    }\n",
       "\n",
       "    .dataframe tbody tr th {\n",
       "        vertical-align: top;\n",
       "    }\n",
       "\n",
       "    .dataframe thead th {\n",
       "        text-align: right;\n",
       "    }\n",
       "</style>\n",
       "<table border=\"1\" class=\"dataframe\">\n",
       "  <thead>\n",
       "    <tr style=\"text-align: right;\">\n",
       "      <th></th>\n",
       "      <th>STATION CODE</th>\n",
       "      <th>LOCATIONS</th>\n",
       "      <th>STATE</th>\n",
       "    </tr>\n",
       "  </thead>\n",
       "  <tbody>\n",
       "    <tr>\n",
       "      <th>166</th>\n",
       "      <td>1330</td>\n",
       "      <td>TAMBIRAPARANI AT ARUMUGANERI, TAMILNADU</td>\n",
       "      <td>TAMILNADU</td>\n",
       "    </tr>\n",
       "    <tr>\n",
       "      <th>424</th>\n",
       "      <td>1330</td>\n",
       "      <td>TAMBIRAPARANI AT ARUMUGANERI, TAMILNADU</td>\n",
       "      <td>TAMILNADU</td>\n",
       "    </tr>\n",
       "    <tr>\n",
       "      <th>677</th>\n",
       "      <td>1330</td>\n",
       "      <td>TAMBIRAPARANI AT ARUMUGANERI</td>\n",
       "      <td>TAMILNADU</td>\n",
       "    </tr>\n",
       "    <tr>\n",
       "      <th>1168</th>\n",
       "      <td>1330</td>\n",
       "      <td>TAMBIRAPARANI AT ARUMUGANERI</td>\n",
       "      <td>TAMILNADU</td>\n",
       "    </tr>\n",
       "    <tr>\n",
       "      <th>1351</th>\n",
       "      <td>1330</td>\n",
       "      <td>NaN</td>\n",
       "      <td>TAMBIRAPARANI AT ARUMUGANERI, TAMILNADU</td>\n",
       "    </tr>\n",
       "    <tr>\n",
       "      <th>1513</th>\n",
       "      <td>1330</td>\n",
       "      <td>TAMBIRAPARANI AT ARUMUGANERI, TAMILNADU</td>\n",
       "      <td>TAMILNADU</td>\n",
       "    </tr>\n",
       "    <tr>\n",
       "      <th>1626</th>\n",
       "      <td>1330</td>\n",
       "      <td>TAMBIRAPARANI AT ARUMUGANERI, TAMILNADU</td>\n",
       "      <td>TAMILNADU</td>\n",
       "    </tr>\n",
       "    <tr>\n",
       "      <th>1745</th>\n",
       "      <td>1330</td>\n",
       "      <td>TAMBIRAPARANI AT ARUMUGANERI, TAMILNADU</td>\n",
       "      <td>TAMILNADU</td>\n",
       "    </tr>\n",
       "  </tbody>\n",
       "</table>\n",
       "</div>"
      ],
      "text/plain": [
       "     STATION CODE                                LOCATIONS  \\\n",
       "166          1330  TAMBIRAPARANI AT ARUMUGANERI, TAMILNADU   \n",
       "424          1330  TAMBIRAPARANI AT ARUMUGANERI, TAMILNADU   \n",
       "677          1330             TAMBIRAPARANI AT ARUMUGANERI   \n",
       "1168         1330             TAMBIRAPARANI AT ARUMUGANERI   \n",
       "1351         1330                                      NaN   \n",
       "1513         1330  TAMBIRAPARANI AT ARUMUGANERI, TAMILNADU   \n",
       "1626         1330  TAMBIRAPARANI AT ARUMUGANERI, TAMILNADU   \n",
       "1745         1330  TAMBIRAPARANI AT ARUMUGANERI, TAMILNADU   \n",
       "\n",
       "                                        STATE  \n",
       "166                                 TAMILNADU  \n",
       "424                                 TAMILNADU  \n",
       "677                                 TAMILNADU  \n",
       "1168                                TAMILNADU  \n",
       "1351  TAMBIRAPARANI AT ARUMUGANERI, TAMILNADU  \n",
       "1513                                TAMILNADU  \n",
       "1626                                TAMILNADU  \n",
       "1745                                TAMILNADU  "
      ]
     },
     "execution_count": 11,
     "metadata": {},
     "output_type": "execute_result"
    }
   ],
   "source": [
    "# Here we can fill these values by obeserving other attributes\n",
    "# Example - \n",
    "pd.set_option('mode.chained_assignment', None)\n",
    "df_cat_copy = df_cat.copy()\n",
    "\n",
    "df_cat_copy[df_cat_copy[\"STATION CODE\"] == \"1330\"]\n",
    "# Station Code with value 1330 will have Location - TAMBIRAPARANI which belongs in STATE - TAMIL NADU\n",
    "# I can replace all the NAN occurences in STATE with TAMILNADU\n",
    "df_cat_copy[\"STATE\"][df_cat_copy[\"STATION CODE\"] == \"1330\"] = df_cat_copy[\"STATE\"][df_cat_copy[\"STATION CODE\"] == \"1330\"].fillna(\"TAMILNADU\")\n",
    "\n",
    "df_cat_copy[df_cat_copy[\"STATION CODE\"] == \"1330\"]"
   ]
  },
  {
   "cell_type": "code",
   "execution_count": 12,
   "id": "a55dde35",
   "metadata": {
    "colab": {
     "base_uri": "https://localhost:8080/",
     "height": 300
    },
    "execution": {
     "iopub.execute_input": "2021-09-21T16:06:38.551288Z",
     "iopub.status.busy": "2021-09-21T16:06:38.550624Z",
     "iopub.status.idle": "2021-09-21T16:06:38.596093Z",
     "shell.execute_reply": "2021-09-21T16:06:38.596797Z",
     "shell.execute_reply.started": "2021-09-14T13:36:27.322779Z"
    },
    "id": "a55dde35",
    "outputId": "fba9de32-acf5-4cff-cf5c-c31b4fe6c362",
    "papermill": {
     "duration": 0.089088,
     "end_time": "2021-09-21T16:06:38.596986",
     "exception": false,
     "start_time": "2021-09-21T16:06:38.507898",
     "status": "completed"
    },
    "tags": []
   },
   "outputs": [
    {
     "data": {
      "text/html": [
       "<div>\n",
       "<style scoped>\n",
       "    .dataframe tbody tr th:only-of-type {\n",
       "        vertical-align: middle;\n",
       "    }\n",
       "\n",
       "    .dataframe tbody tr th {\n",
       "        vertical-align: top;\n",
       "    }\n",
       "\n",
       "    .dataframe thead th {\n",
       "        text-align: right;\n",
       "    }\n",
       "</style>\n",
       "<table border=\"1\" class=\"dataframe\">\n",
       "  <thead>\n",
       "    <tr style=\"text-align: right;\">\n",
       "      <th></th>\n",
       "      <th>STATION CODE</th>\n",
       "      <th>LOCATIONS</th>\n",
       "      <th>STATE</th>\n",
       "    </tr>\n",
       "  </thead>\n",
       "  <tbody>\n",
       "    <tr>\n",
       "      <th>166</th>\n",
       "      <td>1330</td>\n",
       "      <td>TAMBIRAPARANI AT ARUMUGANERI, TAMILNADU</td>\n",
       "      <td>TAMILNADU</td>\n",
       "    </tr>\n",
       "    <tr>\n",
       "      <th>424</th>\n",
       "      <td>1330</td>\n",
       "      <td>TAMBIRAPARANI AT ARUMUGANERI, TAMILNADU</td>\n",
       "      <td>TAMILNADU</td>\n",
       "    </tr>\n",
       "    <tr>\n",
       "      <th>677</th>\n",
       "      <td>1330</td>\n",
       "      <td>TAMBIRAPARANI AT ARUMUGANERI</td>\n",
       "      <td>TAMILNADU</td>\n",
       "    </tr>\n",
       "    <tr>\n",
       "      <th>1168</th>\n",
       "      <td>1330</td>\n",
       "      <td>TAMBIRAPARANI AT ARUMUGANERI</td>\n",
       "      <td>TAMILNADU</td>\n",
       "    </tr>\n",
       "    <tr>\n",
       "      <th>1351</th>\n",
       "      <td>1330</td>\n",
       "      <td>TAMBIRAPARANI AT ARUMUGANERI, TAMILNADU</td>\n",
       "      <td>NaN</td>\n",
       "    </tr>\n",
       "    <tr>\n",
       "      <th>1513</th>\n",
       "      <td>1330</td>\n",
       "      <td>TAMBIRAPARANI AT ARUMUGANERI, TAMILNADU</td>\n",
       "      <td>TAMILNADU</td>\n",
       "    </tr>\n",
       "    <tr>\n",
       "      <th>1626</th>\n",
       "      <td>1330</td>\n",
       "      <td>TAMBIRAPARANI AT ARUMUGANERI, TAMILNADU</td>\n",
       "      <td>TAMILNADU</td>\n",
       "    </tr>\n",
       "    <tr>\n",
       "      <th>1745</th>\n",
       "      <td>1330</td>\n",
       "      <td>TAMBIRAPARANI AT ARUMUGANERI, TAMILNADU</td>\n",
       "      <td>TAMILNADU</td>\n",
       "    </tr>\n",
       "  </tbody>\n",
       "</table>\n",
       "</div>"
      ],
      "text/plain": [
       "     STATION CODE                                LOCATIONS      STATE\n",
       "166          1330  TAMBIRAPARANI AT ARUMUGANERI, TAMILNADU  TAMILNADU\n",
       "424          1330  TAMBIRAPARANI AT ARUMUGANERI, TAMILNADU  TAMILNADU\n",
       "677          1330             TAMBIRAPARANI AT ARUMUGANERI  TAMILNADU\n",
       "1168         1330             TAMBIRAPARANI AT ARUMUGANERI  TAMILNADU\n",
       "1351         1330  TAMBIRAPARANI AT ARUMUGANERI, TAMILNADU        NaN\n",
       "1513         1330  TAMBIRAPARANI AT ARUMUGANERI, TAMILNADU  TAMILNADU\n",
       "1626         1330  TAMBIRAPARANI AT ARUMUGANERI, TAMILNADU  TAMILNADU\n",
       "1745         1330  TAMBIRAPARANI AT ARUMUGANERI, TAMILNADU  TAMILNADU"
      ]
     },
     "execution_count": 12,
     "metadata": {},
     "output_type": "execute_result"
    }
   ],
   "source": [
    "# The NULL values in LOCATION attribute are in STATE attribute (ex - above dataframe)\n",
    "# So, I will fill the NULL values in LOCATION attribute with the corresponding STATE value\n",
    "# And, the state value will be replaced by the function \"fill_state\" defined below this cell\n",
    "\n",
    "def fill_locations(df_cat):\n",
    "    location_null = df_cat[df_cat[\"LOCATIONS\"].isnull()]\n",
    "    location_null_indices = location_null.index\n",
    "    for index in location_null_indices:\n",
    "        state_value = location_null[\"STATE\"][index]\n",
    "        location_null[\"LOCATIONS\"][index] = state_value\n",
    "        location_null[\"STATE\"][index] = np.nan\n",
    "    df_cat[df_cat[\"LOCATIONS\"].isnull()] = location_null\n",
    "    return\n",
    "\n",
    "fill_locations(df_cat_copy)\n",
    "df_cat_copy[df_cat_copy[\"STATION CODE\"] == \"1330\"]"
   ]
  },
  {
   "cell_type": "code",
   "execution_count": 13,
   "id": "f92f91cc",
   "metadata": {
    "colab": {
     "base_uri": "https://localhost:8080/",
     "height": 269
    },
    "execution": {
     "iopub.execute_input": "2021-09-21T16:06:38.684621Z",
     "iopub.status.busy": "2021-09-21T16:06:38.683585Z",
     "iopub.status.idle": "2021-09-21T16:06:38.694685Z",
     "shell.execute_reply": "2021-09-21T16:06:38.695187Z",
     "shell.execute_reply.started": "2021-09-14T13:36:27.37184Z"
    },
    "id": "f92f91cc",
    "outputId": "1ee7b5c7-f412-4705-9826-59dae62bb184",
    "papermill": {
     "duration": 0.056415,
     "end_time": "2021-09-21T16:06:38.695374",
     "exception": false,
     "start_time": "2021-09-21T16:06:38.638959",
     "status": "completed"
    },
    "tags": []
   },
   "outputs": [
    {
     "data": {
      "text/html": [
       "<div>\n",
       "<style scoped>\n",
       "    .dataframe tbody tr th:only-of-type {\n",
       "        vertical-align: middle;\n",
       "    }\n",
       "\n",
       "    .dataframe tbody tr th {\n",
       "        vertical-align: top;\n",
       "    }\n",
       "\n",
       "    .dataframe thead th {\n",
       "        text-align: right;\n",
       "    }\n",
       "</style>\n",
       "<table border=\"1\" class=\"dataframe\">\n",
       "  <thead>\n",
       "    <tr style=\"text-align: right;\">\n",
       "      <th></th>\n",
       "      <th>STATION CODE</th>\n",
       "      <th>LOCATIONS</th>\n",
       "      <th>STATE</th>\n",
       "    </tr>\n",
       "  </thead>\n",
       "  <tbody>\n",
       "    <tr>\n",
       "      <th>166</th>\n",
       "      <td>1330</td>\n",
       "      <td>TAMBIRAPARANI AT ARUMUGANERI, TAMILNADU</td>\n",
       "      <td>TAMILNADU</td>\n",
       "    </tr>\n",
       "    <tr>\n",
       "      <th>424</th>\n",
       "      <td>1330</td>\n",
       "      <td>TAMBIRAPARANI AT ARUMUGANERI, TAMILNADU</td>\n",
       "      <td>TAMILNADU</td>\n",
       "    </tr>\n",
       "    <tr>\n",
       "      <th>1351</th>\n",
       "      <td>1330</td>\n",
       "      <td>TAMBIRAPARANI AT ARUMUGANERI, TAMILNADU</td>\n",
       "      <td>NaN</td>\n",
       "    </tr>\n",
       "    <tr>\n",
       "      <th>1513</th>\n",
       "      <td>1330</td>\n",
       "      <td>TAMBIRAPARANI AT ARUMUGANERI, TAMILNADU</td>\n",
       "      <td>TAMILNADU</td>\n",
       "    </tr>\n",
       "    <tr>\n",
       "      <th>1626</th>\n",
       "      <td>1330</td>\n",
       "      <td>TAMBIRAPARANI AT ARUMUGANERI, TAMILNADU</td>\n",
       "      <td>TAMILNADU</td>\n",
       "    </tr>\n",
       "    <tr>\n",
       "      <th>1745</th>\n",
       "      <td>1330</td>\n",
       "      <td>TAMBIRAPARANI AT ARUMUGANERI, TAMILNADU</td>\n",
       "      <td>TAMILNADU</td>\n",
       "    </tr>\n",
       "    <tr>\n",
       "      <th>1896</th>\n",
       "      <td>NaN</td>\n",
       "      <td>TAMBIRAPARANI AT ARUMUGANERI, TAMILNADU</td>\n",
       "      <td>NaN</td>\n",
       "    </tr>\n",
       "  </tbody>\n",
       "</table>\n",
       "</div>"
      ],
      "text/plain": [
       "     STATION CODE                                LOCATIONS      STATE\n",
       "166          1330  TAMBIRAPARANI AT ARUMUGANERI, TAMILNADU  TAMILNADU\n",
       "424          1330  TAMBIRAPARANI AT ARUMUGANERI, TAMILNADU  TAMILNADU\n",
       "1351         1330  TAMBIRAPARANI AT ARUMUGANERI, TAMILNADU        NaN\n",
       "1513         1330  TAMBIRAPARANI AT ARUMUGANERI, TAMILNADU  TAMILNADU\n",
       "1626         1330  TAMBIRAPARANI AT ARUMUGANERI, TAMILNADU  TAMILNADU\n",
       "1745         1330  TAMBIRAPARANI AT ARUMUGANERI, TAMILNADU  TAMILNADU\n",
       "1896          NaN  TAMBIRAPARANI AT ARUMUGANERI, TAMILNADU        NaN"
      ]
     },
     "execution_count": 13,
     "metadata": {},
     "output_type": "execute_result"
    }
   ],
   "source": [
    "df_cat_copy[df_cat_copy[\"LOCATIONS\"] == \"TAMBIRAPARANI AT ARUMUGANERI, TAMILNADU\"]"
   ]
  },
  {
   "cell_type": "code",
   "execution_count": 14,
   "id": "7fb35e22",
   "metadata": {
    "colab": {
     "base_uri": "https://localhost:8080/",
     "height": 269
    },
    "execution": {
     "iopub.execute_input": "2021-09-21T16:06:38.782411Z",
     "iopub.status.busy": "2021-09-21T16:06:38.781362Z",
     "iopub.status.idle": "2021-09-21T16:06:38.875710Z",
     "shell.execute_reply": "2021-09-21T16:06:38.876247Z",
     "shell.execute_reply.started": "2021-09-14T13:36:27.392489Z"
    },
    "id": "7fb35e22",
    "outputId": "5c937876-0ca2-4f0f-85d2-d0b7788c987d",
    "papermill": {
     "duration": 0.139236,
     "end_time": "2021-09-21T16:06:38.876441",
     "exception": false,
     "start_time": "2021-09-21T16:06:38.737205",
     "status": "completed"
    },
    "tags": []
   },
   "outputs": [
    {
     "data": {
      "text/html": [
       "<div>\n",
       "<style scoped>\n",
       "    .dataframe tbody tr th:only-of-type {\n",
       "        vertical-align: middle;\n",
       "    }\n",
       "\n",
       "    .dataframe tbody tr th {\n",
       "        vertical-align: top;\n",
       "    }\n",
       "\n",
       "    .dataframe thead th {\n",
       "        text-align: right;\n",
       "    }\n",
       "</style>\n",
       "<table border=\"1\" class=\"dataframe\">\n",
       "  <thead>\n",
       "    <tr style=\"text-align: right;\">\n",
       "      <th></th>\n",
       "      <th>STATION CODE</th>\n",
       "      <th>LOCATIONS</th>\n",
       "      <th>STATE</th>\n",
       "    </tr>\n",
       "  </thead>\n",
       "  <tbody>\n",
       "    <tr>\n",
       "      <th>166</th>\n",
       "      <td>1330</td>\n",
       "      <td>TAMBIRAPARANI AT ARUMUGANERI, TAMILNADU</td>\n",
       "      <td>TAMILNADU</td>\n",
       "    </tr>\n",
       "    <tr>\n",
       "      <th>424</th>\n",
       "      <td>1330</td>\n",
       "      <td>TAMBIRAPARANI AT ARUMUGANERI, TAMILNADU</td>\n",
       "      <td>TAMILNADU</td>\n",
       "    </tr>\n",
       "    <tr>\n",
       "      <th>1351</th>\n",
       "      <td>1330</td>\n",
       "      <td>TAMBIRAPARANI AT ARUMUGANERI, TAMILNADU</td>\n",
       "      <td>NaN</td>\n",
       "    </tr>\n",
       "    <tr>\n",
       "      <th>1513</th>\n",
       "      <td>1330</td>\n",
       "      <td>TAMBIRAPARANI AT ARUMUGANERI, TAMILNADU</td>\n",
       "      <td>TAMILNADU</td>\n",
       "    </tr>\n",
       "    <tr>\n",
       "      <th>1626</th>\n",
       "      <td>1330</td>\n",
       "      <td>TAMBIRAPARANI AT ARUMUGANERI, TAMILNADU</td>\n",
       "      <td>TAMILNADU</td>\n",
       "    </tr>\n",
       "    <tr>\n",
       "      <th>1745</th>\n",
       "      <td>1330</td>\n",
       "      <td>TAMBIRAPARANI AT ARUMUGANERI, TAMILNADU</td>\n",
       "      <td>TAMILNADU</td>\n",
       "    </tr>\n",
       "    <tr>\n",
       "      <th>1896</th>\n",
       "      <td>1330</td>\n",
       "      <td>TAMBIRAPARANI AT ARUMUGANERI, TAMILNADU</td>\n",
       "      <td>NaN</td>\n",
       "    </tr>\n",
       "  </tbody>\n",
       "</table>\n",
       "</div>"
      ],
      "text/plain": [
       "     STATION CODE                                LOCATIONS      STATE\n",
       "166          1330  TAMBIRAPARANI AT ARUMUGANERI, TAMILNADU  TAMILNADU\n",
       "424          1330  TAMBIRAPARANI AT ARUMUGANERI, TAMILNADU  TAMILNADU\n",
       "1351         1330  TAMBIRAPARANI AT ARUMUGANERI, TAMILNADU        NaN\n",
       "1513         1330  TAMBIRAPARANI AT ARUMUGANERI, TAMILNADU  TAMILNADU\n",
       "1626         1330  TAMBIRAPARANI AT ARUMUGANERI, TAMILNADU  TAMILNADU\n",
       "1745         1330  TAMBIRAPARANI AT ARUMUGANERI, TAMILNADU  TAMILNADU\n",
       "1896         1330  TAMBIRAPARANI AT ARUMUGANERI, TAMILNADU        NaN"
      ]
     },
     "execution_count": 14,
     "metadata": {},
     "output_type": "execute_result"
    }
   ],
   "source": [
    "# Now I can fill NULL values of Station code with corresponding LOCATION value(ex - above dataframe)\n",
    "# I will match the corresponding LOCATION value with other same LOCATION value and insert the value of station code\n",
    "\n",
    "def fill_code(df_cat):\n",
    "    station_null = df_cat[df_cat[\"STATION CODE\"].isnull()]\n",
    "    station_null_indices = station_null.index\n",
    "    for index in station_null_indices:\n",
    "        stat_code = np.nan\n",
    "        location_index = station_null[\"LOCATIONS\"][index]\n",
    "        code_at_location = df_cat[\"STATION CODE\"][df_cat[\"LOCATIONS\"] == location_index]\n",
    "        for index_code in code_at_location.index:\n",
    "            if (code_at_location[index_code] != np.nan):\n",
    "                stat_code = code_at_location[index_code]\n",
    "                break\n",
    "        station_null[\"STATION CODE\"][index] = stat_code\n",
    "    df_cat[df_cat[\"STATION CODE\"].isnull()] = station_null\n",
    "    return\n",
    "\n",
    "fill_code(df_cat_copy)\n",
    "df_cat_copy[df_cat_copy[\"LOCATIONS\"] == \"TAMBIRAPARANI AT ARUMUGANERI, TAMILNADU\"]"
   ]
  },
  {
   "cell_type": "code",
   "execution_count": 15,
   "id": "8ee63d14",
   "metadata": {
    "colab": {
     "base_uri": "https://localhost:8080/",
     "height": 331
    },
    "execution": {
     "iopub.execute_input": "2021-09-21T16:06:38.964240Z",
     "iopub.status.busy": "2021-09-21T16:06:38.963186Z",
     "iopub.status.idle": "2021-09-21T16:06:40.082823Z",
     "shell.execute_reply": "2021-09-21T16:06:40.083437Z",
     "shell.execute_reply.started": "2021-09-14T13:36:27.492223Z"
    },
    "id": "8ee63d14",
    "outputId": "28cba85e-68e1-49bd-cdb7-5949803411ec",
    "papermill": {
     "duration": 1.165132,
     "end_time": "2021-09-21T16:06:40.083616",
     "exception": false,
     "start_time": "2021-09-21T16:06:38.918484",
     "status": "completed"
    },
    "tags": []
   },
   "outputs": [
    {
     "data": {
      "text/html": [
       "<div>\n",
       "<style scoped>\n",
       "    .dataframe tbody tr th:only-of-type {\n",
       "        vertical-align: middle;\n",
       "    }\n",
       "\n",
       "    .dataframe tbody tr th {\n",
       "        vertical-align: top;\n",
       "    }\n",
       "\n",
       "    .dataframe thead th {\n",
       "        text-align: right;\n",
       "    }\n",
       "</style>\n",
       "<table border=\"1\" class=\"dataframe\">\n",
       "  <thead>\n",
       "    <tr style=\"text-align: right;\">\n",
       "      <th></th>\n",
       "      <th>STATION CODE</th>\n",
       "      <th>LOCATIONS</th>\n",
       "      <th>STATE</th>\n",
       "    </tr>\n",
       "  </thead>\n",
       "  <tbody>\n",
       "    <tr>\n",
       "      <th>166</th>\n",
       "      <td>1330</td>\n",
       "      <td>TAMBIRAPARANI AT ARUMUGANERI, TAMILNADU</td>\n",
       "      <td>TAMILNADU</td>\n",
       "    </tr>\n",
       "    <tr>\n",
       "      <th>424</th>\n",
       "      <td>1330</td>\n",
       "      <td>TAMBIRAPARANI AT ARUMUGANERI, TAMILNADU</td>\n",
       "      <td>TAMILNADU</td>\n",
       "    </tr>\n",
       "    <tr>\n",
       "      <th>677</th>\n",
       "      <td>1330</td>\n",
       "      <td>TAMBIRAPARANI AT ARUMUGANERI</td>\n",
       "      <td>TAMILNADU</td>\n",
       "    </tr>\n",
       "    <tr>\n",
       "      <th>1168</th>\n",
       "      <td>1330</td>\n",
       "      <td>TAMBIRAPARANI AT ARUMUGANERI</td>\n",
       "      <td>TAMILNADU</td>\n",
       "    </tr>\n",
       "    <tr>\n",
       "      <th>1351</th>\n",
       "      <td>1330</td>\n",
       "      <td>TAMBIRAPARANI AT ARUMUGANERI, TAMILNADU</td>\n",
       "      <td>TAMILNADU</td>\n",
       "    </tr>\n",
       "    <tr>\n",
       "      <th>1513</th>\n",
       "      <td>1330</td>\n",
       "      <td>TAMBIRAPARANI AT ARUMUGANERI, TAMILNADU</td>\n",
       "      <td>TAMILNADU</td>\n",
       "    </tr>\n",
       "    <tr>\n",
       "      <th>1626</th>\n",
       "      <td>1330</td>\n",
       "      <td>TAMBIRAPARANI AT ARUMUGANERI, TAMILNADU</td>\n",
       "      <td>TAMILNADU</td>\n",
       "    </tr>\n",
       "    <tr>\n",
       "      <th>1745</th>\n",
       "      <td>1330</td>\n",
       "      <td>TAMBIRAPARANI AT ARUMUGANERI, TAMILNADU</td>\n",
       "      <td>TAMILNADU</td>\n",
       "    </tr>\n",
       "    <tr>\n",
       "      <th>1896</th>\n",
       "      <td>1330</td>\n",
       "      <td>TAMBIRAPARANI AT ARUMUGANERI, TAMILNADU</td>\n",
       "      <td>TAMILNADU</td>\n",
       "    </tr>\n",
       "  </tbody>\n",
       "</table>\n",
       "</div>"
      ],
      "text/plain": [
       "     STATION CODE                                LOCATIONS      STATE\n",
       "166          1330  TAMBIRAPARANI AT ARUMUGANERI, TAMILNADU  TAMILNADU\n",
       "424          1330  TAMBIRAPARANI AT ARUMUGANERI, TAMILNADU  TAMILNADU\n",
       "677          1330             TAMBIRAPARANI AT ARUMUGANERI  TAMILNADU\n",
       "1168         1330             TAMBIRAPARANI AT ARUMUGANERI  TAMILNADU\n",
       "1351         1330  TAMBIRAPARANI AT ARUMUGANERI, TAMILNADU  TAMILNADU\n",
       "1513         1330  TAMBIRAPARANI AT ARUMUGANERI, TAMILNADU  TAMILNADU\n",
       "1626         1330  TAMBIRAPARANI AT ARUMUGANERI, TAMILNADU  TAMILNADU\n",
       "1745         1330  TAMBIRAPARANI AT ARUMUGANERI, TAMILNADU  TAMILNADU\n",
       "1896         1330  TAMBIRAPARANI AT ARUMUGANERI, TAMILNADU  TAMILNADU"
      ]
     },
     "execution_count": 15,
     "metadata": {},
     "output_type": "execute_result"
    }
   ],
   "source": [
    "# Filling all state NAN values which have corresponding station code value\n",
    "def fill_state(df_cat):\n",
    "    station_code = df_cat[\"STATION CODE\"].unique()\n",
    "    for index in range(station_code.shape[0]):\n",
    "        if (station_code[index] != np.nan):\n",
    "            df_state = df_cat[\"STATE\"][df_cat[\"STATION CODE\"] == station_code[index]] \n",
    "            state_values = df_cat[\"STATE\"][df_cat[\"STATION CODE\"] == station_code[index]]\n",
    "            state = np.nan\n",
    "            for index_state in range(state_values.shape[0]):\n",
    "                if (state_values.iloc[index_state] != np.nan):\n",
    "                    state = state_values.iloc[index_state]\n",
    "                    break\n",
    "            df_state_fill = df_state.fillna(state) \n",
    "            df_cat[\"STATE\"][df_cat[\"STATION CODE\"] == station_code[index]] = df_state_fill\n",
    "    return\n",
    "fill_state(df_cat_copy)\n",
    "df_cat_copy[df_cat_copy[\"STATION CODE\"] == \"1330\"]"
   ]
  },
  {
   "cell_type": "code",
   "execution_count": 16,
   "id": "8b313fff",
   "metadata": {
    "colab": {
     "base_uri": "https://localhost:8080/"
    },
    "execution": {
     "iopub.execute_input": "2021-09-21T16:06:40.174355Z",
     "iopub.status.busy": "2021-09-21T16:06:40.173297Z",
     "iopub.status.idle": "2021-09-21T16:06:40.182578Z",
     "shell.execute_reply": "2021-09-21T16:06:40.182006Z",
     "shell.execute_reply.started": "2021-09-14T13:36:28.582294Z"
    },
    "id": "8b313fff",
    "outputId": "ce80486c-c2fe-489d-f556-92e7175209fe",
    "papermill": {
     "duration": 0.055855,
     "end_time": "2021-09-21T16:06:40.182745",
     "exception": false,
     "start_time": "2021-09-21T16:06:40.126890",
     "status": "completed"
    },
    "tags": []
   },
   "outputs": [
    {
     "data": {
      "text/plain": [
       "STATION CODE     4\n",
       "LOCATIONS        2\n",
       "STATE           12\n",
       "dtype: int64"
      ]
     },
     "execution_count": 16,
     "metadata": {},
     "output_type": "execute_result"
    }
   ],
   "source": [
    "df_cat_copy.isnull().sum()"
   ]
  },
  {
   "cell_type": "code",
   "execution_count": 17,
   "id": "63da69bc",
   "metadata": {
    "colab": {
     "base_uri": "https://localhost:8080/",
     "height": 425
    },
    "execution": {
     "iopub.execute_input": "2021-09-21T16:06:40.281737Z",
     "iopub.status.busy": "2021-09-21T16:06:40.280775Z",
     "iopub.status.idle": "2021-09-21T16:06:40.285262Z",
     "shell.execute_reply": "2021-09-21T16:06:40.284586Z",
     "shell.execute_reply.started": "2021-09-14T13:36:28.593016Z"
    },
    "id": "63da69bc",
    "outputId": "bbf9e4b1-8e92-402f-f8cd-2a11ed12e0e4",
    "papermill": {
     "duration": 0.059304,
     "end_time": "2021-09-21T16:06:40.285424",
     "exception": false,
     "start_time": "2021-09-21T16:06:40.226120",
     "status": "completed"
    },
    "tags": []
   },
   "outputs": [
    {
     "data": {
      "text/html": [
       "<div>\n",
       "<style scoped>\n",
       "    .dataframe tbody tr th:only-of-type {\n",
       "        vertical-align: middle;\n",
       "    }\n",
       "\n",
       "    .dataframe tbody tr th {\n",
       "        vertical-align: top;\n",
       "    }\n",
       "\n",
       "    .dataframe thead th {\n",
       "        text-align: right;\n",
       "    }\n",
       "</style>\n",
       "<table border=\"1\" class=\"dataframe\">\n",
       "  <thead>\n",
       "    <tr style=\"text-align: right;\">\n",
       "      <th></th>\n",
       "      <th>STATION CODE</th>\n",
       "      <th>LOCATIONS</th>\n",
       "      <th>STATE</th>\n",
       "    </tr>\n",
       "  </thead>\n",
       "  <tbody>\n",
       "    <tr>\n",
       "      <th>260</th>\n",
       "      <td>NaN</td>\n",
       "      <td>NaN</td>\n",
       "      <td>NaN</td>\n",
       "    </tr>\n",
       "    <tr>\n",
       "      <th>431</th>\n",
       "      <td>NaN</td>\n",
       "      <td>NaN</td>\n",
       "      <td>NaN</td>\n",
       "    </tr>\n",
       "    <tr>\n",
       "      <th>1106</th>\n",
       "      <td>1207</td>\n",
       "      <td>KABBANI AT MUTHANKARA</td>\n",
       "      <td>NaN</td>\n",
       "    </tr>\n",
       "    <tr>\n",
       "      <th>1107</th>\n",
       "      <td>1208</td>\n",
       "      <td>BHAVANI AT ELACHIVAZHY</td>\n",
       "      <td>NaN</td>\n",
       "    </tr>\n",
       "    <tr>\n",
       "      <th>1650</th>\n",
       "      <td>2047</td>\n",
       "      <td>NNANCHOE (ATTAWA CHOE), CHANDIGARH</td>\n",
       "      <td>NaN</td>\n",
       "    </tr>\n",
       "    <tr>\n",
       "      <th>1651</th>\n",
       "      <td>2048</td>\n",
       "      <td>PATIALA KI RAO, CHANDIGARH</td>\n",
       "      <td>NaN</td>\n",
       "    </tr>\n",
       "    <tr>\n",
       "      <th>1652</th>\n",
       "      <td>2049</td>\n",
       "      <td>SUKHNA CHOE, CHANDIGARH</td>\n",
       "      <td>NaN</td>\n",
       "    </tr>\n",
       "    <tr>\n",
       "      <th>1770</th>\n",
       "      <td>2047</td>\n",
       "      <td>NNANCHOE (ATTAWA CHOE)</td>\n",
       "      <td>NaN</td>\n",
       "    </tr>\n",
       "    <tr>\n",
       "      <th>1771</th>\n",
       "      <td>2048</td>\n",
       "      <td>PATIALA KI RAO</td>\n",
       "      <td>NaN</td>\n",
       "    </tr>\n",
       "    <tr>\n",
       "      <th>1772</th>\n",
       "      <td>2049</td>\n",
       "      <td>SUKHNA CHOE</td>\n",
       "      <td>NaN</td>\n",
       "    </tr>\n",
       "    <tr>\n",
       "      <th>1784</th>\n",
       "      <td>NaN</td>\n",
       "      <td>DAMANGANGA  AFTER CONFL. OF PIPARIA DRAIN, DAMAN</td>\n",
       "      <td>NaN</td>\n",
       "    </tr>\n",
       "    <tr>\n",
       "      <th>1785</th>\n",
       "      <td>NaN</td>\n",
       "      <td>DAMANGANGA AT CIRCUIT HOUSE, SILVASA, DADRA AN...</td>\n",
       "      <td>NaN</td>\n",
       "    </tr>\n",
       "  </tbody>\n",
       "</table>\n",
       "</div>"
      ],
      "text/plain": [
       "     STATION CODE                                          LOCATIONS STATE\n",
       "260           NaN                                                NaN   NaN\n",
       "431           NaN                                                NaN   NaN\n",
       "1106         1207                              KABBANI AT MUTHANKARA   NaN\n",
       "1107         1208                             BHAVANI AT ELACHIVAZHY   NaN\n",
       "1650         2047                 NNANCHOE (ATTAWA CHOE), CHANDIGARH   NaN\n",
       "1651         2048                         PATIALA KI RAO, CHANDIGARH   NaN\n",
       "1652         2049                            SUKHNA CHOE, CHANDIGARH   NaN\n",
       "1770         2047                             NNANCHOE (ATTAWA CHOE)   NaN\n",
       "1771         2048                                     PATIALA KI RAO   NaN\n",
       "1772         2049                                        SUKHNA CHOE   NaN\n",
       "1784          NaN   DAMANGANGA  AFTER CONFL. OF PIPARIA DRAIN, DAMAN   NaN\n",
       "1785          NaN  DAMANGANGA AT CIRCUIT HOUSE, SILVASA, DADRA AN...   NaN"
      ]
     },
     "execution_count": 17,
     "metadata": {},
     "output_type": "execute_result"
    }
   ],
   "source": [
    "df_cat_copy[df_cat_copy[\"STATE\"].isnull()]"
   ]
  },
  {
   "cell_type": "markdown",
   "id": "1b8d3fac",
   "metadata": {
    "id": "1b8d3fac",
    "papermill": {
     "duration": 0.043043,
     "end_time": "2021-09-21T16:06:40.371841",
     "exception": false,
     "start_time": "2021-09-21T16:06:40.328798",
     "status": "completed"
    },
    "tags": []
   },
   "source": [
    "* The above are the missing values which are left and does not satisfy any condition\n",
    "* So, according to the location these values will be filled manually\n"
   ]
  },
  {
   "cell_type": "code",
   "execution_count": 18,
   "id": "38c201c9",
   "metadata": {
    "execution": {
     "iopub.execute_input": "2021-09-21T16:06:40.471215Z",
     "iopub.status.busy": "2021-09-21T16:06:40.470144Z",
     "iopub.status.idle": "2021-09-21T16:06:40.473303Z",
     "shell.execute_reply": "2021-09-21T16:06:40.472727Z",
     "shell.execute_reply.started": "2021-09-14T13:36:28.611189Z"
    },
    "id": "38c201c9",
    "papermill": {
     "duration": 0.056112,
     "end_time": "2021-09-21T16:06:40.473447",
     "exception": false,
     "start_time": "2021-09-21T16:06:40.417335",
     "status": "completed"
    },
    "tags": []
   },
   "outputs": [],
   "source": [
    "# The first location KABBANI AT MUTHANKARA is in STATE Kerela\n",
    "df_cat_copy[\"STATE\"][1106] = \"KERALA\"\n",
    "df_cat_copy[\"STATE\"][1107] = \"KERALA\"\n",
    "df_cat_copy[\"STATE\"][1650] = \"CHANDIGARH\"\n",
    "df_cat_copy[\"STATE\"][1651] = \"CHANDIGARH\"\n",
    "df_cat_copy[\"STATE\"][1652] = \"CHANDIGARH\"\n",
    "df_cat_copy[\"STATE\"][1770] = \"CHANDIGARH\"\n",
    "df_cat_copy[\"STATE\"][1771] = \"CHANDIGARH\"\n",
    "df_cat_copy[\"STATE\"][1772] = \"CHANDIGARH\"\n",
    "df_cat_copy[\"STATE\"][1784] = \"DAMAN & DIU\"\n",
    "df_cat_copy[\"STATE\"][1785] = \"DAMAN & DIU\"\n",
    "df_cat_copy[\"STATION CODE\"][1784] = \"0000\" # I am setting this according to myself\n",
    "df_cat_copy[\"STATION CODE\"][1785] = \"0000\""
   ]
  },
  {
   "cell_type": "code",
   "execution_count": 19,
   "id": "55cbe42a",
   "metadata": {
    "colab": {
     "base_uri": "https://localhost:8080/"
    },
    "execution": {
     "iopub.execute_input": "2021-09-21T16:06:40.568963Z",
     "iopub.status.busy": "2021-09-21T16:06:40.567928Z",
     "iopub.status.idle": "2021-09-21T16:06:40.572085Z",
     "shell.execute_reply": "2021-09-21T16:06:40.571511Z",
     "shell.execute_reply.started": "2021-09-14T13:36:28.623795Z"
    },
    "id": "55cbe42a",
    "outputId": "69c295a2-c19a-41d6-b5fe-0855008986b0",
    "papermill": {
     "duration": 0.055012,
     "end_time": "2021-09-21T16:06:40.572226",
     "exception": false,
     "start_time": "2021-09-21T16:06:40.517214",
     "status": "completed"
    },
    "tags": []
   },
   "outputs": [
    {
     "data": {
      "text/plain": [
       "STATION CODE    2\n",
       "LOCATIONS       2\n",
       "STATE           2\n",
       "dtype: int64"
      ]
     },
     "execution_count": 19,
     "metadata": {},
     "output_type": "execute_result"
    }
   ],
   "source": [
    "df_cat = df_cat_copy\n",
    "df_cat.isnull().sum()"
   ]
  },
  {
   "cell_type": "markdown",
   "id": "a6f803e9",
   "metadata": {
    "id": "a6f803e9",
    "papermill": {
     "duration": 0.043543,
     "end_time": "2021-09-21T16:06:40.659745",
     "exception": false,
     "start_time": "2021-09-21T16:06:40.616202",
     "status": "completed"
    },
    "tags": []
   },
   "source": []
  },
  {
   "cell_type": "code",
   "execution_count": 20,
   "id": "b5c23502",
   "metadata": {
    "colab": {
     "base_uri": "https://localhost:8080/"
    },
    "execution": {
     "iopub.execute_input": "2021-09-21T16:06:40.757773Z",
     "iopub.status.busy": "2021-09-21T16:06:40.755210Z",
     "iopub.status.idle": "2021-09-21T16:06:40.762002Z",
     "shell.execute_reply": "2021-09-21T16:06:40.761312Z",
     "shell.execute_reply.started": "2021-09-14T13:36:28.640866Z"
    },
    "id": "b5c23502",
    "outputId": "aee4705d-2477-46b1-b94c-34b1dc8d1df7",
    "papermill": {
     "duration": 0.057767,
     "end_time": "2021-09-21T16:06:40.762152",
     "exception": false,
     "start_time": "2021-09-21T16:06:40.704385",
     "status": "completed"
    },
    "tags": []
   },
   "outputs": [
    {
     "data": {
      "text/plain": [
       "Temp            0\n",
       "DO              0\n",
       "PH              0\n",
       "Conductivity    0\n",
       "BOD             0\n",
       "NI              0\n",
       "Fec_col         0\n",
       "Tot_col         0\n",
       "year            0\n",
       "dtype: int64"
      ]
     },
     "execution_count": 20,
     "metadata": {},
     "output_type": "execute_result"
    }
   ],
   "source": [
    "df_num.isnull().sum()"
   ]
  },
  {
   "cell_type": "code",
   "execution_count": 21,
   "id": "2ca552a6",
   "metadata": {
    "colab": {
     "base_uri": "https://localhost:8080/"
    },
    "execution": {
     "iopub.execute_input": "2021-09-21T16:06:40.862874Z",
     "iopub.status.busy": "2021-09-21T16:06:40.862137Z",
     "iopub.status.idle": "2021-09-21T16:06:40.865470Z",
     "shell.execute_reply": "2021-09-21T16:06:40.864865Z",
     "shell.execute_reply.started": "2021-09-14T13:36:28.654059Z"
    },
    "id": "2ca552a6",
    "outputId": "0e079695-5fa5-476f-d74e-94ac40678d81",
    "papermill": {
     "duration": 0.058398,
     "end_time": "2021-09-21T16:06:40.865761",
     "exception": false,
     "start_time": "2021-09-21T16:06:40.807363",
     "status": "completed"
    },
    "tags": []
   },
   "outputs": [
    {
     "data": {
      "text/plain": [
       "STATION CODE    2\n",
       "LOCATIONS       2\n",
       "STATE           2\n",
       "Temp            0\n",
       "DO              0\n",
       "PH              0\n",
       "Conductivity    0\n",
       "BOD             0\n",
       "NI              0\n",
       "Fec_col         0\n",
       "Tot_col         0\n",
       "year            0\n",
       "dtype: int64"
      ]
     },
     "execution_count": 21,
     "metadata": {},
     "output_type": "execute_result"
    }
   ],
   "source": [
    "df_final = pd.concat([df_cat, df_num], axis=1)\n",
    "df_final.isnull().sum()"
   ]
  },
  {
   "cell_type": "code",
   "execution_count": 22,
   "id": "507081fe",
   "metadata": {
    "colab": {
     "base_uri": "https://localhost:8080/",
     "height": 112
    },
    "execution": {
     "iopub.execute_input": "2021-09-21T16:06:40.983942Z",
     "iopub.status.busy": "2021-09-21T16:06:40.968114Z",
     "iopub.status.idle": "2021-09-21T16:06:40.989397Z",
     "shell.execute_reply": "2021-09-21T16:06:40.988762Z",
     "shell.execute_reply.started": "2021-09-14T13:36:28.667399Z"
    },
    "id": "507081fe",
    "outputId": "a8c36801-4815-4d59-e252-892d9ca714f2",
    "papermill": {
     "duration": 0.078035,
     "end_time": "2021-09-21T16:06:40.989571",
     "exception": false,
     "start_time": "2021-09-21T16:06:40.911536",
     "status": "completed"
    },
    "tags": []
   },
   "outputs": [
    {
     "data": {
      "text/html": [
       "<div>\n",
       "<style scoped>\n",
       "    .dataframe tbody tr th:only-of-type {\n",
       "        vertical-align: middle;\n",
       "    }\n",
       "\n",
       "    .dataframe tbody tr th {\n",
       "        vertical-align: top;\n",
       "    }\n",
       "\n",
       "    .dataframe thead th {\n",
       "        text-align: right;\n",
       "    }\n",
       "</style>\n",
       "<table border=\"1\" class=\"dataframe\">\n",
       "  <thead>\n",
       "    <tr style=\"text-align: right;\">\n",
       "      <th></th>\n",
       "      <th>STATION CODE</th>\n",
       "      <th>LOCATIONS</th>\n",
       "      <th>STATE</th>\n",
       "      <th>Temp</th>\n",
       "      <th>DO</th>\n",
       "      <th>PH</th>\n",
       "      <th>Conductivity</th>\n",
       "      <th>BOD</th>\n",
       "      <th>NI</th>\n",
       "      <th>Fec_col</th>\n",
       "      <th>Tot_col</th>\n",
       "      <th>year</th>\n",
       "    </tr>\n",
       "  </thead>\n",
       "  <tbody>\n",
       "    <tr>\n",
       "      <th>260</th>\n",
       "      <td>NaN</td>\n",
       "      <td>NaN</td>\n",
       "      <td>NaN</td>\n",
       "      <td>27.0</td>\n",
       "      <td>6.7</td>\n",
       "      <td>7.3</td>\n",
       "      <td>198.0</td>\n",
       "      <td>1.8965</td>\n",
       "      <td>0.52</td>\n",
       "      <td>233.0</td>\n",
       "      <td>465.0</td>\n",
       "      <td>2013.0</td>\n",
       "    </tr>\n",
       "    <tr>\n",
       "      <th>431</th>\n",
       "      <td>NaN</td>\n",
       "      <td>NaN</td>\n",
       "      <td>NaN</td>\n",
       "      <td>27.0</td>\n",
       "      <td>6.7</td>\n",
       "      <td>7.3</td>\n",
       "      <td>198.0</td>\n",
       "      <td>1.8965</td>\n",
       "      <td>0.52</td>\n",
       "      <td>233.0</td>\n",
       "      <td>465.0</td>\n",
       "      <td>2013.0</td>\n",
       "    </tr>\n",
       "  </tbody>\n",
       "</table>\n",
       "</div>"
      ],
      "text/plain": [
       "    STATION CODE LOCATIONS STATE  Temp   DO   PH  Conductivity     BOD    NI  \\\n",
       "260          NaN       NaN   NaN  27.0  6.7  7.3         198.0  1.8965  0.52   \n",
       "431          NaN       NaN   NaN  27.0  6.7  7.3         198.0  1.8965  0.52   \n",
       "\n",
       "     Fec_col  Tot_col    year  \n",
       "260    233.0    465.0  2013.0  \n",
       "431    233.0    465.0  2013.0  "
      ]
     },
     "execution_count": 22,
     "metadata": {},
     "output_type": "execute_result"
    }
   ],
   "source": [
    "# These are the samples which don't contain any attribute\n",
    "# The filled attributes are median of corresponding columns\n",
    "# So it is best to remove them\n",
    "df_null = df_final[(df_final[\"STATION CODE\"].isnull()) & (df_final[\"LOCATIONS\"].isnull()) & (df_final[\"STATE\"].isnull())]\n",
    "df_null_indices = df_null.index\n",
    "df_final.drop(df_null_indices, axis=0, inplace=True)\n",
    "df_null"
   ]
  },
  {
   "cell_type": "code",
   "execution_count": 23,
   "id": "ff154610",
   "metadata": {
    "colab": {
     "base_uri": "https://localhost:8080/"
    },
    "execution": {
     "iopub.execute_input": "2021-09-21T16:06:41.092752Z",
     "iopub.status.busy": "2021-09-21T16:06:41.091836Z",
     "iopub.status.idle": "2021-09-21T16:06:41.095562Z",
     "shell.execute_reply": "2021-09-21T16:06:41.096108Z",
     "shell.execute_reply.started": "2021-09-14T13:36:28.69226Z"
    },
    "id": "ff154610",
    "outputId": "a15659c4-0990-40a2-c73a-e5388d8d2b46",
    "papermill": {
     "duration": 0.060186,
     "end_time": "2021-09-21T16:06:41.096334",
     "exception": false,
     "start_time": "2021-09-21T16:06:41.036148",
     "status": "completed"
    },
    "tags": []
   },
   "outputs": [
    {
     "data": {
      "text/plain": [
       "STATION CODE    0\n",
       "LOCATIONS       0\n",
       "STATE           0\n",
       "Temp            0\n",
       "DO              0\n",
       "PH              0\n",
       "Conductivity    0\n",
       "BOD             0\n",
       "NI              0\n",
       "Fec_col         0\n",
       "Tot_col         0\n",
       "year            0\n",
       "dtype: int64"
      ]
     },
     "execution_count": 23,
     "metadata": {},
     "output_type": "execute_result"
    }
   ],
   "source": [
    "df_final.isnull().sum()"
   ]
  },
  {
   "cell_type": "code",
   "execution_count": 24,
   "id": "a0c9295f",
   "metadata": {
    "colab": {
     "base_uri": "https://localhost:8080/"
    },
    "execution": {
     "iopub.execute_input": "2021-09-21T16:06:41.196130Z",
     "iopub.status.busy": "2021-09-21T16:06:41.195366Z",
     "iopub.status.idle": "2021-09-21T16:06:41.199359Z",
     "shell.execute_reply": "2021-09-21T16:06:41.198791Z",
     "shell.execute_reply.started": "2021-09-14T13:36:28.708106Z"
    },
    "id": "a0c9295f",
    "outputId": "7a007bef-1bbb-409c-e0be-950c27319155",
    "papermill": {
     "duration": 0.056317,
     "end_time": "2021-09-21T16:06:41.199516",
     "exception": false,
     "start_time": "2021-09-21T16:06:41.143199",
     "status": "completed"
    },
    "tags": []
   },
   "outputs": [
    {
     "data": {
      "text/plain": [
       "(1898, 12)"
      ]
     },
     "execution_count": 24,
     "metadata": {},
     "output_type": "execute_result"
    }
   ],
   "source": [
    "df_final.shape"
   ]
  },
  {
   "cell_type": "markdown",
   "id": "2ab5c14b",
   "metadata": {
    "id": "2ab5c14b",
    "papermill": {
     "duration": 0.050403,
     "end_time": "2021-09-21T16:06:41.300645",
     "exception": false,
     "start_time": "2021-09-21T16:06:41.250242",
     "status": "completed"
    },
    "tags": []
   },
   "source": [
    "* The final dataset contains 1898 samples and 12 attributes"
   ]
  },
  {
   "cell_type": "code",
   "execution_count": 25,
   "id": "074e2eab",
   "metadata": {
    "colab": {
     "base_uri": "https://localhost:8080/",
     "height": 1000
    },
    "execution": {
     "iopub.execute_input": "2021-09-21T16:06:41.423874Z",
     "iopub.status.busy": "2021-09-21T16:06:41.423149Z",
     "iopub.status.idle": "2021-09-21T16:06:43.470623Z",
     "shell.execute_reply": "2021-09-21T16:06:43.469987Z",
     "shell.execute_reply.started": "2021-09-14T13:36:28.720606Z"
    },
    "id": "074e2eab",
    "outputId": "51b24fcf-1434-496c-ae49-75647a8f8528",
    "papermill": {
     "duration": 2.121757,
     "end_time": "2021-09-21T16:06:43.470773",
     "exception": false,
     "start_time": "2021-09-21T16:06:41.349016",
     "status": "completed"
    },
    "tags": []
   },
   "outputs": [
    {
     "data": {
      "image/png": "[encoded data removed]",
      "text/plain": [
       "<Figure size 700x500 with 1 Axes>"
      ]
     },
     "metadata": {},
     "output_type": "display_data"
    },
    {
     "data": {
      "image/png": "[encoded data removed]",
      "text/plain": [
       "<Figure size 700x500 with 1 Axes>"
      ]
     },
     "metadata": {},
     "output_type": "display_data"
    },
    {
     "data": {
      "image/png": "[encoded data removed]",
      "text/plain": [
       "<Figure size 700x500 with 1 Axes>"
      ]
     },
     "metadata": {},
     "output_type": "display_data"
    },
    {
     "data": {
      "image/png": "[encoded data removed]",
      "text/plain": [
       "<Figure size 700x500 with 1 Axes>"
      ]
     },
     "metadata": {},
     "output_type": "display_data"
    },
    {
     "data": {
      "image/png": "[encoded data removed]",
      "text/plain": [
       "<Figure size 700x500 with 1 Axes>"
      ]
     },
     "metadata": {},
     "output_type": "display_data"
    },
    {
     "data": {
      "image/png": "[encoded data removed]",
      "text/plain": [
       "<Figure size 700x500 with 1 Axes>"
      ]
     },
     "metadata": {},
     "output_type": "display_data"
    },
    {
     "data": {
      "image/png": "[encoded data removed]",
      "text/plain": [
       "<Figure size 700x500 with 1 Axes>"
      ]
     },
     "metadata": {},
     "output_type": "display_data"
    },
    {
     "data": {
      "image/png": "[encoded data removed]",
      "text/plain": [
       "<Figure size 700x500 with 1 Axes>"
      ]
     },
     "metadata": {},
     "output_type": "display_data"
    },
    {
     "data": {
      "image/png": "[encoded data removed]",
      "text/plain": [
       "<Figure size 700x500 with 1 Axes>"
      ]
     },
     "metadata": {},
     "output_type": "display_data"
    }
   ],
   "source": [
    "# PLotting PDFs of all the numeric attributes in the dataset\n",
    "\n",
    "df_num_final = df_final.select_dtypes(exclude=\"object\")\n",
    "\n",
    "def plot_kde(df):\n",
    "    n_col = df.shape[1]\n",
    "    for index in range(n_col):\n",
    "        col_index = df.iloc[:, index]\n",
    "        fig, ax = plt.subplots(1,1, figsize=(7, 5))\n",
    "        sns.kdeplot(data=df, x=col_index.name)\n",
    "        \n",
    "plot_kde(df_num_final)"
   ]
  },
  {
   "cell_type": "code",
   "execution_count": 26,
   "id": "c98fcbe7",
   "metadata": {
    "colab": {
     "base_uri": "https://localhost:8080/",
     "height": 606
    },
    "execution": {
     "iopub.execute_input": "2021-09-21T16:06:43.582471Z",
     "iopub.status.busy": "2021-09-21T16:06:43.581686Z",
     "iopub.status.idle": "2021-09-21T16:06:43.622785Z",
     "shell.execute_reply": "2021-09-21T16:06:43.622142Z",
     "shell.execute_reply.started": "2021-09-14T13:36:30.5691Z"
    },
    "id": "c98fcbe7",
    "outputId": "163b61cd-eb74-48ec-9a2f-ad33e89b475c",
    "papermill": {
     "duration": 0.097579,
     "end_time": "2021-09-21T16:06:43.622934",
     "exception": false,
     "start_time": "2021-09-21T16:06:43.525355",
     "status": "completed"
    },
    "tags": []
   },
   "outputs": [
    {
     "name": "stdout",
     "output_type": "stream",
     "text": [
      "Number of outliers using Z-Score method- 125\n"
     ]
    },
    {
     "data": {
      "text/html": [
       "<div>\n",
       "<style scoped>\n",
       "    .dataframe tbody tr th:only-of-type {\n",
       "        vertical-align: middle;\n",
       "    }\n",
       "\n",
       "    .dataframe tbody tr th {\n",
       "        vertical-align: top;\n",
       "    }\n",
       "\n",
       "    .dataframe thead th {\n",
       "        text-align: right;\n",
       "    }\n",
       "</style>\n",
       "<table border=\"1\" class=\"dataframe\">\n",
       "  <thead>\n",
       "    <tr style=\"text-align: right;\">\n",
       "      <th></th>\n",
       "      <th>STATION CODE</th>\n",
       "      <th>LOCATIONS</th>\n",
       "      <th>STATE</th>\n",
       "      <th>Temp</th>\n",
       "      <th>DO</th>\n",
       "      <th>PH</th>\n",
       "      <th>Conductivity</th>\n",
       "      <th>BOD</th>\n",
       "      <th>NI</th>\n",
       "      <th>Fec_col</th>\n",
       "      <th>Tot_col</th>\n",
       "      <th>year</th>\n",
       "    </tr>\n",
       "  </thead>\n",
       "  <tbody>\n",
       "    <tr>\n",
       "      <th>741</th>\n",
       "      <td>2880</td>\n",
       "      <td>NAMBUL RIVER AT BISHNUPUR</td>\n",
       "      <td>MANIPUR</td>\n",
       "      <td>28.0</td>\n",
       "      <td>8.2</td>\n",
       "      <td>7.6</td>\n",
       "      <td>112.0</td>\n",
       "      <td>2.1</td>\n",
       "      <td>0.52</td>\n",
       "      <td>233.0</td>\n",
       "      <td>31.0</td>\n",
       "      <td>2012.0</td>\n",
       "    </tr>\n",
       "    <tr>\n",
       "      <th>745</th>\n",
       "      <td>2856</td>\n",
       "      <td>THOUBAL RIVER AT YAIRIPOK, THOUBAL</td>\n",
       "      <td>MANIPUR</td>\n",
       "      <td>30.0</td>\n",
       "      <td>9.3</td>\n",
       "      <td>7.6</td>\n",
       "      <td>193.0</td>\n",
       "      <td>2.3</td>\n",
       "      <td>0.52</td>\n",
       "      <td>233.0</td>\n",
       "      <td>41.0</td>\n",
       "      <td>2012.0</td>\n",
       "    </tr>\n",
       "    <tr>\n",
       "      <th>37</th>\n",
       "      <td>2671</td>\n",
       "      <td>KUNDALIKA RIVER NEAR SALAV BRIDGE (SALINA ZONE...</td>\n",
       "      <td>MAHARASHTRA</td>\n",
       "      <td>25.3</td>\n",
       "      <td>5.3</td>\n",
       "      <td>7.7</td>\n",
       "      <td>24062.0</td>\n",
       "      <td>9.9</td>\n",
       "      <td>1.20</td>\n",
       "      <td>156.0</td>\n",
       "      <td>304.0</td>\n",
       "      <td>2014.0</td>\n",
       "    </tr>\n",
       "    <tr>\n",
       "      <th>88</th>\n",
       "      <td>2294</td>\n",
       "      <td>R KALLAI AT KALLAI BRIDGE</td>\n",
       "      <td>KERALA</td>\n",
       "      <td>26.3</td>\n",
       "      <td>3.7</td>\n",
       "      <td>7.7</td>\n",
       "      <td>32005.0</td>\n",
       "      <td>1.2</td>\n",
       "      <td>0.90</td>\n",
       "      <td>40000.0</td>\n",
       "      <td>60392.0</td>\n",
       "      <td>2014.0</td>\n",
       "    </tr>\n",
       "    <tr>\n",
       "      <th>108</th>\n",
       "      <td>2304</td>\n",
       "      <td>R MOGRAL AT MOGRAL BR.</td>\n",
       "      <td>KERALA</td>\n",
       "      <td>30.0</td>\n",
       "      <td>5.6</td>\n",
       "      <td>7.2</td>\n",
       "      <td>24360.0</td>\n",
       "      <td>2.1</td>\n",
       "      <td>0.30</td>\n",
       "      <td>92.0</td>\n",
       "      <td>447.0</td>\n",
       "      <td>2014.0</td>\n",
       "    </tr>\n",
       "    <tr>\n",
       "      <th>...</th>\n",
       "      <td>...</td>\n",
       "      <td>...</td>\n",
       "      <td>...</td>\n",
       "      <td>...</td>\n",
       "      <td>...</td>\n",
       "      <td>...</td>\n",
       "      <td>...</td>\n",
       "      <td>...</td>\n",
       "      <td>...</td>\n",
       "      <td>...</td>\n",
       "      <td>...</td>\n",
       "      <td>...</td>\n",
       "    </tr>\n",
       "    <tr>\n",
       "      <th>432</th>\n",
       "      <td>1023</td>\n",
       "      <td>GHAGGAR AT MUBARAKPUR REST HOUSE (PATIALA), PU...</td>\n",
       "      <td>PUNJAB</td>\n",
       "      <td>23.3</td>\n",
       "      <td>5.5</td>\n",
       "      <td>7.2</td>\n",
       "      <td>636.0</td>\n",
       "      <td>9.7</td>\n",
       "      <td>4.00</td>\n",
       "      <td>1328.0</td>\n",
       "      <td>4975.0</td>\n",
       "      <td>2013.0</td>\n",
       "    </tr>\n",
       "    <tr>\n",
       "      <th>685</th>\n",
       "      <td>1023</td>\n",
       "      <td>GHAGGAR AT MUBARAKPUR REST HOUSE (PATIALA)</td>\n",
       "      <td>PUNJAB</td>\n",
       "      <td>21.0</td>\n",
       "      <td>5.5</td>\n",
       "      <td>7.4</td>\n",
       "      <td>635.0</td>\n",
       "      <td>8.8</td>\n",
       "      <td>5.08</td>\n",
       "      <td>1400.0</td>\n",
       "      <td>5500.0</td>\n",
       "      <td>2012.0</td>\n",
       "    </tr>\n",
       "    <tr>\n",
       "      <th>172</th>\n",
       "      <td>3023</td>\n",
       "      <td>VASISTA AT SALEM, D/S OF SAGO INDUSRIES EFFLUE...</td>\n",
       "      <td>TAMILNADU</td>\n",
       "      <td>24.3</td>\n",
       "      <td>0.9</td>\n",
       "      <td>7.6</td>\n",
       "      <td>2039.0</td>\n",
       "      <td>104.5</td>\n",
       "      <td>0.90</td>\n",
       "      <td>272521616.0</td>\n",
       "      <td>511090873.0</td>\n",
       "      <td>2014.0</td>\n",
       "    </tr>\n",
       "    <tr>\n",
       "      <th>432</th>\n",
       "      <td>1023</td>\n",
       "      <td>GHAGGAR AT MUBARAKPUR REST HOUSE (PATIALA), PU...</td>\n",
       "      <td>PUNJAB</td>\n",
       "      <td>23.3</td>\n",
       "      <td>5.5</td>\n",
       "      <td>7.2</td>\n",
       "      <td>636.0</td>\n",
       "      <td>9.7</td>\n",
       "      <td>4.00</td>\n",
       "      <td>1328.0</td>\n",
       "      <td>4975.0</td>\n",
       "      <td>2013.0</td>\n",
       "    </tr>\n",
       "    <tr>\n",
       "      <th>685</th>\n",
       "      <td>1023</td>\n",
       "      <td>GHAGGAR AT MUBARAKPUR REST HOUSE (PATIALA)</td>\n",
       "      <td>PUNJAB</td>\n",
       "      <td>21.0</td>\n",
       "      <td>5.5</td>\n",
       "      <td>7.4</td>\n",
       "      <td>635.0</td>\n",
       "      <td>8.8</td>\n",
       "      <td>5.08</td>\n",
       "      <td>1400.0</td>\n",
       "      <td>5500.0</td>\n",
       "      <td>2012.0</td>\n",
       "    </tr>\n",
       "  </tbody>\n",
       "</table>\n",
       "<p>125 rows × 12 columns</p>\n",
       "</div>"
      ],
      "text/plain": [
       "    STATION CODE                                          LOCATIONS  \\\n",
       "741         2880                          NAMBUL RIVER AT BISHNUPUR   \n",
       "745         2856                 THOUBAL RIVER AT YAIRIPOK, THOUBAL   \n",
       "37          2671  KUNDALIKA RIVER NEAR SALAV BRIDGE (SALINA ZONE...   \n",
       "88          2294                          R KALLAI AT KALLAI BRIDGE   \n",
       "108         2304                             R MOGRAL AT MOGRAL BR.   \n",
       "..           ...                                                ...   \n",
       "432         1023  GHAGGAR AT MUBARAKPUR REST HOUSE (PATIALA), PU...   \n",
       "685         1023         GHAGGAR AT MUBARAKPUR REST HOUSE (PATIALA)   \n",
       "172         3023  VASISTA AT SALEM, D/S OF SAGO INDUSRIES EFFLUE...   \n",
       "432         1023  GHAGGAR AT MUBARAKPUR REST HOUSE (PATIALA), PU...   \n",
       "685         1023         GHAGGAR AT MUBARAKPUR REST HOUSE (PATIALA)   \n",
       "\n",
       "           STATE  Temp   DO   PH  Conductivity    BOD    NI      Fec_col  \\\n",
       "741      MANIPUR  28.0  8.2  7.6         112.0    2.1  0.52        233.0   \n",
       "745      MANIPUR  30.0  9.3  7.6         193.0    2.3  0.52        233.0   \n",
       "37   MAHARASHTRA  25.3  5.3  7.7       24062.0    9.9  1.20        156.0   \n",
       "88        KERALA  26.3  3.7  7.7       32005.0    1.2  0.90      40000.0   \n",
       "108       KERALA  30.0  5.6  7.2       24360.0    2.1  0.30         92.0   \n",
       "..           ...   ...  ...  ...           ...    ...   ...          ...   \n",
       "432       PUNJAB  23.3  5.5  7.2         636.0    9.7  4.00       1328.0   \n",
       "685       PUNJAB  21.0  5.5  7.4         635.0    8.8  5.08       1400.0   \n",
       "172    TAMILNADU  24.3  0.9  7.6        2039.0  104.5  0.90  272521616.0   \n",
       "432       PUNJAB  23.3  5.5  7.2         636.0    9.7  4.00       1328.0   \n",
       "685       PUNJAB  21.0  5.5  7.4         635.0    8.8  5.08       1400.0   \n",
       "\n",
       "         Tot_col    year  \n",
       "741         31.0  2012.0  \n",
       "745         41.0  2012.0  \n",
       "37         304.0  2014.0  \n",
       "88       60392.0  2014.0  \n",
       "108        447.0  2014.0  \n",
       "..           ...     ...  \n",
       "432       4975.0  2013.0  \n",
       "685       5500.0  2012.0  \n",
       "172  511090873.0  2014.0  \n",
       "432       4975.0  2013.0  \n",
       "685       5500.0  2012.0  \n",
       "\n",
       "[125 rows x 12 columns]"
      ]
     },
     "execution_count": 26,
     "metadata": {},
     "output_type": "execute_result"
    }
   ],
   "source": [
    "# Here, almost all kde plots are Gaussian Like \n",
    "# Using Z-Score Normalization to detect outliers\n",
    "\n",
    "df_num_final_norm = zscore(df_num_final, axis=0)\n",
    "\n",
    "\n",
    "def indices_of_greater_than_3(df_norm):\n",
    "    indices_arr = []\n",
    "    n_col = df_norm.shape[1]\n",
    "    for index in range(n_col):\n",
    "        col_index = df_norm.iloc[: ,index]\n",
    "        greater_than_3 = df_norm[col_index > 3]\n",
    "        greater_than_3_index = greater_than_3.index\n",
    "        indices_arr.extend(greater_than_3_index)\n",
    "    return indices_arr\n",
    "\n",
    "indices_arr = indices_of_greater_than_3(df_num_final_norm)\n",
    "print(\"Number of outliers using Z-Score method-\",len(indices_arr))\n",
    "df_final.iloc[indices_arr, :]"
   ]
  },
  {
   "cell_type": "code",
   "execution_count": 27,
   "id": "df48a9ed",
   "metadata": {
    "colab": {
     "base_uri": "https://localhost:8080/"
    },
    "execution": {
     "iopub.execute_input": "2021-09-21T16:06:43.738525Z",
     "iopub.status.busy": "2021-09-21T16:06:43.737856Z",
     "iopub.status.idle": "2021-09-21T16:06:43.743470Z",
     "shell.execute_reply": "2021-09-21T16:06:43.742862Z",
     "shell.execute_reply.started": "2021-09-14T13:36:30.6135Z"
    },
    "id": "df48a9ed",
    "outputId": "d4f160ee-a046-4d49-aac4-679d60046fd3",
    "papermill": {
     "duration": 0.064876,
     "end_time": "2021-09-21T16:06:43.743611",
     "exception": false,
     "start_time": "2021-09-21T16:06:43.678735",
     "status": "completed"
    },
    "tags": []
   },
   "outputs": [
    {
     "data": {
      "text/plain": [
       "(1785, 12)"
      ]
     },
     "execution_count": 27,
     "metadata": {},
     "output_type": "execute_result"
    }
   ],
   "source": [
    "df_final.drop(indices_arr, axis=0, inplace=True)\n",
    "df_final.shape"
   ]
  },
  {
   "cell_type": "code",
   "execution_count": 28,
   "id": "42305901",
   "metadata": {
    "colab": {
     "base_uri": "https://localhost:8080/",
     "height": 1000
    },
    "execution": {
     "iopub.execute_input": "2021-09-21T16:06:43.876156Z",
     "iopub.status.busy": "2021-09-21T16:06:43.875435Z",
     "iopub.status.idle": "2021-09-21T16:06:45.822554Z",
     "shell.execute_reply": "2021-09-21T16:06:45.821897Z",
     "shell.execute_reply.started": "2021-09-14T13:36:30.62653Z"
    },
    "id": "42305901",
    "outputId": "4fd4df8b-a698-4257-ee20-35975ce73e13",
    "papermill": {
     "duration": 2.024221,
     "end_time": "2021-09-21T16:06:45.822732",
     "exception": false,
     "start_time": "2021-09-21T16:06:43.798511",
     "status": "completed"
    },
    "tags": []
   },
   "outputs": [
    {
     "data": {
      "image/png": "[encoded data removed]",
      "text/plain": [
       "<Figure size 700x500 with 1 Axes>"
      ]
     },
     "metadata": {},
     "output_type": "display_data"
    },
    {
     "data": {
      "image/png": "[encoded data removed]",
      "text/plain": [
       "<Figure size 700x500 with 1 Axes>"
      ]
     },
     "metadata": {},
     "output_type": "display_data"
    },
    {
     "data": {
      "image/png": "[encoded data removed]",
      "text/plain": [
       "<Figure size 700x500 with 1 Axes>"
      ]
     },
     "metadata": {},
     "output_type": "display_data"
    },
    {
     "data": {
      "image/png": "[encoded data removed]",
      "text/plain": [
       "<Figure size 700x500 with 1 Axes>"
      ]
     },
     "metadata": {},
     "output_type": "display_data"
    },
    {
     "data": {
      "image/png": "[encoded data removed]",
      "text/plain": [
       "<Figure size 700x500 with 1 Axes>"
      ]
     },
     "metadata": {},
     "output_type": "display_data"
    },
    {
     "data": {
      "image/png": "[encoded data removed]",
      "text/plain": [
       "<Figure size 700x500 with 1 Axes>"
      ]
     },
     "metadata": {},
     "output_type": "display_data"
    },
    {
     "data": {
      "image/png": "[encoded data removed]",
      "text/plain": [
       "<Figure size 700x500 with 1 Axes>"
      ]
     },
     "metadata": {},
     "output_type": "display_data"
    },
    {
     "data": {
      "image/png": "[encoded data removed]",
      "text/plain": [
       "<Figure size 700x500 with 1 Axes>"
      ]
     },
     "metadata": {},
     "output_type": "display_data"
    },
    {
     "data": {
      "image/png": "[encoded data removed]",
      "text/plain": [
       "<Figure size 700x500 with 1 Axes>"
      ]
     },
     "metadata": {},
     "output_type": "display_data"
    }
   ],
   "source": [
    "# KDE plots after removal of outliers\n",
    "plot_kde(df_final.select_dtypes(exclude=\"object\"))"
   ]
  },
  {
   "cell_type": "markdown",
   "id": "bed1fcdf",
   "metadata": {
    "id": "bed1fcdf",
    "papermill": {
     "duration": 0.062228,
     "end_time": "2021-09-21T16:06:45.948456",
     "exception": false,
     "start_time": "2021-09-21T16:06:45.886228",
     "status": "completed"
    },
    "tags": []
   },
   "source": [
    "## Water Quality Index Calculation\n",
    "\n",
    "I will be using \"Weighted Arithmetic Water Quality Index Method\" to calculate WQI of each water sample. The formula to calculate WQI is - \n",
    "\n",
    "**WQI = ∑ qi × wi / ∑ wi**\n",
    "\n",
    "Here wi - Unit weight of ith parameter\n",
    "\n",
    "     qi - Quality estimate scale of each parameter, it is calculated with the formula - \n",
    "\n",
    "**qi = 100 × ( Vi − VIdeal / Si − VIdeal )**\n",
    "\n",
    "Here Vi - Measured value of ith parameter\n",
    "\n",
    "     Videal - Ideal value of ith parameter in pure water\n",
    "     \n",
    "     Si - Standard value recommended for ith parameter\n",
    "\n",
    "wi is calculated by the formula - \n",
    "\n",
    "**wi = K /  Si**\n",
    "\n",
    "Here K is proportionality constant which is - \n",
    "\n",
    " **K = 1 /  ∑ Si**"
   ]
  },
  {
   "cell_type": "markdown",
   "id": "9235a75d",
   "metadata": {
    "id": "9235a75d",
    "papermill": {
     "duration": 0.062479,
     "end_time": "2021-09-21T16:06:46.074303",
     "exception": false,
     "start_time": "2021-09-21T16:06:46.011824",
     "status": "completed"
    },
    "tags": []
   },
   "source": [
    "##### Standard value recommended for parameters (Si) - \n",
    "\n",
    "Dissolved oxygen, mg/L               10\n",
    "\n",
    "pH                                   8.5\n",
    "\n",
    "Conductivity, µS/cm                  1000\n",
    "\n",
    "Biological oxygen demand, mg/L       5\n",
    "\n",
    "Nitrate, mg/L                        45\n",
    "\n",
    "Fecal coliform/100 mL                100\n",
    "\n",
    "Total coliform/100 mL                1000"
   ]
  },
  {
   "cell_type": "markdown",
   "id": "81369832",
   "metadata": {
    "id": "81369832",
    "papermill": {
     "duration": 0.06218,
     "end_time": "2021-09-21T16:06:46.199590",
     "exception": false,
     "start_time": "2021-09-21T16:06:46.137410",
     "status": "completed"
    },
    "tags": []
   },
   "source": [
    "##### Values of unit weights for each parameter (wi) - \n",
    "\n",
    "Dissolved Oxygen                     0.2213\n",
    "\n",
    "pH                                   0.2604\n",
    "\n",
    "Conductivity                         0.0022\n",
    "\n",
    "Biological Oxygen Demand             0.4426\n",
    "\n",
    "Nitrate                              0.0492\n",
    "\n",
    "Fecal Coliform                       0.0221\n",
    "\n",
    "Total Coliform                       0.0022"
   ]
  },
  {
   "cell_type": "markdown",
   "id": "9f5a638d",
   "metadata": {
    "id": "9f5a638d",
    "papermill": {
     "duration": 0.063473,
     "end_time": "2021-09-21T16:06:46.328570",
     "exception": false,
     "start_time": "2021-09-21T16:06:46.265097",
     "status": "completed"
    },
    "tags": []
   },
   "source": [
    "##### Ideal value of parameters (Videal) - \n",
    "\n",
    "Dissolved Oxygen                     14.6\n",
    "\n",
    "pH                                   7.0\n",
    "\n",
    "Conductivity                         0\n",
    "\n",
    "Biological Oxygen Demand             0\n",
    "\n",
    "Nitrate                              0\n",
    "\n",
    "Fecal Coliform                       0\n",
    "\n",
    "Total Coliform                       0"
   ]
  },
  {
   "cell_type": "code",
   "execution_count": 29,
   "id": "68024503",
   "metadata": {
    "execution": {
     "iopub.execute_input": "2021-09-21T16:06:46.469170Z",
     "iopub.status.busy": "2021-09-21T16:06:46.468206Z",
     "iopub.status.idle": "2021-09-21T16:06:46.471062Z",
     "shell.execute_reply": "2021-09-21T16:06:46.470488Z",
     "shell.execute_reply.started": "2021-09-14T13:36:32.352844Z"
    },
    "id": "68024503",
    "papermill": {
     "duration": 0.078316,
     "end_time": "2021-09-21T16:06:46.471214",
     "exception": false,
     "start_time": "2021-09-21T16:06:46.392898",
     "status": "completed"
    },
    "tags": []
   },
   "outputs": [],
   "source": [
    "# Calculating Water Quality Index of each sample\n",
    "df_num_final = df_final.select_dtypes(exclude=\"object\")\n",
    "# Dropping year and Temp attribute because they are not used for computing WQI\n",
    "df_num_final.drop([\"year\", \"Temp\"], axis=1, inplace=True)\n",
    "\n",
    "# Weight Vector(wi)\n",
    "wi = np.array([0.2213, 0.2604, 0.0022, 0.4426, 0.0492, 0.0221, 0.0022])\n",
    "\n",
    "# Standard values of parameters(si)\n",
    "si = np.array([10, 8.5, 1000, 5, 45, 100, 1000])\n",
    "\n",
    "# Ideal values of paramters(vIdeal)\n",
    "vIdeal = np.array([14.6, 7, 0, 0, 0, 0, 0])\n",
    "\n",
    "def calc_wqi(sample):\n",
    "    wqi_sample = 0\n",
    "    num_col = 7\n",
    "    for index in range(num_col):\n",
    "        v_index = sample[index] # Obeserved value of sample at index\n",
    "        v_index_ideal = vIdeal[index] # Ideal value of obeserved value\n",
    "        w_index = wi[index] # weight of corresponding parameter of obeserved value\n",
    "        std_index = si[index] # Standard value recommended for obeserved value\n",
    "        q_index = (v_index - v_index_ideal) / (std_index - v_index_ideal)\n",
    "        q_index = q_index * 100 # Final qi value of obeserved value\n",
    "        wqi_sample += q_index*w_index\n",
    "    return wqi_sample"
   ]
  },
  {
   "cell_type": "code",
   "execution_count": 30,
   "id": "a070ebe8",
   "metadata": {
    "execution": {
     "iopub.execute_input": "2021-09-21T16:06:46.604536Z",
     "iopub.status.busy": "2021-09-21T16:06:46.603842Z",
     "iopub.status.idle": "2021-09-21T16:06:46.605773Z",
     "shell.execute_reply": "2021-09-21T16:06:46.606408Z",
     "shell.execute_reply.started": "2021-09-14T13:36:32.368701Z"
    },
    "id": "a070ebe8",
    "papermill": {
     "duration": 0.071881,
     "end_time": "2021-09-21T16:06:46.606594",
     "exception": false,
     "start_time": "2021-09-21T16:06:46.534713",
     "status": "completed"
    },
    "tags": []
   },
   "outputs": [],
   "source": [
    "# Computing WQI for the whole dataset\n",
    "def calc_wqi_for_df(df):\n",
    "    wqi_arr = []\n",
    "    for index in range(df.shape[0]):\n",
    "        index_row = df.iloc[index, :]\n",
    "        wqi_row = calc_wqi(index_row)\n",
    "        wqi_arr.append(wqi_row)\n",
    "    return wqi_arr"
   ]
  },
  {
   "cell_type": "code",
   "execution_count": 31,
   "id": "917dfed5",
   "metadata": {
    "execution": {
     "iopub.execute_input": "2021-09-21T16:06:46.747577Z",
     "iopub.status.busy": "2021-09-21T16:06:46.736605Z",
     "iopub.status.idle": "2021-09-21T16:06:47.039491Z",
     "shell.execute_reply": "2021-09-21T16:06:47.038891Z",
     "shell.execute_reply.started": "2021-09-14T13:36:32.378509Z"
    },
    "id": "917dfed5",
    "papermill": {
     "duration": 0.36995,
     "end_time": "2021-09-21T16:06:47.039786",
     "exception": false,
     "start_time": "2021-09-21T16:06:46.669836",
     "status": "completed"
    },
    "tags": []
   },
   "outputs": [],
   "source": [
    "wqi_arr = calc_wqi_for_df(df_num_final)\n",
    "# Converting oridnary array to numpy array\n",
    "wqi_arr = np.array(wqi_arr)\n",
    "wqi_arr = np.reshape(wqi_arr, (-1, 1))\n",
    "\n",
    "# Resetting index values of the dataframes\n",
    "wqi_arr_df = pd.DataFrame(wqi_arr, columns=[\"WQI\"]).reset_index()\n",
    "df_final = df_final.reset_index()"
   ]
  },
  {
   "cell_type": "code",
   "execution_count": 32,
   "id": "76e22860",
   "metadata": {
    "colab": {
     "base_uri": "https://localhost:8080/"
    },
    "execution": {
     "iopub.execute_input": "2021-09-21T16:06:47.174431Z",
     "iopub.status.busy": "2021-09-21T16:06:47.173554Z",
     "iopub.status.idle": "2021-09-21T16:06:47.179230Z",
     "shell.execute_reply": "2021-09-21T16:06:47.179862Z",
     "shell.execute_reply.started": "2021-09-14T13:36:32.632886Z"
    },
    "id": "76e22860",
    "outputId": "d57ae9fc-7d93-45ba-859f-24ef6715fa53",
    "papermill": {
     "duration": 0.075109,
     "end_time": "2021-09-21T16:06:47.180052",
     "exception": false,
     "start_time": "2021-09-21T16:06:47.104943",
     "status": "completed"
    },
    "tags": []
   },
   "outputs": [
    {
     "data": {
      "text/plain": [
       "(1785, 13)"
      ]
     },
     "execution_count": 32,
     "metadata": {},
     "output_type": "execute_result"
    }
   ],
   "source": [
    "# Combining dataframe of WQI and dataframe of attributes \n",
    "df_wqi = pd.concat([df_final, pd.DataFrame(wqi_arr, columns=[\"WQI\"])], axis=1)\n",
    "df_wqi.drop(\"index\", axis=1, inplace=True)\n",
    "df_wqi.shape"
   ]
  },
  {
   "cell_type": "code",
   "execution_count": 33,
   "id": "1ecbc44e",
   "metadata": {
    "colab": {
     "base_uri": "https://localhost:8080/",
     "height": 319
    },
    "execution": {
     "iopub.execute_input": "2021-09-21T16:06:47.310347Z",
     "iopub.status.busy": "2021-09-21T16:06:47.309614Z",
     "iopub.status.idle": "2021-09-21T16:06:47.333246Z",
     "shell.execute_reply": "2021-09-21T16:06:47.332678Z",
     "shell.execute_reply.started": "2021-09-14T13:36:32.645849Z"
    },
    "id": "1ecbc44e",
    "outputId": "c466995b-4379-4baf-e00a-4cf985d5d076",
    "papermill": {
     "duration": 0.090457,
     "end_time": "2021-09-21T16:06:47.333421",
     "exception": false,
     "start_time": "2021-09-21T16:06:47.242964",
     "status": "completed"
    },
    "tags": []
   },
   "outputs": [
    {
     "data": {
      "text/html": [
       "<div>\n",
       "<style scoped>\n",
       "    .dataframe tbody tr th:only-of-type {\n",
       "        vertical-align: middle;\n",
       "    }\n",
       "\n",
       "    .dataframe tbody tr th {\n",
       "        vertical-align: top;\n",
       "    }\n",
       "\n",
       "    .dataframe thead th {\n",
       "        text-align: right;\n",
       "    }\n",
       "</style>\n",
       "<table border=\"1\" class=\"dataframe\">\n",
       "  <thead>\n",
       "    <tr style=\"text-align: right;\">\n",
       "      <th></th>\n",
       "      <th>STATION CODE</th>\n",
       "      <th>LOCATIONS</th>\n",
       "      <th>STATE</th>\n",
       "      <th>Temp</th>\n",
       "      <th>DO</th>\n",
       "      <th>PH</th>\n",
       "      <th>Conductivity</th>\n",
       "      <th>BOD</th>\n",
       "      <th>NI</th>\n",
       "      <th>Fec_col</th>\n",
       "      <th>Tot_col</th>\n",
       "      <th>year</th>\n",
       "      <th>WQI</th>\n",
       "    </tr>\n",
       "  </thead>\n",
       "  <tbody>\n",
       "    <tr>\n",
       "      <th>196</th>\n",
       "      <td>3375</td>\n",
       "      <td>LUKHA RIVER AT MYNDIHATI (TRIBUTARY OF LUNAR)</td>\n",
       "      <td>MEGHALAYA</td>\n",
       "      <td>20.5</td>\n",
       "      <td>6.7</td>\n",
       "      <td>2.7</td>\n",
       "      <td>1350.0</td>\n",
       "      <td>3.3000</td>\n",
       "      <td>1.10</td>\n",
       "      <td>7.0</td>\n",
       "      <td>16.0</td>\n",
       "      <td>2014.0</td>\n",
       "      <td>-6.855044</td>\n",
       "    </tr>\n",
       "    <tr>\n",
       "      <th>231</th>\n",
       "      <td>2</td>\n",
       "      <td>DAMANGANGA AT D/S OF MADHUBAN, DAMAN</td>\n",
       "      <td>DAMAN &amp; DIU</td>\n",
       "      <td>27.0</td>\n",
       "      <td>6.7</td>\n",
       "      <td>0.0</td>\n",
       "      <td>208.0</td>\n",
       "      <td>1.8965</td>\n",
       "      <td>0.52</td>\n",
       "      <td>233.0</td>\n",
       "      <td>465.0</td>\n",
       "      <td>2013.0</td>\n",
       "      <td>-61.372099</td>\n",
       "    </tr>\n",
       "    <tr>\n",
       "      <th>234</th>\n",
       "      <td>1865</td>\n",
       "      <td>RIVER DHADAR AT KOTHADA</td>\n",
       "      <td>GUJARAT</td>\n",
       "      <td>27.0</td>\n",
       "      <td>6.7</td>\n",
       "      <td>0.0</td>\n",
       "      <td>506.0</td>\n",
       "      <td>1.8965</td>\n",
       "      <td>6.00</td>\n",
       "      <td>26.0</td>\n",
       "      <td>227.0</td>\n",
       "      <td>2013.0</td>\n",
       "      <td>-65.334452</td>\n",
       "    </tr>\n",
       "    <tr>\n",
       "      <th>446</th>\n",
       "      <td>3375</td>\n",
       "      <td>LUKHA RIVER</td>\n",
       "      <td>MEGHALAYA</td>\n",
       "      <td>21.3</td>\n",
       "      <td>6.8</td>\n",
       "      <td>2.7</td>\n",
       "      <td>1074.0</td>\n",
       "      <td>3.2000</td>\n",
       "      <td>2.33</td>\n",
       "      <td>4.0</td>\n",
       "      <td>11.0</td>\n",
       "      <td>2013.0</td>\n",
       "      <td>-8.214971</td>\n",
       "    </tr>\n",
       "    <tr>\n",
       "      <th>719</th>\n",
       "      <td>3375</td>\n",
       "      <td>LUKHA RIVER AT MYNDIHATI (TRIBUTARY OF LUNAR)</td>\n",
       "      <td>MEGHALAYA</td>\n",
       "      <td>25.0</td>\n",
       "      <td>6.9</td>\n",
       "      <td>2.6</td>\n",
       "      <td>1072.0</td>\n",
       "      <td>3.2000</td>\n",
       "      <td>1.17</td>\n",
       "      <td>3.0</td>\n",
       "      <td>21.0</td>\n",
       "      <td>2012.0</td>\n",
       "      <td>-10.579224</td>\n",
       "    </tr>\n",
       "  </tbody>\n",
       "</table>\n",
       "</div>"
      ],
      "text/plain": [
       "    STATION CODE                                      LOCATIONS        STATE  \\\n",
       "196         3375  LUKHA RIVER AT MYNDIHATI (TRIBUTARY OF LUNAR)    MEGHALAYA   \n",
       "231            2           DAMANGANGA AT D/S OF MADHUBAN, DAMAN  DAMAN & DIU   \n",
       "234         1865                        RIVER DHADAR AT KOTHADA      GUJARAT   \n",
       "446         3375                                    LUKHA RIVER    MEGHALAYA   \n",
       "719         3375  LUKHA RIVER AT MYNDIHATI (TRIBUTARY OF LUNAR)    MEGHALAYA   \n",
       "\n",
       "     Temp   DO   PH  Conductivity     BOD    NI  Fec_col  Tot_col    year  \\\n",
       "196  20.5  6.7  2.7        1350.0  3.3000  1.10      7.0     16.0  2014.0   \n",
       "231  27.0  6.7  0.0         208.0  1.8965  0.52    233.0    465.0  2013.0   \n",
       "234  27.0  6.7  0.0         506.0  1.8965  6.00     26.0    227.0  2013.0   \n",
       "446  21.3  6.8  2.7        1074.0  3.2000  2.33      4.0     11.0  2013.0   \n",
       "719  25.0  6.9  2.6        1072.0  3.2000  1.17      3.0     21.0  2012.0   \n",
       "\n",
       "           WQI  \n",
       "196  -6.855044  \n",
       "231 -61.372099  \n",
       "234 -65.334452  \n",
       "446  -8.214971  \n",
       "719 -10.579224  "
      ]
     },
     "execution_count": 33,
     "metadata": {},
     "output_type": "execute_result"
    }
   ],
   "source": [
    "# These are samples with negative WQI\n",
    "df_wqi[(df_wqi[\"WQI\"] < 0)]"
   ]
  },
  {
   "cell_type": "code",
   "execution_count": 34,
   "id": "7be48c8e",
   "metadata": {
    "execution": {
     "iopub.execute_input": "2021-09-21T16:06:47.470223Z",
     "iopub.status.busy": "2021-09-21T16:06:47.469367Z",
     "iopub.status.idle": "2021-09-21T16:06:47.472989Z",
     "shell.execute_reply": "2021-09-21T16:06:47.472444Z",
     "shell.execute_reply.started": "2021-09-14T13:36:32.671484Z"
    },
    "id": "7be48c8e",
    "papermill": {
     "duration": 0.074072,
     "end_time": "2021-09-21T16:06:47.473148",
     "exception": false,
     "start_time": "2021-09-21T16:06:47.399076",
     "status": "completed"
    },
    "tags": []
   },
   "outputs": [],
   "source": [
    "# Removing the samples with negative WQI\n",
    "df_neg_indices = df_wqi[(df_wqi[\"WQI\"] < 0)].index\n",
    "df_wqi.drop(df_neg_indices, axis=0, inplace=True)"
   ]
  },
  {
   "cell_type": "markdown",
   "id": "c5827a17",
   "metadata": {
    "id": "c5827a17",
    "papermill": {
     "duration": 0.063964,
     "end_time": "2021-09-21T16:06:47.600424",
     "exception": false,
     "start_time": "2021-09-21T16:06:47.536460",
     "status": "completed"
    },
    "tags": []
   },
   "source": [
    "Now I will set level of water contamination based on WQI -\n",
    "\n",
    "          WQI Range                   Classification\n",
    "\n",
    "         Less than 25                  Excellent(3)\n",
    "            26–50                         Good(2)\n",
    "            51-75                         Poor(1)\n",
    "        Greater than 75                 Very Poor(0)"
   ]
  },
  {
   "cell_type": "code",
   "execution_count": 35,
   "id": "39e3ec0b",
   "metadata": {
    "execution": {
     "iopub.execute_input": "2021-09-21T16:06:47.737037Z",
     "iopub.status.busy": "2021-09-21T16:06:47.736330Z",
     "iopub.status.idle": "2021-09-21T16:06:47.739029Z",
     "shell.execute_reply": "2021-09-21T16:06:47.738446Z",
     "shell.execute_reply.started": "2021-09-14T13:36:32.686376Z"
    },
    "id": "39e3ec0b",
    "papermill": {
     "duration": 0.075269,
     "end_time": "2021-09-21T16:06:47.739189",
     "exception": false,
     "start_time": "2021-09-21T16:06:47.663920",
     "status": "completed"
    },
    "tags": []
   },
   "outputs": [],
   "source": [
    "df_wqi[\"WQI clf\"] = df_wqi[\"WQI\"].apply(lambda x: (3 if (x <= 25)  \n",
    "                                        else(2 if (26<=x<=50) \n",
    "                                        else(1 if (51<=x<=75) \n",
    "                                        else 0))))"
   ]
  },
  {
   "cell_type": "code",
   "execution_count": 36,
   "id": "0b3ed2d8",
   "metadata": {
    "colab": {
     "base_uri": "https://localhost:8080/",
     "height": 354
    },
    "execution": {
     "iopub.execute_input": "2021-09-21T16:06:47.873718Z",
     "iopub.status.busy": "2021-09-21T16:06:47.872992Z",
     "iopub.status.idle": "2021-09-21T16:06:47.895303Z",
     "shell.execute_reply": "2021-09-21T16:06:47.895938Z",
     "shell.execute_reply.started": "2021-09-14T13:36:32.701739Z"
    },
    "id": "0b3ed2d8",
    "outputId": "014e9db2-97d9-43d3-874f-70e921595e0f",
    "papermill": {
     "duration": 0.091825,
     "end_time": "2021-09-21T16:06:47.896119",
     "exception": false,
     "start_time": "2021-09-21T16:06:47.804294",
     "status": "completed"
    },
    "tags": []
   },
   "outputs": [
    {
     "data": {
      "text/html": [
       "<div>\n",
       "<style scoped>\n",
       "    .dataframe tbody tr th:only-of-type {\n",
       "        vertical-align: middle;\n",
       "    }\n",
       "\n",
       "    .dataframe tbody tr th {\n",
       "        vertical-align: top;\n",
       "    }\n",
       "\n",
       "    .dataframe thead th {\n",
       "        text-align: right;\n",
       "    }\n",
       "</style>\n",
       "<table border=\"1\" class=\"dataframe\">\n",
       "  <thead>\n",
       "    <tr style=\"text-align: right;\">\n",
       "      <th></th>\n",
       "      <th>STATION CODE</th>\n",
       "      <th>LOCATIONS</th>\n",
       "      <th>STATE</th>\n",
       "      <th>Temp</th>\n",
       "      <th>DO</th>\n",
       "      <th>PH</th>\n",
       "      <th>Conductivity</th>\n",
       "      <th>BOD</th>\n",
       "      <th>NI</th>\n",
       "      <th>Fec_col</th>\n",
       "      <th>Tot_col</th>\n",
       "      <th>year</th>\n",
       "      <th>WQI</th>\n",
       "      <th>WQI clf</th>\n",
       "    </tr>\n",
       "  </thead>\n",
       "  <tbody>\n",
       "    <tr>\n",
       "      <th>1780</th>\n",
       "      <td>1329</td>\n",
       "      <td>TAMBIRAPARANI AT RAIL BDG. NR. AMBASAMUDAM, TA...</td>\n",
       "      <td>TAMILNADU</td>\n",
       "      <td>27.0</td>\n",
       "      <td>7.4</td>\n",
       "      <td>7.00</td>\n",
       "      <td>88.5</td>\n",
       "      <td>0.977</td>\n",
       "      <td>0.186</td>\n",
       "      <td>27.0</td>\n",
       "      <td>105.0</td>\n",
       "      <td>2005.0</td>\n",
       "      <td>43.946271</td>\n",
       "      <td>2</td>\n",
       "    </tr>\n",
       "    <tr>\n",
       "      <th>1781</th>\n",
       "      <td>1330</td>\n",
       "      <td>TAMBIRAPARANI AT ARUMUGANERI, TAMILNADU</td>\n",
       "      <td>TAMILNADU</td>\n",
       "      <td>27.0</td>\n",
       "      <td>6.6</td>\n",
       "      <td>7.81</td>\n",
       "      <td>603.2</td>\n",
       "      <td>2.675</td>\n",
       "      <td>0.263</td>\n",
       "      <td>40.0</td>\n",
       "      <td>191.0</td>\n",
       "      <td>2005.0</td>\n",
       "      <td>77.315135</td>\n",
       "      <td>0</td>\n",
       "    </tr>\n",
       "    <tr>\n",
       "      <th>1782</th>\n",
       "      <td>1450</td>\n",
       "      <td>PALAR AT VANIYAMBADI WATER SUPPLY HEAD WORK, T...</td>\n",
       "      <td>TAMILNADU</td>\n",
       "      <td>28.0</td>\n",
       "      <td>6.6</td>\n",
       "      <td>7.49</td>\n",
       "      <td>571.5</td>\n",
       "      <td>2.091</td>\n",
       "      <td>0.256</td>\n",
       "      <td>151.0</td>\n",
       "      <td>273.0</td>\n",
       "      <td>2005.0</td>\n",
       "      <td>69.053768</td>\n",
       "      <td>1</td>\n",
       "    </tr>\n",
       "    <tr>\n",
       "      <th>1783</th>\n",
       "      <td>1403</td>\n",
       "      <td>GUMTI AT U/S SOUTH TRIPURA,TRIPURA</td>\n",
       "      <td>TRIPURA</td>\n",
       "      <td>28.0</td>\n",
       "      <td>5.4</td>\n",
       "      <td>7.16</td>\n",
       "      <td>75.8</td>\n",
       "      <td>2.092</td>\n",
       "      <td>0.520</td>\n",
       "      <td>404.0</td>\n",
       "      <td>513.0</td>\n",
       "      <td>2005.0</td>\n",
       "      <td>74.670773</td>\n",
       "      <td>1</td>\n",
       "    </tr>\n",
       "    <tr>\n",
       "      <th>1784</th>\n",
       "      <td>1404</td>\n",
       "      <td>GUMTI AT D/S SOUTH TRIPURA, TRIPURA</td>\n",
       "      <td>TRIPURA</td>\n",
       "      <td>30.0</td>\n",
       "      <td>5.4</td>\n",
       "      <td>7.37</td>\n",
       "      <td>104.8</td>\n",
       "      <td>1.802</td>\n",
       "      <td>0.215</td>\n",
       "      <td>456.0</td>\n",
       "      <td>557.0</td>\n",
       "      <td>2005.0</td>\n",
       "      <td>76.881207</td>\n",
       "      <td>0</td>\n",
       "    </tr>\n",
       "  </tbody>\n",
       "</table>\n",
       "</div>"
      ],
      "text/plain": [
       "     STATION CODE                                          LOCATIONS  \\\n",
       "1780         1329  TAMBIRAPARANI AT RAIL BDG. NR. AMBASAMUDAM, TA...   \n",
       "1781         1330            TAMBIRAPARANI AT ARUMUGANERI, TAMILNADU   \n",
       "1782         1450  PALAR AT VANIYAMBADI WATER SUPPLY HEAD WORK, T...   \n",
       "1783         1403                 GUMTI AT U/S SOUTH TRIPURA,TRIPURA   \n",
       "1784         1404                GUMTI AT D/S SOUTH TRIPURA, TRIPURA   \n",
       "\n",
       "          STATE  Temp   DO    PH  Conductivity    BOD     NI  Fec_col  \\\n",
       "1780  TAMILNADU  27.0  7.4  7.00          88.5  0.977  0.186     27.0   \n",
       "1781  TAMILNADU  27.0  6.6  7.81         603.2  2.675  0.263     40.0   \n",
       "1782  TAMILNADU  28.0  6.6  7.49         571.5  2.091  0.256    151.0   \n",
       "1783    TRIPURA  28.0  5.4  7.16          75.8  2.092  0.520    404.0   \n",
       "1784    TRIPURA  30.0  5.4  7.37         104.8  1.802  0.215    456.0   \n",
       "\n",
       "      Tot_col    year        WQI  WQI clf  \n",
       "1780    105.0  2005.0  43.946271        2  \n",
       "1781    191.0  2005.0  77.315135        0  \n",
       "1782    273.0  2005.0  69.053768        1  \n",
       "1783    513.0  2005.0  74.670773        1  \n",
       "1784    557.0  2005.0  76.881207        0  "
      ]
     },
     "execution_count": 36,
     "metadata": {},
     "output_type": "execute_result"
    }
   ],
   "source": [
    "df_wqi.tail()"
   ]
  },
  {
   "cell_type": "code",
   "execution_count": 37,
   "id": "27c768c4",
   "metadata": {
    "colab": {
     "base_uri": "https://localhost:8080/",
     "height": 364
    },
    "execution": {
     "iopub.execute_input": "2021-09-21T16:06:48.040933Z",
     "iopub.status.busy": "2021-09-21T16:06:48.040130Z",
     "iopub.status.idle": "2021-09-21T16:06:48.098156Z",
     "shell.execute_reply": "2021-09-21T16:06:48.098873Z",
     "shell.execute_reply.started": "2021-09-14T13:36:32.732323Z"
    },
    "id": "27c768c4",
    "outputId": "7f336954-daf1-4189-dd45-4a5cc76cfe95",
    "papermill": {
     "duration": 0.137895,
     "end_time": "2021-09-21T16:06:48.099060",
     "exception": false,
     "start_time": "2021-09-21T16:06:47.961165",
     "status": "completed"
    },
    "tags": []
   },
   "outputs": [
    {
     "data": {
      "text/html": [
       "<div>\n",
       "<style scoped>\n",
       "    .dataframe tbody tr th:only-of-type {\n",
       "        vertical-align: middle;\n",
       "    }\n",
       "\n",
       "    .dataframe tbody tr th {\n",
       "        vertical-align: top;\n",
       "    }\n",
       "\n",
       "    .dataframe thead th {\n",
       "        text-align: right;\n",
       "    }\n",
       "</style>\n",
       "<table border=\"1\" class=\"dataframe\">\n",
       "  <thead>\n",
       "    <tr style=\"text-align: right;\">\n",
       "      <th></th>\n",
       "      <th>Temp</th>\n",
       "      <th>DO</th>\n",
       "      <th>PH</th>\n",
       "      <th>Conductivity</th>\n",
       "      <th>BOD</th>\n",
       "      <th>NI</th>\n",
       "      <th>Fec_col</th>\n",
       "      <th>Tot_col</th>\n",
       "      <th>year</th>\n",
       "      <th>WQI</th>\n",
       "      <th>WQI clf</th>\n",
       "    </tr>\n",
       "  </thead>\n",
       "  <tbody>\n",
       "    <tr>\n",
       "      <th>count</th>\n",
       "      <td>1780.000000</td>\n",
       "      <td>1780.000000</td>\n",
       "      <td>1780.000000</td>\n",
       "      <td>1780.000000</td>\n",
       "      <td>1780.000000</td>\n",
       "      <td>1780.000000</td>\n",
       "      <td>1780.000000</td>\n",
       "      <td>1780.000000</td>\n",
       "      <td>1780.000000</td>\n",
       "      <td>1780.000000</td>\n",
       "      <td>1780.000000</td>\n",
       "    </tr>\n",
       "    <tr>\n",
       "      <th>mean</th>\n",
       "      <td>26.241931</td>\n",
       "      <td>6.432263</td>\n",
       "      <td>7.228045</td>\n",
       "      <td>1006.325691</td>\n",
       "      <td>3.961788</td>\n",
       "      <td>1.119716</td>\n",
       "      <td>2264.420646</td>\n",
       "      <td>7242.598876</td>\n",
       "      <td>2010.380337</td>\n",
       "      <td>130.303409</td>\n",
       "      <td>0.715169</td>\n",
       "    </tr>\n",
       "    <tr>\n",
       "      <th>std</th>\n",
       "      <td>3.231044</td>\n",
       "      <td>1.258875</td>\n",
       "      <td>0.582761</td>\n",
       "      <td>2764.600752</td>\n",
       "      <td>7.130494</td>\n",
       "      <td>1.629483</td>\n",
       "      <td>8259.474360</td>\n",
       "      <td>40230.193629</td>\n",
       "      <td>2.704223</td>\n",
       "      <td>222.261326</td>\n",
       "      <td>0.731754</td>\n",
       "    </tr>\n",
       "    <tr>\n",
       "      <th>min</th>\n",
       "      <td>10.000000</td>\n",
       "      <td>0.000000</td>\n",
       "      <td>2.900000</td>\n",
       "      <td>11.000000</td>\n",
       "      <td>0.100000</td>\n",
       "      <td>0.000000</td>\n",
       "      <td>0.000000</td>\n",
       "      <td>0.000000</td>\n",
       "      <td>2005.000000</td>\n",
       "      <td>16.795814</td>\n",
       "      <td>0.000000</td>\n",
       "    </tr>\n",
       "    <tr>\n",
       "      <th>25%</th>\n",
       "      <td>25.000000</td>\n",
       "      <td>6.000000</td>\n",
       "      <td>6.900000</td>\n",
       "      <td>83.000000</td>\n",
       "      <td>1.100000</td>\n",
       "      <td>0.263000</td>\n",
       "      <td>46.000000</td>\n",
       "      <td>108.750000</td>\n",
       "      <td>2008.000000</td>\n",
       "      <td>54.641036</td>\n",
       "      <td>0.000000</td>\n",
       "    </tr>\n",
       "    <tr>\n",
       "      <th>50%</th>\n",
       "      <td>27.000000</td>\n",
       "      <td>6.700000</td>\n",
       "      <td>7.224500</td>\n",
       "      <td>183.000000</td>\n",
       "      <td>1.800000</td>\n",
       "      <td>0.520000</td>\n",
       "      <td>233.000000</td>\n",
       "      <td>465.000000</td>\n",
       "      <td>2011.000000</td>\n",
       "      <td>69.840286</td>\n",
       "      <td>1.000000</td>\n",
       "    </tr>\n",
       "    <tr>\n",
       "      <th>75%</th>\n",
       "      <td>28.200000</td>\n",
       "      <td>7.200000</td>\n",
       "      <td>7.600000</td>\n",
       "      <td>489.250000</td>\n",
       "      <td>3.400000</td>\n",
       "      <td>1.100000</td>\n",
       "      <td>672.500000</td>\n",
       "      <td>1650.000000</td>\n",
       "      <td>2013.000000</td>\n",
       "      <td>94.348696</td>\n",
       "      <td>1.000000</td>\n",
       "    </tr>\n",
       "    <tr>\n",
       "      <th>max</th>\n",
       "      <td>35.000000</td>\n",
       "      <td>10.000000</td>\n",
       "      <td>9.010000</td>\n",
       "      <td>18569.000000</td>\n",
       "      <td>88.000000</td>\n",
       "      <td>13.200000</td>\n",
       "      <td>150250.000000</td>\n",
       "      <td>967500.000000</td>\n",
       "      <td>2014.000000</td>\n",
       "      <td>3524.421534</td>\n",
       "      <td>3.000000</td>\n",
       "    </tr>\n",
       "  </tbody>\n",
       "</table>\n",
       "</div>"
      ],
      "text/plain": [
       "              Temp           DO           PH  Conductivity          BOD  \\\n",
       "count  1780.000000  1780.000000  1780.000000   1780.000000  1780.000000   \n",
       "mean     26.241931     6.432263     7.228045   1006.325691     3.961788   \n",
       "std       3.231044     1.258875     0.582761   2764.600752     7.130494   \n",
       "min      10.000000     0.000000     2.900000     11.000000     0.100000   \n",
       "25%      25.000000     6.000000     6.900000     83.000000     1.100000   \n",
       "50%      27.000000     6.700000     7.224500    183.000000     1.800000   \n",
       "75%      28.200000     7.200000     7.600000    489.250000     3.400000   \n",
       "max      35.000000    10.000000     9.010000  18569.000000    88.000000   \n",
       "\n",
       "                NI        Fec_col        Tot_col         year          WQI  \\\n",
       "count  1780.000000    1780.000000    1780.000000  1780.000000  1780.000000   \n",
       "mean      1.119716    2264.420646    7242.598876  2010.380337   130.303409   \n",
       "std       1.629483    8259.474360   40230.193629     2.704223   222.261326   \n",
       "min       0.000000       0.000000       0.000000  2005.000000    16.795814   \n",
       "25%       0.263000      46.000000     108.750000  2008.000000    54.641036   \n",
       "50%       0.520000     233.000000     465.000000  2011.000000    69.840286   \n",
       "75%       1.100000     672.500000    1650.000000  2013.000000    94.348696   \n",
       "max      13.200000  150250.000000  967500.000000  2014.000000  3524.421534   \n",
       "\n",
       "           WQI clf  \n",
       "count  1780.000000  \n",
       "mean      0.715169  \n",
       "std       0.731754  \n",
       "min       0.000000  \n",
       "25%       0.000000  \n",
       "50%       1.000000  \n",
       "75%       1.000000  \n",
       "max       3.000000  "
      ]
     },
     "execution_count": 37,
     "metadata": {},
     "output_type": "execute_result"
    }
   ],
   "source": [
    "df_wqi.describe()"
   ]
  },
  {
   "cell_type": "code",
   "execution_count": 38,
   "id": "pZ__Qxb1vBEs",
   "metadata": {
    "colab": {
     "base_uri": "https://localhost:8080/",
     "height": 302
    },
    "id": "pZ__Qxb1vBEs",
    "outputId": "b7e29c87-153f-4cf8-9b8b-efc3be7cabee"
   },
   "outputs": [
    {
     "data": {
      "text/html": [
       "<div>\n",
       "<style scoped>\n",
       "    .dataframe tbody tr th:only-of-type {\n",
       "        vertical-align: middle;\n",
       "    }\n",
       "\n",
       "    .dataframe tbody tr th {\n",
       "        vertical-align: top;\n",
       "    }\n",
       "\n",
       "    .dataframe thead th {\n",
       "        text-align: right;\n",
       "    }\n",
       "</style>\n",
       "<table border=\"1\" class=\"dataframe\">\n",
       "  <thead>\n",
       "    <tr style=\"text-align: right;\">\n",
       "      <th></th>\n",
       "      <th>STATION CODE</th>\n",
       "      <th>LOCATIONS</th>\n",
       "      <th>STATE</th>\n",
       "      <th>Temp</th>\n",
       "      <th>DO</th>\n",
       "      <th>PH</th>\n",
       "      <th>Conductivity</th>\n",
       "      <th>BOD</th>\n",
       "      <th>NI</th>\n",
       "      <th>Fec_col</th>\n",
       "      <th>Tot_col</th>\n",
       "      <th>year</th>\n",
       "      <th>WQI</th>\n",
       "      <th>WQI clf</th>\n",
       "    </tr>\n",
       "  </thead>\n",
       "  <tbody>\n",
       "    <tr>\n",
       "      <th>0</th>\n",
       "      <td>1393</td>\n",
       "      <td>DAMANGANGA AT D/S OF MADHUBAN, DAMAN</td>\n",
       "      <td>DAMAN &amp; DIU</td>\n",
       "      <td>30.6</td>\n",
       "      <td>6.7</td>\n",
       "      <td>7.5</td>\n",
       "      <td>203.0</td>\n",
       "      <td>1.8965</td>\n",
       "      <td>0.1</td>\n",
       "      <td>11.0</td>\n",
       "      <td>27.0</td>\n",
       "      <td>2014.0</td>\n",
       "      <td>63.778321</td>\n",
       "      <td>1</td>\n",
       "    </tr>\n",
       "    <tr>\n",
       "      <th>1</th>\n",
       "      <td>1399</td>\n",
       "      <td>ZUARI AT D/S OF PT. WHERE KUMBARJRIA CANAL JOI...</td>\n",
       "      <td>GOA</td>\n",
       "      <td>29.8</td>\n",
       "      <td>5.7</td>\n",
       "      <td>7.2</td>\n",
       "      <td>189.0</td>\n",
       "      <td>2.0000</td>\n",
       "      <td>0.2</td>\n",
       "      <td>4953.0</td>\n",
       "      <td>8391.0</td>\n",
       "      <td>2014.0</td>\n",
       "      <td>175.363506</td>\n",
       "      <td>0</td>\n",
       "    </tr>\n",
       "    <tr>\n",
       "      <th>2</th>\n",
       "      <td>1475</td>\n",
       "      <td>ZUARI AT PANCHAWADI</td>\n",
       "      <td>GOA</td>\n",
       "      <td>29.5</td>\n",
       "      <td>6.3</td>\n",
       "      <td>6.9</td>\n",
       "      <td>179.0</td>\n",
       "      <td>1.7000</td>\n",
       "      <td>0.1</td>\n",
       "      <td>3243.0</td>\n",
       "      <td>5330.0</td>\n",
       "      <td>2014.0</td>\n",
       "      <td>126.135831</td>\n",
       "      <td>0</td>\n",
       "    </tr>\n",
       "    <tr>\n",
       "      <th>3</th>\n",
       "      <td>3181</td>\n",
       "      <td>RIVER ZUARI AT BORIM BRIDGE</td>\n",
       "      <td>GOA</td>\n",
       "      <td>29.7</td>\n",
       "      <td>5.8</td>\n",
       "      <td>6.9</td>\n",
       "      <td>64.0</td>\n",
       "      <td>3.8000</td>\n",
       "      <td>0.5</td>\n",
       "      <td>5382.0</td>\n",
       "      <td>8443.0</td>\n",
       "      <td>2014.0</td>\n",
       "      <td>195.105659</td>\n",
       "      <td>0</td>\n",
       "    </tr>\n",
       "    <tr>\n",
       "      <th>4</th>\n",
       "      <td>3182</td>\n",
       "      <td>RIVER ZUARI AT MARCAIM JETTY</td>\n",
       "      <td>GOA</td>\n",
       "      <td>29.5</td>\n",
       "      <td>5.8</td>\n",
       "      <td>7.3</td>\n",
       "      <td>83.0</td>\n",
       "      <td>1.9000</td>\n",
       "      <td>0.4</td>\n",
       "      <td>3428.0</td>\n",
       "      <td>5500.0</td>\n",
       "      <td>2014.0</td>\n",
       "      <td>141.393246</td>\n",
       "      <td>0</td>\n",
       "    </tr>\n",
       "  </tbody>\n",
       "</table>\n",
       "</div>"
      ],
      "text/plain": [
       "  STATION CODE                                          LOCATIONS  \\\n",
       "0         1393               DAMANGANGA AT D/S OF MADHUBAN, DAMAN   \n",
       "1         1399  ZUARI AT D/S OF PT. WHERE KUMBARJRIA CANAL JOI...   \n",
       "2         1475                                ZUARI AT PANCHAWADI   \n",
       "3         3181                        RIVER ZUARI AT BORIM BRIDGE   \n",
       "4         3182                       RIVER ZUARI AT MARCAIM JETTY   \n",
       "\n",
       "         STATE  Temp   DO   PH  Conductivity     BOD   NI  Fec_col  Tot_col  \\\n",
       "0  DAMAN & DIU  30.6  6.7  7.5         203.0  1.8965  0.1     11.0     27.0   \n",
       "1          GOA  29.8  5.7  7.2         189.0  2.0000  0.2   4953.0   8391.0   \n",
       "2          GOA  29.5  6.3  6.9         179.0  1.7000  0.1   3243.0   5330.0   \n",
       "3          GOA  29.7  5.8  6.9          64.0  3.8000  0.5   5382.0   8443.0   \n",
       "4          GOA  29.5  5.8  7.3          83.0  1.9000  0.4   3428.0   5500.0   \n",
       "\n",
       "     year         WQI  WQI clf  \n",
       "0  2014.0   63.778321        1  \n",
       "1  2014.0  175.363506        0  \n",
       "2  2014.0  126.135831        0  \n",
       "3  2014.0  195.105659        0  \n",
       "4  2014.0  141.393246        0  "
      ]
     },
     "execution_count": 38,
     "metadata": {},
     "output_type": "execute_result"
    }
   ],
   "source": [
    "data = df_wqi\n",
    "data.head()"
   ]
  },
  {
   "cell_type": "code",
   "execution_count": 39,
   "id": "a7bTrZZWvlar",
   "metadata": {
    "id": "a7bTrZZWvlar"
   },
   "outputs": [],
   "source": [
    "data=data.drop(['WQI'], axis=1)\n",
    "data=data.drop(['STATION CODE'], axis=1)\n",
    "data=data.drop(['LOCATIONS'], axis=1)\n",
    "data=data.drop(['DO'], axis=1)\n",
    "data=data.drop(['PH'], axis=1)\n",
    "data=data.drop(['Conductivity'], axis=1)\n",
    "data=data.drop(['BOD'], axis=1)\n",
    "data=data.drop(['NI'], axis=1)\n",
    "data=data.drop(['Fec_col'], axis=1)\n",
    "data=data.drop(['Tot_col'], axis=1)\n",
    "data=data.drop(['year'], axis=1)"
   ]
  },
  {
   "cell_type": "code",
   "execution_count": 40,
   "id": "rG2e6uOs0IE-",
   "metadata": {
    "colab": {
     "base_uri": "https://localhost:8080/",
     "height": 206
    },
    "id": "rG2e6uOs0IE-",
    "outputId": "2d509486-9525-4d50-9b29-97a525370522"
   },
   "outputs": [
    {
     "data": {
      "text/html": [
       "<div>\n",
       "<style scoped>\n",
       "    .dataframe tbody tr th:only-of-type {\n",
       "        vertical-align: middle;\n",
       "    }\n",
       "\n",
       "    .dataframe tbody tr th {\n",
       "        vertical-align: top;\n",
       "    }\n",
       "\n",
       "    .dataframe thead th {\n",
       "        text-align: right;\n",
       "    }\n",
       "</style>\n",
       "<table border=\"1\" class=\"dataframe\">\n",
       "  <thead>\n",
       "    <tr style=\"text-align: right;\">\n",
       "      <th></th>\n",
       "      <th>STATE</th>\n",
       "      <th>Temp</th>\n",
       "      <th>WQI clf</th>\n",
       "    </tr>\n",
       "  </thead>\n",
       "  <tbody>\n",
       "    <tr>\n",
       "      <th>0</th>\n",
       "      <td>DAMAN &amp; DIU</td>\n",
       "      <td>30.6</td>\n",
       "      <td>1</td>\n",
       "    </tr>\n",
       "    <tr>\n",
       "      <th>1</th>\n",
       "      <td>GOA</td>\n",
       "      <td>29.8</td>\n",
       "      <td>0</td>\n",
       "    </tr>\n",
       "    <tr>\n",
       "      <th>2</th>\n",
       "      <td>GOA</td>\n",
       "      <td>29.5</td>\n",
       "      <td>0</td>\n",
       "    </tr>\n",
       "    <tr>\n",
       "      <th>3</th>\n",
       "      <td>GOA</td>\n",
       "      <td>29.7</td>\n",
       "      <td>0</td>\n",
       "    </tr>\n",
       "    <tr>\n",
       "      <th>4</th>\n",
       "      <td>GOA</td>\n",
       "      <td>29.5</td>\n",
       "      <td>0</td>\n",
       "    </tr>\n",
       "  </tbody>\n",
       "</table>\n",
       "</div>"
      ],
      "text/plain": [
       "         STATE  Temp  WQI clf\n",
       "0  DAMAN & DIU  30.6        1\n",
       "1          GOA  29.8        0\n",
       "2          GOA  29.5        0\n",
       "3          GOA  29.7        0\n",
       "4          GOA  29.5        0"
      ]
     },
     "execution_count": 40,
     "metadata": {},
     "output_type": "execute_result"
    }
   ],
   "source": [
    "data.head()"
   ]
  },
  {
   "cell_type": "code",
   "execution_count": 41,
   "id": "53fac625",
   "metadata": {},
   "outputs": [
    {
     "data": {
      "text/plain": [
       "KERALA                            512\n",
       "MAHARASHTRA                       216\n",
       "GOA                               178\n",
       "MEGHALAYA                         136\n",
       "MANIPUR                           121\n",
       "PUNJAB                            113\n",
       "TAMILNADU                          91\n",
       "GUJARAT                            82\n",
       "MIZORAM                            41\n",
       "ODISHA                             38\n",
       "KARNATAKA                          32\n",
       "RAJASTHAN                          30\n",
       "HIMACHAL PRADESH                   28\n",
       "HARYANA                            28\n",
       "ORISSA                             28\n",
       "PONDICHERRY                        25\n",
       "TRIPURA                            23\n",
       "ANDHRA PRADESH                     23\n",
       "DAMAN & DIU                        14\n",
       "DAMAN, DIU, DADRA NAGAR HAVELI     10\n",
       "CHANDIGARH                          4\n",
       "tripura                             3\n",
       "MADHYA PRADESH                      2\n",
       "TAMIL NADU                          2\n",
       "Name: STATE, dtype: int64"
      ]
     },
     "execution_count": 41,
     "metadata": {},
     "output_type": "execute_result"
    }
   ],
   "source": [
    "data.STATE.value_counts()"
   ]
  },
  {
   "cell_type": "code",
   "execution_count": 42,
   "id": "51f096ef",
   "metadata": {},
   "outputs": [],
   "source": [
    "def shorten_categories(categories, cutoff):\n",
    "    categorical_map = {}\n",
    "    for i in range(len(categories)):\n",
    "        if categories.values[i] >= cutoff:\n",
    "            categorical_map[categories.index[i]] = categories.index[i]\n",
    "        else:\n",
    "            categorical_map[categories.index[i]] = 'Other'\n",
    "    return categorical_map"
   ]
  },
  {
   "cell_type": "code",
   "execution_count": 43,
   "id": "ff9d31bc",
   "metadata": {},
   "outputs": [
    {
     "data": {
      "text/plain": [
       "KERALA         512\n",
       "MAHARASHTRA    216\n",
       "Other          190\n",
       "GOA            178\n",
       "MEGHALAYA      136\n",
       "MANIPUR        121\n",
       "PUNJAB         113\n",
       "TAMILNADU       91\n",
       "GUJARAT         82\n",
       "MIZORAM         41\n",
       "ODISHA          38\n",
       "KARNATAKA       32\n",
       "RAJASTHAN       30\n",
       "Name: STATE, dtype: int64"
      ]
     },
     "execution_count": 43,
     "metadata": {},
     "output_type": "execute_result"
    }
   ],
   "source": [
    "state_map = shorten_categories(data.STATE.value_counts(), 30)\n",
    "data['STATE'] = data['STATE'].map(state_map)\n",
    "data.STATE.value_counts()"
   ]
  },
  {
   "cell_type": "code",
   "execution_count": 44,
   "id": "baec43b2",
   "metadata": {},
   "outputs": [
    {
     "data": {
      "text/plain": [
       "array([ 9,  0,  4,  3,  2,  8, 12, 10, 11,  6,  7,  1,  5])"
      ]
     },
     "execution_count": 44,
     "metadata": {},
     "output_type": "execute_result"
    }
   ],
   "source": [
    "from sklearn.preprocessing import LabelEncoder\n",
    "le_state = LabelEncoder()\n",
    "data['STATE'] = le_state.fit_transform(data['STATE'])\n",
    "data.STATE.unique()"
   ]
  },
  {
   "cell_type": "code",
   "execution_count": 45,
   "id": "69e42e5a",
   "metadata": {},
   "outputs": [
    {
     "data": {
      "text/plain": [
       "array([159, 151, 147, 150, 153, 144, 148, 154, 121, 122, 145, 141, 143,\n",
       "       135, 146, 129, 156, 158,  82, 113,  81,  93,  47, 108, 109, 112,\n",
       "       107,  58, 130, 123, 116, 124, 133, 106,  61,  77,  89,  79, 115,\n",
       "        83, 152, 102,  90,  98,  92,  67, 160, 126, 100, 157,  86, 140,\n",
       "       138,  84, 131, 155, 117, 162,  91,  99,  25,  39,  96,  78,  75,\n",
       "        59,  73,  60, 105, 165,  76,  71,  26,  52,  74,  64,  31,  48,\n",
       "        35, 167,  72,  16,  54,  69,  63,  36,  18,  28,  44,  38,  30,\n",
       "        43,  27,  32,  17,  24,  37,  53,  10,  23,  62,  34,  66, 161,\n",
       "        41,  94,  80,  65,  56,  87,  85,  50,  57,  42,  40, 163,  49,\n",
       "        13,  12,  14,  15,  20,  51, 169,   4,   6,   7, 166,   3,  33,\n",
       "       168, 170,  46,  55, 171, 149,  88, 119, 127, 101, 137, 110, 118,\n",
       "       136, 134, 103, 128,  29, 142, 114, 111, 120, 125, 132,  95, 104,\n",
       "       139, 164,  97,  45,  11,   5,   8,   9,  19,  22,  21,   0,   1,\n",
       "         2,  68,  70], dtype=int64)"
      ]
     },
     "execution_count": 45,
     "metadata": {},
     "output_type": "execute_result"
    }
   ],
   "source": [
    "le_temp = LabelEncoder()\n",
    "data['Temp'] = le_temp.fit_transform(data['Temp'])\n",
    "data.Temp.unique()"
   ]
  },
  {
   "cell_type": "code",
   "execution_count": 46,
   "id": "291666a4",
   "metadata": {},
   "outputs": [
    {
     "data": {
      "text/html": [
       "<div>\n",
       "<style scoped>\n",
       "    .dataframe tbody tr th:only-of-type {\n",
       "        vertical-align: middle;\n",
       "    }\n",
       "\n",
       "    .dataframe tbody tr th {\n",
       "        vertical-align: top;\n",
       "    }\n",
       "\n",
       "    .dataframe thead th {\n",
       "        text-align: right;\n",
       "    }\n",
       "</style>\n",
       "<table border=\"1\" class=\"dataframe\">\n",
       "  <thead>\n",
       "    <tr style=\"text-align: right;\">\n",
       "      <th></th>\n",
       "      <th>STATE</th>\n",
       "      <th>Temp</th>\n",
       "      <th>WQI clf</th>\n",
       "    </tr>\n",
       "  </thead>\n",
       "  <tbody>\n",
       "    <tr>\n",
       "      <th>0</th>\n",
       "      <td>9</td>\n",
       "      <td>159</td>\n",
       "      <td>1</td>\n",
       "    </tr>\n",
       "    <tr>\n",
       "      <th>1</th>\n",
       "      <td>0</td>\n",
       "      <td>151</td>\n",
       "      <td>0</td>\n",
       "    </tr>\n",
       "    <tr>\n",
       "      <th>2</th>\n",
       "      <td>0</td>\n",
       "      <td>147</td>\n",
       "      <td>0</td>\n",
       "    </tr>\n",
       "    <tr>\n",
       "      <th>3</th>\n",
       "      <td>0</td>\n",
       "      <td>150</td>\n",
       "      <td>0</td>\n",
       "    </tr>\n",
       "    <tr>\n",
       "      <th>4</th>\n",
       "      <td>0</td>\n",
       "      <td>147</td>\n",
       "      <td>0</td>\n",
       "    </tr>\n",
       "  </tbody>\n",
       "</table>\n",
       "</div>"
      ],
      "text/plain": [
       "   STATE  Temp  WQI clf\n",
       "0      9   159        1\n",
       "1      0   151        0\n",
       "2      0   147        0\n",
       "3      0   150        0\n",
       "4      0   147        0"
      ]
     },
     "execution_count": 46,
     "metadata": {},
     "output_type": "execute_result"
    }
   ],
   "source": [
    "data.head()"
   ]
  },
  {
   "cell_type": "code",
   "execution_count": 47,
   "id": "46852377",
   "metadata": {},
   "outputs": [],
   "source": [
    "from sklearn.model_selection import RandomizedSearchCV, GridSearchCV\n",
    "from sklearn.linear_model import LinearRegression"
   ]
  },
  {
   "cell_type": "code",
   "execution_count": 50,
   "id": "6e568daf",
   "metadata": {},
   "outputs": [
    {
     "data": {
      "text/html": [
       "<style>#sk-container-id-1 {color: black;background-color: white;}#sk-container-id-1 pre{padding: 0;}#sk-container-id-1 div.sk-toggleable {background-color: white;}#sk-container-id-1 label.sk-toggleable__label {cursor: pointer;display: block;width: 100%;margin-bottom: 0;padding: 0.3em;box-sizing: border-box;text-align: center;}#sk-container-id-1 label.sk-toggleable__label-arrow:before {content: \"▸\";float: left;margin-right: 0.25em;color: #696969;}#sk-container-id-1 label.sk-toggleable__label-arrow:hover:before {color: black;}#sk-container-id-1 div.sk-estimator:hover label.sk-toggleable__label-arrow:before {color: black;}#sk-container-id-1 div.sk-toggleable__content {max-height: 0;max-width: 0;overflow: hidden;text-align: left;background-color: #f0f8ff;}#sk-container-id-1 div.sk-toggleable__content pre {margin: 0.2em;color: black;border-radius: 0.25em;background-color: #f0f8ff;}#sk-container-id-1 input.sk-toggleable__control:checked~div.sk-toggleable__content {max-height: 200px;max-width: 100%;overflow: auto;}#sk-container-id-1 input.sk-toggleable__control:checked~label.sk-toggleable__label-arrow:before {content: \"▾\";}#sk-container-id-1 div.sk-estimator input.sk-toggleable__control:checked~label.sk-toggleable__label {background-color: #d4ebff;}#sk-container-id-1 div.sk-label input.sk-toggleable__control:checked~label.sk-toggleable__label {background-color: #d4ebff;}#sk-container-id-1 input.sk-hidden--visually {border: 0;clip: rect(1px 1px 1px 1px);clip: rect(1px, 1px, 1px, 1px);height: 1px;margin: -1px;overflow: hidden;padding: 0;position: absolute;width: 1px;}#sk-container-id-1 div.sk-estimator {font-family: monospace;background-color: #f0f8ff;border: 1px dotted black;border-radius: 0.25em;box-sizing: border-box;margin-bottom: 0.5em;}#sk-container-id-1 div.sk-estimator:hover {background-color: #d4ebff;}#sk-container-id-1 div.sk-parallel-item::after {content: \"\";width: 100%;border-bottom: 1px solid gray;flex-grow: 1;}#sk-container-id-1 div.sk-label:hover label.sk-toggleable__label {background-color: #d4ebff;}#sk-container-id-1 div.sk-serial::before {content: \"\";position: absolute;border-left: 1px solid gray;box-sizing: border-box;top: 0;bottom: 0;left: 50%;z-index: 0;}#sk-container-id-1 div.sk-serial {display: flex;flex-direction: column;align-items: center;background-color: white;padding-right: 0.2em;padding-left: 0.2em;position: relative;}#sk-container-id-1 div.sk-item {position: relative;z-index: 1;}#sk-container-id-1 div.sk-parallel {display: flex;align-items: stretch;justify-content: center;background-color: white;position: relative;}#sk-container-id-1 div.sk-item::before, #sk-container-id-1 div.sk-parallel-item::before {content: \"\";position: absolute;border-left: 1px solid gray;box-sizing: border-box;top: 0;bottom: 0;left: 50%;z-index: -1;}#sk-container-id-1 div.sk-parallel-item {display: flex;flex-direction: column;z-index: 1;position: relative;background-color: white;}#sk-container-id-1 div.sk-parallel-item:first-child::after {align-self: flex-end;width: 50%;}#sk-container-id-1 div.sk-parallel-item:last-child::after {align-self: flex-start;width: 50%;}#sk-container-id-1 div.sk-parallel-item:only-child::after {width: 0;}#sk-container-id-1 div.sk-dashed-wrapped {border: 1px dashed gray;margin: 0 0.4em 0.5em 0.4em;box-sizing: border-box;padding-bottom: 0.4em;background-color: white;}#sk-container-id-1 div.sk-label label {font-family: monospace;font-weight: bold;display: inline-block;line-height: 1.2em;}#sk-container-id-1 div.sk-label-container {text-align: center;}#sk-container-id-1 div.sk-container {/* jupyter's `normalize.less` sets `[hidden] { display: none; }` but bootstrap.min.css set `[hidden] { display: none !important; }` so we also need the `!important` here to be able to override the default hidden behavior on the sphinx rendered scikit-learn.org. See: https://github.com/scikit-learn/scikit-learn/issues/21755 */display: inline-block !important;position: relative;}#sk-container-id-1 div.sk-text-repr-fallback {display: none;}</style><div id=\"sk-container-id-1\" class=\"sk-top-container\"><div class=\"sk-text-repr-fallback\"><pre>LinearRegression()</pre><b>In a Jupyter environment, please rerun this cell to show the HTML representation or trust the notebook. <br />On GitHub, the HTML representation is unable to render, please try loading this page with nbviewer.org.</b></div><div class=\"sk-container\" hidden><div class=\"sk-item\"><div class=\"sk-estimator sk-toggleable\"><input class=\"sk-toggleable__control sk-hidden--visually\" id=\"sk-estimator-id-1\" type=\"checkbox\" checked><label for=\"sk-estimator-id-1\" class=\"sk-toggleable__label sk-toggleable__label-arrow\">LinearRegression</label><div class=\"sk-toggleable__content\"><pre>LinearRegression()</pre></div></div></div></div></div>"
      ],
      "text/plain": [
       "LinearRegression()"
      ]
     },
     "execution_count": 50,
     "metadata": {},
     "output_type": "execute_result"
    }
   ],
   "source": [
    "X = data.drop(\"WQI clf\", axis=1)\n",
    "y = data[\"WQI clf\"]\n",
    "linear_reg = LinearRegression()\n",
    "linear_reg.fit(X, y.values)"
   ]
  },
  {
   "cell_type": "code",
   "execution_count": 51,
   "id": "dbd47990",
   "metadata": {},
   "outputs": [],
   "source": [
    "y_pred = linear_reg.predict(X)"
   ]
  },
  {
   "cell_type": "code",
   "execution_count": 52,
   "id": "20dbbbcb",
   "metadata": {},
   "outputs": [],
   "source": [
    "from sklearn.metrics import mean_absolute_error, mean_squared_error\n",
    "import numpy as np\n",
    "error = np.sqrt(mean_squared_error(y, y_pred))"
   ]
  },
  {
   "cell_type": "code",
   "execution_count": 53,
   "id": "a9e843a4",
   "metadata": {},
   "outputs": [
    {
     "data": {
      "text/plain": [
       "0.7234280305570157"
      ]
     },
     "execution_count": 53,
     "metadata": {},
     "output_type": "execute_result"
    }
   ],
   "source": [
    "error"
   ]
  },
  {
   "cell_type": "code",
   "execution_count": 54,
   "id": "a87bda7b",
   "metadata": {},
   "outputs": [
    {
     "data": {
      "text/html": [
       "<style>#sk-container-id-2 {color: black;background-color: white;}#sk-container-id-2 pre{padding: 0;}#sk-container-id-2 div.sk-toggleable {background-color: white;}#sk-container-id-2 label.sk-toggleable__label {cursor: pointer;display: block;width: 100%;margin-bottom: 0;padding: 0.3em;box-sizing: border-box;text-align: center;}#sk-container-id-2 label.sk-toggleable__label-arrow:before {content: \"▸\";float: left;margin-right: 0.25em;color: #696969;}#sk-container-id-2 label.sk-toggleable__label-arrow:hover:before {color: black;}#sk-container-id-2 div.sk-estimator:hover label.sk-toggleable__label-arrow:before {color: black;}#sk-container-id-2 div.sk-toggleable__content {max-height: 0;max-width: 0;overflow: hidden;text-align: left;background-color: #f0f8ff;}#sk-container-id-2 div.sk-toggleable__content pre {margin: 0.2em;color: black;border-radius: 0.25em;background-color: #f0f8ff;}#sk-container-id-2 input.sk-toggleable__control:checked~div.sk-toggleable__content {max-height: 200px;max-width: 100%;overflow: auto;}#sk-container-id-2 input.sk-toggleable__control:checked~label.sk-toggleable__label-arrow:before {content: \"▾\";}#sk-container-id-2 div.sk-estimator input.sk-toggleable__control:checked~label.sk-toggleable__label {background-color: #d4ebff;}#sk-container-id-2 div.sk-label input.sk-toggleable__control:checked~label.sk-toggleable__label {background-color: #d4ebff;}#sk-container-id-2 input.sk-hidden--visually {border: 0;clip: rect(1px 1px 1px 1px);clip: rect(1px, 1px, 1px, 1px);height: 1px;margin: -1px;overflow: hidden;padding: 0;position: absolute;width: 1px;}#sk-container-id-2 div.sk-estimator {font-family: monospace;background-color: #f0f8ff;border: 1px dotted black;border-radius: 0.25em;box-sizing: border-box;margin-bottom: 0.5em;}#sk-container-id-2 div.sk-estimator:hover {background-color: #d4ebff;}#sk-container-id-2 div.sk-parallel-item::after {content: \"\";width: 100%;border-bottom: 1px solid gray;flex-grow: 1;}#sk-container-id-2 div.sk-label:hover label.sk-toggleable__label {background-color: #d4ebff;}#sk-container-id-2 div.sk-serial::before {content: \"\";position: absolute;border-left: 1px solid gray;box-sizing: border-box;top: 0;bottom: 0;left: 50%;z-index: 0;}#sk-container-id-2 div.sk-serial {display: flex;flex-direction: column;align-items: center;background-color: white;padding-right: 0.2em;padding-left: 0.2em;position: relative;}#sk-container-id-2 div.sk-item {position: relative;z-index: 1;}#sk-container-id-2 div.sk-parallel {display: flex;align-items: stretch;justify-content: center;background-color: white;position: relative;}#sk-container-id-2 div.sk-item::before, #sk-container-id-2 div.sk-parallel-item::before {content: \"\";position: absolute;border-left: 1px solid gray;box-sizing: border-box;top: 0;bottom: 0;left: 50%;z-index: -1;}#sk-container-id-2 div.sk-parallel-item {display: flex;flex-direction: column;z-index: 1;position: relative;background-color: white;}#sk-container-id-2 div.sk-parallel-item:first-child::after {align-self: flex-end;width: 50%;}#sk-container-id-2 div.sk-parallel-item:last-child::after {align-self: flex-start;width: 50%;}#sk-container-id-2 div.sk-parallel-item:only-child::after {width: 0;}#sk-container-id-2 div.sk-dashed-wrapped {border: 1px dashed gray;margin: 0 0.4em 0.5em 0.4em;box-sizing: border-box;padding-bottom: 0.4em;background-color: white;}#sk-container-id-2 div.sk-label label {font-family: monospace;font-weight: bold;display: inline-block;line-height: 1.2em;}#sk-container-id-2 div.sk-label-container {text-align: center;}#sk-container-id-2 div.sk-container {/* jupyter's `normalize.less` sets `[hidden] { display: none; }` but bootstrap.min.css set `[hidden] { display: none !important; }` so we also need the `!important` here to be able to override the default hidden behavior on the sphinx rendered scikit-learn.org. See: https://github.com/scikit-learn/scikit-learn/issues/21755 */display: inline-block !important;position: relative;}#sk-container-id-2 div.sk-text-repr-fallback {display: none;}</style><div id=\"sk-container-id-2\" class=\"sk-top-container\"><div class=\"sk-text-repr-fallback\"><pre>DecisionTreeRegressor(random_state=0)</pre><b>In a Jupyter environment, please rerun this cell to show the HTML representation or trust the notebook. <br />On GitHub, the HTML representation is unable to render, please try loading this page with nbviewer.org.</b></div><div class=\"sk-container\" hidden><div class=\"sk-item\"><div class=\"sk-estimator sk-toggleable\"><input class=\"sk-toggleable__control sk-hidden--visually\" id=\"sk-estimator-id-2\" type=\"checkbox\" checked><label for=\"sk-estimator-id-2\" class=\"sk-toggleable__label sk-toggleable__label-arrow\">DecisionTreeRegressor</label><div class=\"sk-toggleable__content\"><pre>DecisionTreeRegressor(random_state=0)</pre></div></div></div></div></div>"
      ],
      "text/plain": [
       "DecisionTreeRegressor(random_state=0)"
      ]
     },
     "execution_count": 54,
     "metadata": {},
     "output_type": "execute_result"
    }
   ],
   "source": [
    "from sklearn.tree import DecisionTreeRegressor\n",
    "dec_tree_reg  = DecisionTreeRegressor(random_state=0)\n",
    "dec_tree_reg.fit(X,y.values)"
   ]
  },
  {
   "cell_type": "code",
   "execution_count": 55,
   "id": "38eaa7d6",
   "metadata": {},
   "outputs": [
    {
     "data": {
      "text/plain": [
       "0.49920153244756155"
      ]
     },
     "execution_count": 55,
     "metadata": {},
     "output_type": "execute_result"
    }
   ],
   "source": [
    "y_pred = dec_tree_reg.predict(X)\n",
    "error = np.sqrt(mean_squared_error(y, y_pred))\n",
    "error"
   ]
  },
  {
   "cell_type": "code",
   "execution_count": 66,
   "id": "b116835a",
   "metadata": {},
   "outputs": [],
   "source": [
    "regressor = dec_tree_reg"
   ]
  },
  {
   "cell_type": "code",
   "execution_count": 67,
   "id": "b93d73cd",
   "metadata": {},
   "outputs": [
    {
     "data": {
      "text/plain": [
       "array([[  0., 151.]])"
      ]
     },
     "execution_count": 67,
     "metadata": {},
     "output_type": "execute_result"
    }
   ],
   "source": [
    "X"
   ]
  },
  {
   "cell_type": "code",
   "execution_count": 68,
   "id": "026558cd",
   "metadata": {},
   "outputs": [
    {
     "data": {
      "text/plain": [
       "array([['GOA', '29.8']], dtype='<U32')"
      ]
     },
     "execution_count": 68,
     "metadata": {},
     "output_type": "execute_result"
    }
   ],
   "source": [
    "X = np.array([[\"GOA\", 29.8]])\n",
    "X"
   ]
  },
  {
   "cell_type": "code",
   "execution_count": 69,
   "id": "1ddde9b8",
   "metadata": {},
   "outputs": [
    {
     "data": {
      "text/plain": [
       "array([[  0., 151.]])"
      ]
     },
     "execution_count": 69,
     "metadata": {},
     "output_type": "execute_result"
    }
   ],
   "source": [
    "X[:,0] = le_state.transform(X[:,0])\n",
    "X[:,1] = le_temp.transform(X[:,1])\n",
    "X = X.astype(float)\n",
    "X"
   ]
  },
  {
   "cell_type": "code",
   "execution_count": 70,
   "id": "d85883ce",
   "metadata": {},
   "outputs": [
    {
     "name": "stderr",
     "output_type": "stream",
     "text": [
      "C:\\Users\\madge\\anaconda3\\envs\\myenv\\Lib\\site-packages\\sklearn\\base.py:439: UserWarning: X does not have valid feature names, but DecisionTreeRegressor was fitted with feature names\n",
      "  warnings.warn(\n"
     ]
    },
    {
     "data": {
      "text/plain": [
       "array([0.])"
      ]
     },
     "execution_count": 70,
     "metadata": {},
     "output_type": "execute_result"
    }
   ],
   "source": [
    "y_pred = regressor.predict(X)\n",
    "y_pred"
   ]
  },
  {
   "cell_type": "code",
   "execution_count": 72,
   "id": "2Uxz_-DvIDbz",
   "metadata": {
    "id": "2Uxz_-DvIDbz"
   },
   "outputs": [],
   "source": [
    "import pickle"
   ]
  },
  {
   "cell_type": "code",
   "execution_count": 73,
   "id": "ce82b17c",
   "metadata": {},
   "outputs": [],
   "source": [
    "data = {'model': regressor, \"le_state\" : le_state, \"le_temp\" : le_temp}\n",
    "with open('saved_steps.pkl', 'wb') as file:\n",
    "    pickle.dump(data, file)"
   ]
  },
  {
   "cell_type": "code",
   "execution_count": 74,
   "id": "4ec562ed",
   "metadata": {},
   "outputs": [],
   "source": [
    "with open('saved_steps.pkl', 'rb') as file:\n",
    "    data = pickle.load(file)\n",
    "data_loaded = data[\"model\"]\n",
    "le_state = data[\"le_state\"]\n",
    "le_temp = data[\"le_temp\"]"
   ]
  },
  {
   "cell_type": "code",
   "execution_count": 75,
   "id": "b0b5eae8",
   "metadata": {},
   "outputs": [
    {
     "name": "stderr",
     "output_type": "stream",
     "text": [
      "C:\\Users\\madge\\anaconda3\\envs\\myenv\\Lib\\site-packages\\sklearn\\base.py:439: UserWarning: X does not have valid feature names, but DecisionTreeRegressor was fitted with feature names\n",
      "  warnings.warn(\n"
     ]
    },
    {
     "data": {
      "text/plain": [
       "array([0.])"
      ]
     },
     "execution_count": 75,
     "metadata": {},
     "output_type": "execute_result"
    }
   ],
   "source": [
    "y_pred = data_loaded.predict(X)\n",
    "y_pred"
   ]
  },
  {
   "cell_type": "code",
   "execution_count": null,
   "id": "523528ea",
   "metadata": {},
   "outputs": [],
   "source": []
  }
 ],
 "metadata": {
  "colab": {
   "provenance": [],
   "toc_visible": true
  },
  "kernelspec": {
   "display_name": "myenv",
   "language": "python",
   "name": "myenv"
  },
  "language_info": {
   "codemirror_mode": {
    "name": "ipython",
    "version": 3
   },
   "file_extension": ".py",
   "mimetype": "text/x-python",
   "name": "python",
   "nbconvert_exporter": "python",
   "pygments_lexer": "ipython3",
   "version": "3.11.2"
  },
  "papermill": {
   "default_parameters": {},
   "duration": 21.833294,
   "end_time": "2021-09-21T16:06:49.842380",
   "environment_variables": {},
   "exception": null,
   "input_path": "__notebook__.ipynb",
   "output_path": "__notebook__.ipynb",
   "parameters": {},
   "start_time": "2021-09-21T16:06:28.009086",
   "version": "2.3.3"
  }
 },
 "nbformat": 4,
 "nbformat_minor": 5
}
