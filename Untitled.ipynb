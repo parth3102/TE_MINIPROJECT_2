{
 "cells": [
  {
   "cell_type": "code",
   "execution_count": 1,
   "id": "b2ea7834",
   "metadata": {},
   "outputs": [],
   "source": [
    "import numpy as np\n",
    "import pandas as pd\n",
    "import seaborn as sns \n",
    "import matplotlib.pyplot as plt\n",
    "from sklearn.impute import SimpleImputer\n",
    "from sklearn.neighbors import LocalOutlierFactor\n",
    "from scipy.stats import probplot\n",
    "from scipy.stats import zscore"
   ]
  },
  {
   "cell_type": "code",
   "execution_count": 2,
   "id": "f589adce",
   "metadata": {},
   "outputs": [],
   "source": [
    "# Importing the dataset\n",
    "df = pd.read_csv(\"FinalData.csv\", encoding= 'unicode_escape')"
   ]
  },
  {
   "cell_type": "code",
   "execution_count": 3,
   "id": "26a374c9",
   "metadata": {},
   "outputs": [
    {
     "data": {
      "text/html": [
       "<div>\n",
       "<style scoped>\n",
       "    .dataframe tbody tr th:only-of-type {\n",
       "        vertical-align: middle;\n",
       "    }\n",
       "\n",
       "    .dataframe tbody tr th {\n",
       "        vertical-align: top;\n",
       "    }\n",
       "\n",
       "    .dataframe thead th {\n",
       "        text-align: right;\n",
       "    }\n",
       "</style>\n",
       "<table border=\"1\" class=\"dataframe\">\n",
       "  <thead>\n",
       "    <tr style=\"text-align: right;\">\n",
       "      <th></th>\n",
       "      <th>STATION CODE</th>\n",
       "      <th>LOCATIONS</th>\n",
       "      <th>STATE</th>\n",
       "      <th>Temp</th>\n",
       "      <th>PH</th>\n",
       "      <th>Conductivity</th>\n",
       "      <th>BOD</th>\n",
       "      <th>NI</th>\n",
       "      <th>Fec_col</th>\n",
       "      <th>Tot_col</th>\n",
       "    </tr>\n",
       "  </thead>\n",
       "  <tbody>\n",
       "    <tr>\n",
       "      <th>3725</th>\n",
       "      <td>2474</td>\n",
       "      <td>UNCHAHAAR (NEAR THERMAL POWER PLANT)</td>\n",
       "      <td>UTTAR PRADESH</td>\n",
       "      <td>19.5</td>\n",
       "      <td>6.30</td>\n",
       "      <td>871.5</td>\n",
       "      <td>3.00</td>\n",
       "      <td>0.170</td>\n",
       "      <td>2.0</td>\n",
       "      <td>2.0</td>\n",
       "    </tr>\n",
       "    <tr>\n",
       "      <th>3726</th>\n",
       "      <td>2475</td>\n",
       "      <td>INDUSTRIAL AREA, SULTANPUR ROAD</td>\n",
       "      <td>UTTAR PRADESH</td>\n",
       "      <td>21.0</td>\n",
       "      <td>8.00</td>\n",
       "      <td>865.0</td>\n",
       "      <td>3.00</td>\n",
       "      <td>0.220</td>\n",
       "      <td>2.0</td>\n",
       "      <td>2.0</td>\n",
       "    </tr>\n",
       "    <tr>\n",
       "      <th>3727</th>\n",
       "      <td>2479</td>\n",
       "      <td>NEAR M/S KUMAR INTER NATIONAL LAKDI\\nFAZALPUR,...</td>\n",
       "      <td>UTTAR PRADESH</td>\n",
       "      <td>26.0</td>\n",
       "      <td>7.10</td>\n",
       "      <td>274.0</td>\n",
       "      <td>0.35</td>\n",
       "      <td>0.065</td>\n",
       "      <td>2.0</td>\n",
       "      <td>70.0</td>\n",
       "    </tr>\n",
       "    <tr>\n",
       "      <th>3728</th>\n",
       "      <td>2480</td>\n",
       "      <td>NEAR BRAHMAN MAJRA, PILKHANI</td>\n",
       "      <td>UTTAR PRADESH</td>\n",
       "      <td>21.5</td>\n",
       "      <td>7.25</td>\n",
       "      <td>412.5</td>\n",
       "      <td>0.00</td>\n",
       "      <td>0.000</td>\n",
       "      <td>2.0</td>\n",
       "      <td>70.0</td>\n",
       "    </tr>\n",
       "    <tr>\n",
       "      <th>3729</th>\n",
       "      <td>2481</td>\n",
       "      <td>NEAR PEER BEGRAJ INDSTRIAL AREA,\\nMUZAFFARNAGAR</td>\n",
       "      <td>UTTAR PRADESH</td>\n",
       "      <td>18.0</td>\n",
       "      <td>7.40</td>\n",
       "      <td>576.0</td>\n",
       "      <td>0.00</td>\n",
       "      <td>0.000</td>\n",
       "      <td>2.0</td>\n",
       "      <td>2.0</td>\n",
       "    </tr>\n",
       "  </tbody>\n",
       "</table>\n",
       "</div>"
      ],
      "text/plain": [
       "      STATION CODE                                          LOCATIONS  \\\n",
       "3725          2474               UNCHAHAAR (NEAR THERMAL POWER PLANT)   \n",
       "3726          2475                    INDUSTRIAL AREA, SULTANPUR ROAD   \n",
       "3727          2479  NEAR M/S KUMAR INTER NATIONAL LAKDI\\nFAZALPUR,...   \n",
       "3728          2480                       NEAR BRAHMAN MAJRA, PILKHANI   \n",
       "3729          2481    NEAR PEER BEGRAJ INDSTRIAL AREA,\\nMUZAFFARNAGAR   \n",
       "\n",
       "              STATE  Temp    PH  Conductivity   BOD     NI  Fec_col  Tot_col  \n",
       "3725  UTTAR PRADESH  19.5  6.30         871.5  3.00  0.170      2.0      2.0  \n",
       "3726  UTTAR PRADESH  21.0  8.00         865.0  3.00  0.220      2.0      2.0  \n",
       "3727  UTTAR PRADESH  26.0  7.10         274.0  0.35  0.065      2.0     70.0  \n",
       "3728  UTTAR PRADESH  21.5  7.25         412.5  0.00  0.000      2.0     70.0  \n",
       "3729  UTTAR PRADESH  18.0  7.40         576.0  0.00  0.000      2.0      2.0  "
      ]
     },
     "execution_count": 3,
     "metadata": {},
     "output_type": "execute_result"
    }
   ],
   "source": [
    "df.tail()"
   ]
  },
  {
   "cell_type": "code",
   "execution_count": 4,
   "id": "aca46ed6",
   "metadata": {},
   "outputs": [
    {
     "data": {
      "text/plain": [
       "STATION CODE      int64\n",
       "LOCATIONS        object\n",
       "STATE            object\n",
       "Temp            float64\n",
       "PH              float64\n",
       "Conductivity    float64\n",
       "BOD             float64\n",
       "NI              float64\n",
       "Fec_col         float64\n",
       "Tot_col         float64\n",
       "dtype: object"
      ]
     },
     "execution_count": 4,
     "metadata": {},
     "output_type": "execute_result"
    }
   ],
   "source": [
    "# Checking for datatypes of the dataset\n",
    "df.dtypes"
   ]
  },
  {
   "cell_type": "code",
   "execution_count": 5,
   "id": "53aa22c1",
   "metadata": {},
   "outputs": [],
   "source": [
    "# Replacing string NAN values with actual NAN value (np.nan)\n",
    "def convert_to_nan(df):\n",
    "    n_col = df.shape[1]\n",
    "    for index in range(n_col):\n",
    "        df.iloc[:, index]  = df.iloc[:, index].replace(\"NAN\", np.nan)\n",
    "    return df\n",
    "\n",
    "df = convert_to_nan(df)"
   ]
  },
  {
   "cell_type": "code",
   "execution_count": 6,
   "id": "16f3787a",
   "metadata": {},
   "outputs": [
    {
     "data": {
      "text/plain": [
       "STATION CODE    0\n",
       "LOCATIONS       0\n",
       "STATE           0\n",
       "Temp            0\n",
       "PH              0\n",
       "Conductivity    0\n",
       "BOD             0\n",
       "NI              0\n",
       "Fec_col         0\n",
       "Tot_col         0\n",
       "dtype: int64"
      ]
     },
     "execution_count": 6,
     "metadata": {},
     "output_type": "execute_result"
    }
   ],
   "source": [
    "# Checking for missing values\n",
    "df.isnull().sum().sort_values()"
   ]
  },
  {
   "cell_type": "code",
   "execution_count": 7,
   "id": "e923d700",
   "metadata": {},
   "outputs": [
    {
     "data": {
      "text/plain": [
       "LOCATIONS    0\n",
       "STATE        0\n",
       "dtype: int64"
      ]
     },
     "execution_count": 7,
     "metadata": {},
     "output_type": "execute_result"
    }
   ],
   "source": [
    "df_cat = df.select_dtypes(include=\"object\")\n",
    "df_cat.isnull().sum()"
   ]
  },
  {
   "cell_type": "code",
   "execution_count": 8,
   "id": "3c599413",
   "metadata": {},
   "outputs": [
    {
     "data": {
      "image/png": "[encoded data removed]",
      "text/plain": [
       "<Figure size 700x500 with 1 Axes>"
      ]
     },
     "metadata": {},
     "output_type": "display_data"
    },
    {
     "data": {
      "image/png": "[encoded data removed]",
      "text/plain": [
       "<Figure size 700x500 with 1 Axes>"
      ]
     },
     "metadata": {},
     "output_type": "display_data"
    },
    {
     "data": {
      "image/png": "[encoded data removed]",
      "text/plain": [
       "<Figure size 700x500 with 1 Axes>"
      ]
     },
     "metadata": {},
     "output_type": "display_data"
    },
    {
     "data": {
      "image/png": "[encoded data removed]",
      "text/plain": [
       "<Figure size 700x500 with 1 Axes>"
      ]
     },
     "metadata": {},
     "output_type": "display_data"
    },
    {
     "data": {
      "image/png": "[encoded data removed]",
      "text/plain": [
       "<Figure size 700x500 with 1 Axes>"
      ]
     },
     "metadata": {},
     "output_type": "display_data"
    },
    {
     "data": {
      "image/png": "[encoded data removed]",
      "text/plain": [
       "<Figure size 700x500 with 1 Axes>"
      ]
     },
     "metadata": {},
     "output_type": "display_data"
    },
    {
     "data": {
      "image/png": "[encoded data removed]",
      "text/plain": [
       "<Figure size 700x500 with 1 Axes>"
      ]
     },
     "metadata": {},
     "output_type": "display_data"
    },
    {
     "data": {
      "image/png": "[encoded data removed]",
      "text/plain": [
       "<Figure size 700x500 with 1 Axes>"
      ]
     },
     "metadata": {},
     "output_type": "display_data"
    }
   ],
   "source": [
    "# PLotting PDFs of all the numeric attributes in the dataset\n",
    "\n",
    "df_num = df.select_dtypes(exclude=\"object\")\n",
    "\n",
    "def plot_kde(df):\n",
    "    n_col = df.shape[1]\n",
    "    for index in range(n_col):\n",
    "        col_index = df.iloc[:, index]\n",
    "        fig, ax = plt.subplots(1,1, figsize=(7, 5))\n",
    "        sns.kdeplot(data=df, x=col_index.name)\n",
    "        \n",
    "plot_kde(df_num)"
   ]
  },
  {
   "cell_type": "code",
   "execution_count": 9,
   "id": "77e4ca9a",
   "metadata": {},
   "outputs": [
    {
     "name": "stdout",
     "output_type": "stream",
     "text": [
      "Number of outliers using Z-Score method- 143\n"
     ]
    },
    {
     "data": {
      "text/html": [
       "<div>\n",
       "<style scoped>\n",
       "    .dataframe tbody tr th:only-of-type {\n",
       "        vertical-align: middle;\n",
       "    }\n",
       "\n",
       "    .dataframe tbody tr th {\n",
       "        vertical-align: top;\n",
       "    }\n",
       "\n",
       "    .dataframe thead th {\n",
       "        text-align: right;\n",
       "    }\n",
       "</style>\n",
       "<table border=\"1\" class=\"dataframe\">\n",
       "  <thead>\n",
       "    <tr style=\"text-align: right;\">\n",
       "      <th></th>\n",
       "      <th>STATION CODE</th>\n",
       "      <th>LOCATIONS</th>\n",
       "      <th>STATE</th>\n",
       "      <th>Temp</th>\n",
       "      <th>PH</th>\n",
       "      <th>Conductivity</th>\n",
       "      <th>BOD</th>\n",
       "      <th>NI</th>\n",
       "      <th>Fec_col</th>\n",
       "      <th>Tot_col</th>\n",
       "    </tr>\n",
       "  </thead>\n",
       "  <tbody>\n",
       "    <tr>\n",
       "      <th>471</th>\n",
       "      <td>3386</td>\n",
       "      <td>JAKREM HOT SPRING AT JAKREM</td>\n",
       "      <td>MEGHALAYA</td>\n",
       "      <td>42.5</td>\n",
       "      <td>9.35</td>\n",
       "      <td>357.5</td>\n",
       "      <td>0.60</td>\n",
       "      <td>0.850</td>\n",
       "      <td>2.0</td>\n",
       "      <td>14.5</td>\n",
       "    </tr>\n",
       "    <tr>\n",
       "      <th>855</th>\n",
       "      <td>2530</td>\n",
       "      <td>HOT SPRING AT BAKRESHWAR</td>\n",
       "      <td>WEST BENGAL</td>\n",
       "      <td>65.5</td>\n",
       "      <td>8.40</td>\n",
       "      <td>566.0</td>\n",
       "      <td>0.50</td>\n",
       "      <td>0.650</td>\n",
       "      <td>2.0</td>\n",
       "      <td>2.0</td>\n",
       "    </tr>\n",
       "    <tr>\n",
       "      <th>1047</th>\n",
       "      <td>2530</td>\n",
       "      <td>HOT SPRING AT BAKRESHWAR</td>\n",
       "      <td>WEST BENGAL</td>\n",
       "      <td>63.0</td>\n",
       "      <td>9.00</td>\n",
       "      <td>584.0</td>\n",
       "      <td>0.55</td>\n",
       "      <td>0.195</td>\n",
       "      <td>3.5</td>\n",
       "      <td>2.0</td>\n",
       "    </tr>\n",
       "    <tr>\n",
       "      <th>1383</th>\n",
       "      <td>3245</td>\n",
       "      <td>BOREWELL AT DHANGADHRA\\nNEAR DHANGADHRA CHEMICALS</td>\n",
       "      <td>GUJARAT</td>\n",
       "      <td>41.0</td>\n",
       "      <td>7.00</td>\n",
       "      <td>5157.0</td>\n",
       "      <td>0.80</td>\n",
       "      <td>1.200</td>\n",
       "      <td>2.0</td>\n",
       "      <td>2.0</td>\n",
       "    </tr>\n",
       "    <tr>\n",
       "      <th>1877</th>\n",
       "      <td>3386</td>\n",
       "      <td>JAKREM HOT SPRING AT JAKREM</td>\n",
       "      <td>MEGHALAYA</td>\n",
       "      <td>44.0</td>\n",
       "      <td>9.25</td>\n",
       "      <td>337.5</td>\n",
       "      <td>1.00</td>\n",
       "      <td>0.830</td>\n",
       "      <td>4.0</td>\n",
       "      <td>2.0</td>\n",
       "    </tr>\n",
       "    <tr>\n",
       "      <th>...</th>\n",
       "      <td>...</td>\n",
       "      <td>...</td>\n",
       "      <td>...</td>\n",
       "      <td>...</td>\n",
       "      <td>...</td>\n",
       "      <td>...</td>\n",
       "      <td>...</td>\n",
       "      <td>...</td>\n",
       "      <td>...</td>\n",
       "      <td>...</td>\n",
       "    </tr>\n",
       "    <tr>\n",
       "      <th>1176</th>\n",
       "      <td>3540</td>\n",
       "      <td>WELL AT SULTANPURI, DELHI</td>\n",
       "      <td>DELHI</td>\n",
       "      <td>19.0</td>\n",
       "      <td>7.00</td>\n",
       "      <td>4540.0</td>\n",
       "      <td>0.40</td>\n",
       "      <td>282.760</td>\n",
       "      <td>24502.5</td>\n",
       "      <td>6501.0</td>\n",
       "    </tr>\n",
       "    <tr>\n",
       "      <th>1992</th>\n",
       "      <td>3146</td>\n",
       "      <td>GROUND WATER FROM\\nDUMRAON</td>\n",
       "      <td>BIHAR</td>\n",
       "      <td>26.0</td>\n",
       "      <td>7.90</td>\n",
       "      <td>435.5</td>\n",
       "      <td>2.35</td>\n",
       "      <td>0.610</td>\n",
       "      <td>35000.0</td>\n",
       "      <td>35000.0</td>\n",
       "    </tr>\n",
       "    <tr>\n",
       "      <th>1993</th>\n",
       "      <td>3148</td>\n",
       "      <td>GROUND WATER FROM JAMALPUR</td>\n",
       "      <td>BIHAR</td>\n",
       "      <td>20.0</td>\n",
       "      <td>7.00</td>\n",
       "      <td>877.0</td>\n",
       "      <td>2.35</td>\n",
       "      <td>0.300</td>\n",
       "      <td>35000.0</td>\n",
       "      <td>35000.0</td>\n",
       "    </tr>\n",
       "    <tr>\n",
       "      <th>3471</th>\n",
       "      <td>3986</td>\n",
       "      <td>IB THERMAL POWER STATION, JHARSUGUDA</td>\n",
       "      <td>ODISHA</td>\n",
       "      <td>30.0</td>\n",
       "      <td>7.50</td>\n",
       "      <td>292.0</td>\n",
       "      <td>0.45</td>\n",
       "      <td>2.105</td>\n",
       "      <td>2.0</td>\n",
       "      <td>46001.0</td>\n",
       "    </tr>\n",
       "    <tr>\n",
       "      <th>3472</th>\n",
       "      <td>3987</td>\n",
       "      <td>BELPAHAR AREA, JHARSUGUDA</td>\n",
       "      <td>ODISHA</td>\n",
       "      <td>30.0</td>\n",
       "      <td>8.00</td>\n",
       "      <td>470.0</td>\n",
       "      <td>1.15</td>\n",
       "      <td>0.990</td>\n",
       "      <td>4601.0</td>\n",
       "      <td>8001.0</td>\n",
       "    </tr>\n",
       "  </tbody>\n",
       "</table>\n",
       "<p>143 rows × 10 columns</p>\n",
       "</div>"
      ],
      "text/plain": [
       "      STATION CODE                                          LOCATIONS  \\\n",
       "471           3386                        JAKREM HOT SPRING AT JAKREM   \n",
       "855           2530                           HOT SPRING AT BAKRESHWAR   \n",
       "1047          2530                           HOT SPRING AT BAKRESHWAR   \n",
       "1383          3245  BOREWELL AT DHANGADHRA\\nNEAR DHANGADHRA CHEMICALS   \n",
       "1877          3386                        JAKREM HOT SPRING AT JAKREM   \n",
       "...            ...                                                ...   \n",
       "1176          3540                          WELL AT SULTANPURI, DELHI   \n",
       "1992          3146                         GROUND WATER FROM\\nDUMRAON   \n",
       "1993          3148                         GROUND WATER FROM JAMALPUR   \n",
       "3471          3986               IB THERMAL POWER STATION, JHARSUGUDA   \n",
       "3472          3987                          BELPAHAR AREA, JHARSUGUDA   \n",
       "\n",
       "            STATE  Temp    PH  Conductivity   BOD       NI  Fec_col  Tot_col  \n",
       "471     MEGHALAYA  42.5  9.35         357.5  0.60    0.850      2.0     14.5  \n",
       "855   WEST BENGAL  65.5  8.40         566.0  0.50    0.650      2.0      2.0  \n",
       "1047  WEST BENGAL  63.0  9.00         584.0  0.55    0.195      3.5      2.0  \n",
       "1383      GUJARAT  41.0  7.00        5157.0  0.80    1.200      2.0      2.0  \n",
       "1877    MEGHALAYA  44.0  9.25         337.5  1.00    0.830      4.0      2.0  \n",
       "...           ...   ...   ...           ...   ...      ...      ...      ...  \n",
       "1176        DELHI  19.0  7.00        4540.0  0.40  282.760  24502.5   6501.0  \n",
       "1992        BIHAR  26.0  7.90         435.5  2.35    0.610  35000.0  35000.0  \n",
       "1993        BIHAR  20.0  7.00         877.0  2.35    0.300  35000.0  35000.0  \n",
       "3471       ODISHA  30.0  7.50         292.0  0.45    2.105      2.0  46001.0  \n",
       "3472       ODISHA  30.0  8.00         470.0  1.15    0.990   4601.0   8001.0  \n",
       "\n",
       "[143 rows x 10 columns]"
      ]
     },
     "execution_count": 9,
     "metadata": {},
     "output_type": "execute_result"
    }
   ],
   "source": [
    "# Here, almost all kde plots are Gaussian Like \n",
    "# Using Z-Score Normalization to detect outliers\n",
    "\n",
    "df_num_norm = zscore(df_num, axis=0)\n",
    "\n",
    "\n",
    "def indices_of_greater_than_3(df_norm):\n",
    "    indices_arr = []\n",
    "    n_col = df_norm.shape[1]\n",
    "    for index in range(n_col):\n",
    "        col_index = df_norm.iloc[: ,index]\n",
    "        greater_than_3 = df_norm[col_index > 3]\n",
    "        greater_than_3_index = greater_than_3.index\n",
    "        indices_arr.extend(greater_than_3_index)\n",
    "    return indices_arr\n",
    "\n",
    "indices_arr = indices_of_greater_than_3(df_num_norm)\n",
    "print(\"Number of outliers using Z-Score method-\",len(indices_arr))\n",
    "df.iloc[indices_arr, :]"
   ]
  },
  {
   "cell_type": "code",
   "execution_count": 10,
   "id": "fa0b1f7e",
   "metadata": {},
   "outputs": [
    {
     "data": {
      "text/plain": [
       "(3598, 10)"
      ]
     },
     "execution_count": 10,
     "metadata": {},
     "output_type": "execute_result"
    }
   ],
   "source": [
    "df.drop(indices_arr, axis=0, inplace=True)\n",
    "df.shape"
   ]
  },
  {
   "cell_type": "code",
   "execution_count": 11,
   "id": "006d420b",
   "metadata": {},
   "outputs": [
    {
     "data": {
      "image/png": "[encoded data removed]",
      "text/plain": [
       "<Figure size 700x500 with 1 Axes>"
      ]
     },
     "metadata": {},
     "output_type": "display_data"
    },
    {
     "data": {
      "image/png": "[encoded data removed]",
      "text/plain": [
       "<Figure size 700x500 with 1 Axes>"
      ]
     },
     "metadata": {},
     "output_type": "display_data"
    },
    {
     "data": {
      "image/png": "[encoded data removed]",
      "text/plain": [
       "<Figure size 700x500 with 1 Axes>"
      ]
     },
     "metadata": {},
     "output_type": "display_data"
    },
    {
     "data": {
      "image/png": "[encoded data removed]",
      "text/plain": [
       "<Figure size 700x500 with 1 Axes>"
      ]
     },
     "metadata": {},
     "output_type": "display_data"
    },
    {
     "data": {
      "image/png": "[encoded data removed]",
      "text/plain": [
       "<Figure size 700x500 with 1 Axes>"
      ]
     },
     "metadata": {},
     "output_type": "display_data"
    },
    {
     "data": {
      "image/png": "[encoded data removed]",
      "text/plain": [
       "<Figure size 700x500 with 1 Axes>"
      ]
     },
     "metadata": {},
     "output_type": "display_data"
    },
    {
     "data": {
      "image/png": "[encoded data removed]",
      "text/plain": [
       "<Figure size 700x500 with 1 Axes>"
      ]
     },
     "metadata": {},
     "output_type": "display_data"
    },
    {
     "data": {
      "image/png": "[encoded data removed]",
      "text/plain": [
       "<Figure size 700x500 with 1 Axes>"
      ]
     },
     "metadata": {},
     "output_type": "display_data"
    }
   ],
   "source": [
    "plot_kde(df.select_dtypes(exclude=\"object\"))"
   ]
  },
  {
   "cell_type": "markdown",
   "id": "bed1fcdf",
   "metadata": {
    "id": "bed1fcdf",
    "papermill": {
     "duration": 0.062228,
     "end_time": "2021-09-21T16:06:45.948456",
     "exception": false,
     "start_time": "2021-09-21T16:06:45.886228",
     "status": "completed"
    },
    "tags": []
   },
   "source": [
    "## Water Quality Index Calculation\n",
    "\n",
    "I will be using \"Weighted Arithmetic Water Quality Index Method\" to calculate WQI of each water sample. The formula to calculate WQI is - \n",
    "\n",
    "**WQI = ∑ qi × wi / ∑ wi**\n",
    "\n",
    "Here wi - Unit weight of ith parameter\n",
    "\n",
    "     qi - Quality estimate scale of each parameter, it is calculated with the formula - \n",
    "\n",
    "**qi = 100 × ( Vi − VIdeal / Si − VIdeal )**\n",
    "\n",
    "Here Vi - Measured value of ith parameter\n",
    "\n",
    "     Videal - Ideal value of ith parameter in pure water\n",
    "     \n",
    "     Si - Standard value recommended for ith parameter\n",
    "\n",
    "wi is calculated by the formula - \n",
    "\n",
    "**wi = K /  Si**\n",
    "\n",
    "Here K is proportionality constant which is - \n",
    "\n",
    " **K = 1 /  ∑ Si**"
   ]
  },
  {
   "cell_type": "markdown",
   "id": "9235a75d",
   "metadata": {
    "id": "9235a75d",
    "papermill": {
     "duration": 0.062479,
     "end_time": "2021-09-21T16:06:46.074303",
     "exception": false,
     "start_time": "2021-09-21T16:06:46.011824",
     "status": "completed"
    },
    "tags": []
   },
   "source": [
    "##### Standard value recommended for parameters (Si) - \n",
    "\n",
    "pH                                   8.5\n",
    "\n",
    "Conductivity, µS/cm                  1000\n",
    "\n",
    "Biological oxygen demand, mg/L       5\n",
    "\n",
    "Nitrate, mg/L                        45\n",
    "\n",
    "Fecal coliform/100 mL                100\n",
    "\n",
    "Total coliform/100 mL                1000"
   ]
  },
  {
   "cell_type": "markdown",
   "id": "81369832",
   "metadata": {
    "id": "81369832",
    "papermill": {
     "duration": 0.06218,
     "end_time": "2021-09-21T16:06:46.199590",
     "exception": false,
     "start_time": "2021-09-21T16:06:46.137410",
     "status": "completed"
    },
    "tags": []
   },
   "source": [
    "##### Values of unit weights for each parameter (wi) -\n",
    "\n",
    "pH                                   0.2604\n",
    "\n",
    "Conductivity                         0.0022\n",
    "\n",
    "Biological Oxygen Demand             0.4426\n",
    "\n",
    "Nitrate                              0.0492\n",
    "\n",
    "Fecal Coliform                       0.0221\n",
    "\n",
    "Total Coliform                       0.0022"
   ]
  },
  {
   "cell_type": "markdown",
   "id": "9f5a638d",
   "metadata": {
    "id": "9f5a638d",
    "papermill": {
     "duration": 0.063473,
     "end_time": "2021-09-21T16:06:46.328570",
     "exception": false,
     "start_time": "2021-09-21T16:06:46.265097",
     "status": "completed"
    },
    "tags": []
   },
   "source": [
    "##### Ideal value of parameters (Videal) - \n",
    "\n",
    "pH                                   7.0\n",
    "\n",
    "Conductivity                         0\n",
    "\n",
    "Biological Oxygen Demand             0\n",
    "\n",
    "Nitrate                              0\n",
    "\n",
    "Fecal Coliform                       0\n",
    "\n",
    "Total Coliform                       0"
   ]
  },
  {
   "cell_type": "code",
   "execution_count": 12,
   "id": "e9845f8a",
   "metadata": {},
   "outputs": [],
   "source": [
    "# Calculating Water Quality Index of each sample\n",
    "df_num = df.select_dtypes(exclude=\"object\")\n",
    "# Dropping Temp attribute because it is not used for computing WQI\n",
    "df_num.drop([\"Temp\"], axis=1, inplace=True)\n",
    "\n",
    "# Weight Vector(wi)\n",
    "wi = np.array([0.2213, 0.2604, 0.0022, 0.4426, 0.0492, 0.0221, 0.0022])\n",
    "\n",
    "# Standard values of parameters(si)\n",
    "si = np.array([10, 8.5, 1000, 5, 45, 100, 1000])\n",
    "\n",
    "# Ideal values of paramters(vIdeal)\n",
    "vIdeal = np.array([14.6, 7, 0, 0, 0, 0, 0])\n",
    "\n",
    "def calc_wqi(sample):\n",
    "    wqi_sample = 0\n",
    "    num_col = 7\n",
    "    for index in range(num_col):\n",
    "        v_index = sample[index] # Obeserved value of sample at index\n",
    "        v_index_ideal = vIdeal[index] # Ideal value of obeserved value\n",
    "        w_index = wi[index] # weight of corresponding parameter of obeserved value\n",
    "        std_index = si[index] # Standard value recommended for obeserved value\n",
    "        q_index = (v_index - v_index_ideal) / (std_index - v_index_ideal)\n",
    "        q_index = q_index * 100 # Final qi value of obeserved value\n",
    "        wqi_sample += q_index*w_index\n",
    "    return wqi_sample"
   ]
  },
  {
   "cell_type": "code",
   "execution_count": 13,
   "id": "b36f2f99",
   "metadata": {},
   "outputs": [],
   "source": [
    "# Computing WQI for the whole dataset\n",
    "def calc_wqi_for_df(df):\n",
    "    wqi_arr = []\n",
    "    for index in range(df.shape[0]):\n",
    "        index_row = df.iloc[index, :]\n",
    "        wqi_row = calc_wqi(index_row)\n",
    "        wqi_arr.append(wqi_row)\n",
    "    return wqi_arr"
   ]
  },
  {
   "cell_type": "code",
   "execution_count": 14,
   "id": "a6c3dc2c",
   "metadata": {},
   "outputs": [],
   "source": [
    "wqi_arr = calc_wqi_for_df(df_num)\n",
    "# Converting oridnary array to numpy array\n",
    "wqi_arr = np.array(wqi_arr)\n",
    "wqi_arr = np.reshape(wqi_arr, (-1, 1))\n",
    "\n",
    "# Resetting index values of the dataframes\n",
    "wqi_arr_df = pd.DataFrame(wqi_arr, columns=[\"WQI\"]).reset_index()\n",
    "df = df.reset_index()"
   ]
  },
  {
   "cell_type": "code",
   "execution_count": 15,
   "id": "c3e7127c",
   "metadata": {},
   "outputs": [
    {
     "data": {
      "text/html": [
       "<div>\n",
       "<style scoped>\n",
       "    .dataframe tbody tr th:only-of-type {\n",
       "        vertical-align: middle;\n",
       "    }\n",
       "\n",
       "    .dataframe tbody tr th {\n",
       "        vertical-align: top;\n",
       "    }\n",
       "\n",
       "    .dataframe thead th {\n",
       "        text-align: right;\n",
       "    }\n",
       "</style>\n",
       "<table border=\"1\" class=\"dataframe\">\n",
       "  <thead>\n",
       "    <tr style=\"text-align: right;\">\n",
       "      <th></th>\n",
       "      <th>STATION CODE</th>\n",
       "      <th>LOCATIONS</th>\n",
       "      <th>STATE</th>\n",
       "      <th>Temp</th>\n",
       "      <th>PH</th>\n",
       "      <th>Conductivity</th>\n",
       "      <th>BOD</th>\n",
       "      <th>NI</th>\n",
       "      <th>Fec_col</th>\n",
       "      <th>Tot_col</th>\n",
       "      <th>WQI</th>\n",
       "    </tr>\n",
       "  </thead>\n",
       "  <tbody>\n",
       "    <tr>\n",
       "      <th>0</th>\n",
       "      <td>26</td>\n",
       "      <td>WELL AT GRAM PANCHAYAT OFFICE, KAANURU,\\nVIJAY...</td>\n",
       "      <td>ANDHRA PRADESH</td>\n",
       "      <td>25.0</td>\n",
       "      <td>7.60</td>\n",
       "      <td>1624.0</td>\n",
       "      <td>1.10</td>\n",
       "      <td>3.650</td>\n",
       "      <td>2.0</td>\n",
       "      <td>400.0</td>\n",
       "      <td>-33.802166</td>\n",
       "    </tr>\n",
       "    <tr>\n",
       "      <th>1</th>\n",
       "      <td>1513</td>\n",
       "      <td>BOREWELL KRISHNA MURTHY, D.NO. 48-16-43\\nAUTON...</td>\n",
       "      <td>ANDHRA PRADESH</td>\n",
       "      <td>26.0</td>\n",
       "      <td>7.85</td>\n",
       "      <td>1682.5</td>\n",
       "      <td>1.10</td>\n",
       "      <td>3.150</td>\n",
       "      <td>2.0</td>\n",
       "      <td>600.0</td>\n",
       "      <td>-7183.223007</td>\n",
       "    </tr>\n",
       "    <tr>\n",
       "      <th>2</th>\n",
       "      <td>1514</td>\n",
       "      <td>BOREWELL VIJAY KUMAR AUTONAGAR\\nVIJAYAWADA</td>\n",
       "      <td>ANDHRA PRADESH</td>\n",
       "      <td>25.0</td>\n",
       "      <td>7.40</td>\n",
       "      <td>1862.0</td>\n",
       "      <td>1.30</td>\n",
       "      <td>2.400</td>\n",
       "      <td>2.0</td>\n",
       "      <td>400.0</td>\n",
       "      <td>-7194.161986</td>\n",
       "    </tr>\n",
       "    <tr>\n",
       "      <th>3</th>\n",
       "      <td>1516</td>\n",
       "      <td>BOREWELL OF NAVLOK GARDENS, NELLORE</td>\n",
       "      <td>ANDHRA PRADESH</td>\n",
       "      <td>25.0</td>\n",
       "      <td>8.15</td>\n",
       "      <td>1502.5</td>\n",
       "      <td>1.10</td>\n",
       "      <td>16.100</td>\n",
       "      <td>2.0</td>\n",
       "      <td>600.0</td>\n",
       "      <td>-7191.071349</td>\n",
       "    </tr>\n",
       "    <tr>\n",
       "      <th>4</th>\n",
       "      <td>1517</td>\n",
       "      <td>BOREWELL NEAR TUNGBHADRA KURNOOL</td>\n",
       "      <td>ANDHRA PRADESH</td>\n",
       "      <td>24.0</td>\n",
       "      <td>7.40</td>\n",
       "      <td>4920.0</td>\n",
       "      <td>1.25</td>\n",
       "      <td>9.450</td>\n",
       "      <td>2.0</td>\n",
       "      <td>2.0</td>\n",
       "      <td>-7207.681195</td>\n",
       "    </tr>\n",
       "    <tr>\n",
       "      <th>...</th>\n",
       "      <td>...</td>\n",
       "      <td>...</td>\n",
       "      <td>...</td>\n",
       "      <td>...</td>\n",
       "      <td>...</td>\n",
       "      <td>...</td>\n",
       "      <td>...</td>\n",
       "      <td>...</td>\n",
       "      <td>...</td>\n",
       "      <td>...</td>\n",
       "      <td>...</td>\n",
       "    </tr>\n",
       "    <tr>\n",
       "      <th>3593</th>\n",
       "      <td>2474</td>\n",
       "      <td>UNCHAHAAR (NEAR THERMAL POWER PLANT)</td>\n",
       "      <td>UTTAR PRADESH</td>\n",
       "      <td>19.5</td>\n",
       "      <td>6.30</td>\n",
       "      <td>871.5</td>\n",
       "      <td>3.00</td>\n",
       "      <td>0.170</td>\n",
       "      <td>2.0</td>\n",
       "      <td>2.0</td>\n",
       "      <td>-11817.193652</td>\n",
       "    </tr>\n",
       "    <tr>\n",
       "      <th>3594</th>\n",
       "      <td>2475</td>\n",
       "      <td>INDUSTRIAL AREA, SULTANPUR ROAD</td>\n",
       "      <td>UTTAR PRADESH</td>\n",
       "      <td>21.0</td>\n",
       "      <td>8.00</td>\n",
       "      <td>865.0</td>\n",
       "      <td>3.00</td>\n",
       "      <td>0.220</td>\n",
       "      <td>2.0</td>\n",
       "      <td>2.0</td>\n",
       "      <td>-11792.488485</td>\n",
       "    </tr>\n",
       "    <tr>\n",
       "      <th>3595</th>\n",
       "      <td>2479</td>\n",
       "      <td>NEAR M/S KUMAR INTER NATIONAL LAKDI\\nFAZALPUR,...</td>\n",
       "      <td>UTTAR PRADESH</td>\n",
       "      <td>26.0</td>\n",
       "      <td>7.10</td>\n",
       "      <td>274.0</td>\n",
       "      <td>0.35</td>\n",
       "      <td>0.065</td>\n",
       "      <td>2.0</td>\n",
       "      <td>70.0</td>\n",
       "      <td>-11850.945770</td>\n",
       "    </tr>\n",
       "    <tr>\n",
       "      <th>3596</th>\n",
       "      <td>2480</td>\n",
       "      <td>NEAR BRAHMAN MAJRA, PILKHANI</td>\n",
       "      <td>UTTAR PRADESH</td>\n",
       "      <td>21.5</td>\n",
       "      <td>7.25</td>\n",
       "      <td>412.5</td>\n",
       "      <td>0.00</td>\n",
       "      <td>0.000</td>\n",
       "      <td>2.0</td>\n",
       "      <td>70.0</td>\n",
       "      <td>-11856.227476</td>\n",
       "    </tr>\n",
       "    <tr>\n",
       "      <th>3597</th>\n",
       "      <td>2481</td>\n",
       "      <td>NEAR PEER BEGRAJ INDSTRIAL AREA,\\nMUZAFFARNAGAR</td>\n",
       "      <td>UTTAR PRADESH</td>\n",
       "      <td>18.0</td>\n",
       "      <td>7.40</td>\n",
       "      <td>576.0</td>\n",
       "      <td>0.00</td>\n",
       "      <td>0.000</td>\n",
       "      <td>2.0</td>\n",
       "      <td>2.0</td>\n",
       "      <td>-11858.413336</td>\n",
       "    </tr>\n",
       "  </tbody>\n",
       "</table>\n",
       "<p>3598 rows × 11 columns</p>\n",
       "</div>"
      ],
      "text/plain": [
       "      STATION CODE                                          LOCATIONS  \\\n",
       "0               26  WELL AT GRAM PANCHAYAT OFFICE, KAANURU,\\nVIJAY...   \n",
       "1             1513  BOREWELL KRISHNA MURTHY, D.NO. 48-16-43\\nAUTON...   \n",
       "2             1514         BOREWELL VIJAY KUMAR AUTONAGAR\\nVIJAYAWADA   \n",
       "3             1516                BOREWELL OF NAVLOK GARDENS, NELLORE   \n",
       "4             1517                   BOREWELL NEAR TUNGBHADRA KURNOOL   \n",
       "...            ...                                                ...   \n",
       "3593          2474               UNCHAHAAR (NEAR THERMAL POWER PLANT)   \n",
       "3594          2475                    INDUSTRIAL AREA, SULTANPUR ROAD   \n",
       "3595          2479  NEAR M/S KUMAR INTER NATIONAL LAKDI\\nFAZALPUR,...   \n",
       "3596          2480                       NEAR BRAHMAN MAJRA, PILKHANI   \n",
       "3597          2481    NEAR PEER BEGRAJ INDSTRIAL AREA,\\nMUZAFFARNAGAR   \n",
       "\n",
       "               STATE  Temp    PH  Conductivity   BOD      NI  Fec_col  \\\n",
       "0     ANDHRA PRADESH  25.0  7.60        1624.0  1.10   3.650      2.0   \n",
       "1     ANDHRA PRADESH  26.0  7.85        1682.5  1.10   3.150      2.0   \n",
       "2     ANDHRA PRADESH  25.0  7.40        1862.0  1.30   2.400      2.0   \n",
       "3     ANDHRA PRADESH  25.0  8.15        1502.5  1.10  16.100      2.0   \n",
       "4     ANDHRA PRADESH  24.0  7.40        4920.0  1.25   9.450      2.0   \n",
       "...              ...   ...   ...           ...   ...     ...      ...   \n",
       "3593   UTTAR PRADESH  19.5  6.30         871.5  3.00   0.170      2.0   \n",
       "3594   UTTAR PRADESH  21.0  8.00         865.0  3.00   0.220      2.0   \n",
       "3595   UTTAR PRADESH  26.0  7.10         274.0  0.35   0.065      2.0   \n",
       "3596   UTTAR PRADESH  21.5  7.25         412.5  0.00   0.000      2.0   \n",
       "3597   UTTAR PRADESH  18.0  7.40         576.0  0.00   0.000      2.0   \n",
       "\n",
       "      Tot_col           WQI  \n",
       "0       400.0    -33.802166  \n",
       "1       600.0  -7183.223007  \n",
       "2       400.0  -7194.161986  \n",
       "3       600.0  -7191.071349  \n",
       "4         2.0  -7207.681195  \n",
       "...       ...           ...  \n",
       "3593      2.0 -11817.193652  \n",
       "3594      2.0 -11792.488485  \n",
       "3595     70.0 -11850.945770  \n",
       "3596     70.0 -11856.227476  \n",
       "3597      2.0 -11858.413336  \n",
       "\n",
       "[3598 rows x 11 columns]"
      ]
     },
     "execution_count": 15,
     "metadata": {},
     "output_type": "execute_result"
    }
   ],
   "source": [
    "# Combining dataframe of WQI and dataframe of attributes \n",
    "df_wqi = pd.concat([df, pd.DataFrame(wqi_arr, columns=[\"WQI\"])], axis=1)\n",
    "df_wqi.drop(\"index\", axis=1, inplace=True)\n",
    "df_wqi.select_dtypes(exclude=\"object\").abs()\n",
    "df_wqi"
   ]
  },
  {
   "cell_type": "code",
   "execution_count": 16,
   "id": "c3d8790e",
   "metadata": {},
   "outputs": [],
   "source": [
    "# These are samples with negative WQI\n",
    "df_wqi[\"WQI\"] = df_wqi[\"WQI\"].abs()"
   ]
  },
  {
   "cell_type": "code",
   "execution_count": 17,
   "id": "92cb1861",
   "metadata": {},
   "outputs": [
    {
     "data": {
      "text/html": [
       "<div>\n",
       "<style scoped>\n",
       "    .dataframe tbody tr th:only-of-type {\n",
       "        vertical-align: middle;\n",
       "    }\n",
       "\n",
       "    .dataframe tbody tr th {\n",
       "        vertical-align: top;\n",
       "    }\n",
       "\n",
       "    .dataframe thead th {\n",
       "        text-align: right;\n",
       "    }\n",
       "</style>\n",
       "<table border=\"1\" class=\"dataframe\">\n",
       "  <thead>\n",
       "    <tr style=\"text-align: right;\">\n",
       "      <th></th>\n",
       "      <th>STATION CODE</th>\n",
       "      <th>LOCATIONS</th>\n",
       "      <th>STATE</th>\n",
       "      <th>Temp</th>\n",
       "      <th>PH</th>\n",
       "      <th>Conductivity</th>\n",
       "      <th>BOD</th>\n",
       "      <th>NI</th>\n",
       "      <th>Fec_col</th>\n",
       "      <th>Tot_col</th>\n",
       "      <th>WQI</th>\n",
       "    </tr>\n",
       "  </thead>\n",
       "  <tbody>\n",
       "  </tbody>\n",
       "</table>\n",
       "</div>"
      ],
      "text/plain": [
       "Empty DataFrame\n",
       "Columns: [STATION CODE, LOCATIONS, STATE, Temp, PH, Conductivity, BOD, NI, Fec_col, Tot_col, WQI]\n",
       "Index: []"
      ]
     },
     "execution_count": 17,
     "metadata": {},
     "output_type": "execute_result"
    }
   ],
   "source": [
    "# These are samples with negative WQI\n",
    "df_wqi[(df_wqi[\"WQI\"] < 0)]"
   ]
  },
  {
   "cell_type": "markdown",
   "id": "c5827a17",
   "metadata": {
    "id": "c5827a17",
    "papermill": {
     "duration": 0.063964,
     "end_time": "2021-09-21T16:06:47.600424",
     "exception": false,
     "start_time": "2021-09-21T16:06:47.536460",
     "status": "completed"
    },
    "tags": []
   },
   "source": [
    "Now I will set level of water contamination based on WQI -\n",
    "\n",
    "          WQI Range                   Classification\n",
    "\n",
    "         Less than 25                  Excellent(3)\n",
    "            26–50                         Good(2)\n",
    "            51-75                         Poor(1)\n",
    "        Greater than 75                 Very Poor(0)"
   ]
  },
  {
   "cell_type": "code",
   "execution_count": 18,
   "id": "1343c993",
   "metadata": {},
   "outputs": [],
   "source": [
    "df_wqi[\"WQI clf\"] = df_wqi[\"WQI\"].apply(lambda x: (3 if (x <= 500)  \n",
    "                                        else(2 if (501<=x<=4000) \n",
    "                                        else(1 if (4001<=x<=7500) \n",
    "                                        else 0))))"
   ]
  },
  {
   "cell_type": "code",
   "execution_count": 19,
   "id": "2e2aac85",
   "metadata": {},
   "outputs": [
    {
     "data": {
      "text/html": [
       "<div>\n",
       "<style scoped>\n",
       "    .dataframe tbody tr th:only-of-type {\n",
       "        vertical-align: middle;\n",
       "    }\n",
       "\n",
       "    .dataframe tbody tr th {\n",
       "        vertical-align: top;\n",
       "    }\n",
       "\n",
       "    .dataframe thead th {\n",
       "        text-align: right;\n",
       "    }\n",
       "</style>\n",
       "<table border=\"1\" class=\"dataframe\">\n",
       "  <thead>\n",
       "    <tr style=\"text-align: right;\">\n",
       "      <th></th>\n",
       "      <th>STATION CODE</th>\n",
       "      <th>LOCATIONS</th>\n",
       "      <th>STATE</th>\n",
       "      <th>Temp</th>\n",
       "      <th>PH</th>\n",
       "      <th>Conductivity</th>\n",
       "      <th>BOD</th>\n",
       "      <th>NI</th>\n",
       "      <th>Fec_col</th>\n",
       "      <th>Tot_col</th>\n",
       "      <th>WQI</th>\n",
       "      <th>WQI clf</th>\n",
       "    </tr>\n",
       "  </thead>\n",
       "  <tbody>\n",
       "    <tr>\n",
       "      <th>0</th>\n",
       "      <td>26</td>\n",
       "      <td>WELL AT GRAM PANCHAYAT OFFICE, KAANURU,\\nVIJAY...</td>\n",
       "      <td>ANDHRA PRADESH</td>\n",
       "      <td>25.0</td>\n",
       "      <td>7.60</td>\n",
       "      <td>1624.0</td>\n",
       "      <td>1.10</td>\n",
       "      <td>3.650</td>\n",
       "      <td>2.0</td>\n",
       "      <td>400.0</td>\n",
       "      <td>33.802166</td>\n",
       "      <td>3</td>\n",
       "    </tr>\n",
       "    <tr>\n",
       "      <th>1</th>\n",
       "      <td>1513</td>\n",
       "      <td>BOREWELL KRISHNA MURTHY, D.NO. 48-16-43\\nAUTON...</td>\n",
       "      <td>ANDHRA PRADESH</td>\n",
       "      <td>26.0</td>\n",
       "      <td>7.85</td>\n",
       "      <td>1682.5</td>\n",
       "      <td>1.10</td>\n",
       "      <td>3.150</td>\n",
       "      <td>2.0</td>\n",
       "      <td>600.0</td>\n",
       "      <td>7183.223007</td>\n",
       "      <td>1</td>\n",
       "    </tr>\n",
       "    <tr>\n",
       "      <th>2</th>\n",
       "      <td>1514</td>\n",
       "      <td>BOREWELL VIJAY KUMAR AUTONAGAR\\nVIJAYAWADA</td>\n",
       "      <td>ANDHRA PRADESH</td>\n",
       "      <td>25.0</td>\n",
       "      <td>7.40</td>\n",
       "      <td>1862.0</td>\n",
       "      <td>1.30</td>\n",
       "      <td>2.400</td>\n",
       "      <td>2.0</td>\n",
       "      <td>400.0</td>\n",
       "      <td>7194.161986</td>\n",
       "      <td>1</td>\n",
       "    </tr>\n",
       "    <tr>\n",
       "      <th>3</th>\n",
       "      <td>1516</td>\n",
       "      <td>BOREWELL OF NAVLOK GARDENS, NELLORE</td>\n",
       "      <td>ANDHRA PRADESH</td>\n",
       "      <td>25.0</td>\n",
       "      <td>8.15</td>\n",
       "      <td>1502.5</td>\n",
       "      <td>1.10</td>\n",
       "      <td>16.100</td>\n",
       "      <td>2.0</td>\n",
       "      <td>600.0</td>\n",
       "      <td>7191.071349</td>\n",
       "      <td>1</td>\n",
       "    </tr>\n",
       "    <tr>\n",
       "      <th>4</th>\n",
       "      <td>1517</td>\n",
       "      <td>BOREWELL NEAR TUNGBHADRA KURNOOL</td>\n",
       "      <td>ANDHRA PRADESH</td>\n",
       "      <td>24.0</td>\n",
       "      <td>7.40</td>\n",
       "      <td>4920.0</td>\n",
       "      <td>1.25</td>\n",
       "      <td>9.450</td>\n",
       "      <td>2.0</td>\n",
       "      <td>2.0</td>\n",
       "      <td>7207.681195</td>\n",
       "      <td>1</td>\n",
       "    </tr>\n",
       "    <tr>\n",
       "      <th>...</th>\n",
       "      <td>...</td>\n",
       "      <td>...</td>\n",
       "      <td>...</td>\n",
       "      <td>...</td>\n",
       "      <td>...</td>\n",
       "      <td>...</td>\n",
       "      <td>...</td>\n",
       "      <td>...</td>\n",
       "      <td>...</td>\n",
       "      <td>...</td>\n",
       "      <td>...</td>\n",
       "      <td>...</td>\n",
       "    </tr>\n",
       "    <tr>\n",
       "      <th>3593</th>\n",
       "      <td>2474</td>\n",
       "      <td>UNCHAHAAR (NEAR THERMAL POWER PLANT)</td>\n",
       "      <td>UTTAR PRADESH</td>\n",
       "      <td>19.5</td>\n",
       "      <td>6.30</td>\n",
       "      <td>871.5</td>\n",
       "      <td>3.00</td>\n",
       "      <td>0.170</td>\n",
       "      <td>2.0</td>\n",
       "      <td>2.0</td>\n",
       "      <td>11817.193652</td>\n",
       "      <td>0</td>\n",
       "    </tr>\n",
       "    <tr>\n",
       "      <th>3594</th>\n",
       "      <td>2475</td>\n",
       "      <td>INDUSTRIAL AREA, SULTANPUR ROAD</td>\n",
       "      <td>UTTAR PRADESH</td>\n",
       "      <td>21.0</td>\n",
       "      <td>8.00</td>\n",
       "      <td>865.0</td>\n",
       "      <td>3.00</td>\n",
       "      <td>0.220</td>\n",
       "      <td>2.0</td>\n",
       "      <td>2.0</td>\n",
       "      <td>11792.488485</td>\n",
       "      <td>0</td>\n",
       "    </tr>\n",
       "    <tr>\n",
       "      <th>3595</th>\n",
       "      <td>2479</td>\n",
       "      <td>NEAR M/S KUMAR INTER NATIONAL LAKDI\\nFAZALPUR,...</td>\n",
       "      <td>UTTAR PRADESH</td>\n",
       "      <td>26.0</td>\n",
       "      <td>7.10</td>\n",
       "      <td>274.0</td>\n",
       "      <td>0.35</td>\n",
       "      <td>0.065</td>\n",
       "      <td>2.0</td>\n",
       "      <td>70.0</td>\n",
       "      <td>11850.945770</td>\n",
       "      <td>0</td>\n",
       "    </tr>\n",
       "    <tr>\n",
       "      <th>3596</th>\n",
       "      <td>2480</td>\n",
       "      <td>NEAR BRAHMAN MAJRA, PILKHANI</td>\n",
       "      <td>UTTAR PRADESH</td>\n",
       "      <td>21.5</td>\n",
       "      <td>7.25</td>\n",
       "      <td>412.5</td>\n",
       "      <td>0.00</td>\n",
       "      <td>0.000</td>\n",
       "      <td>2.0</td>\n",
       "      <td>70.0</td>\n",
       "      <td>11856.227476</td>\n",
       "      <td>0</td>\n",
       "    </tr>\n",
       "    <tr>\n",
       "      <th>3597</th>\n",
       "      <td>2481</td>\n",
       "      <td>NEAR PEER BEGRAJ INDSTRIAL AREA,\\nMUZAFFARNAGAR</td>\n",
       "      <td>UTTAR PRADESH</td>\n",
       "      <td>18.0</td>\n",
       "      <td>7.40</td>\n",
       "      <td>576.0</td>\n",
       "      <td>0.00</td>\n",
       "      <td>0.000</td>\n",
       "      <td>2.0</td>\n",
       "      <td>2.0</td>\n",
       "      <td>11858.413336</td>\n",
       "      <td>0</td>\n",
       "    </tr>\n",
       "  </tbody>\n",
       "</table>\n",
       "<p>3598 rows × 12 columns</p>\n",
       "</div>"
      ],
      "text/plain": [
       "      STATION CODE                                          LOCATIONS  \\\n",
       "0               26  WELL AT GRAM PANCHAYAT OFFICE, KAANURU,\\nVIJAY...   \n",
       "1             1513  BOREWELL KRISHNA MURTHY, D.NO. 48-16-43\\nAUTON...   \n",
       "2             1514         BOREWELL VIJAY KUMAR AUTONAGAR\\nVIJAYAWADA   \n",
       "3             1516                BOREWELL OF NAVLOK GARDENS, NELLORE   \n",
       "4             1517                   BOREWELL NEAR TUNGBHADRA KURNOOL   \n",
       "...            ...                                                ...   \n",
       "3593          2474               UNCHAHAAR (NEAR THERMAL POWER PLANT)   \n",
       "3594          2475                    INDUSTRIAL AREA, SULTANPUR ROAD   \n",
       "3595          2479  NEAR M/S KUMAR INTER NATIONAL LAKDI\\nFAZALPUR,...   \n",
       "3596          2480                       NEAR BRAHMAN MAJRA, PILKHANI   \n",
       "3597          2481    NEAR PEER BEGRAJ INDSTRIAL AREA,\\nMUZAFFARNAGAR   \n",
       "\n",
       "               STATE  Temp    PH  Conductivity   BOD      NI  Fec_col  \\\n",
       "0     ANDHRA PRADESH  25.0  7.60        1624.0  1.10   3.650      2.0   \n",
       "1     ANDHRA PRADESH  26.0  7.85        1682.5  1.10   3.150      2.0   \n",
       "2     ANDHRA PRADESH  25.0  7.40        1862.0  1.30   2.400      2.0   \n",
       "3     ANDHRA PRADESH  25.0  8.15        1502.5  1.10  16.100      2.0   \n",
       "4     ANDHRA PRADESH  24.0  7.40        4920.0  1.25   9.450      2.0   \n",
       "...              ...   ...   ...           ...   ...     ...      ...   \n",
       "3593   UTTAR PRADESH  19.5  6.30         871.5  3.00   0.170      2.0   \n",
       "3594   UTTAR PRADESH  21.0  8.00         865.0  3.00   0.220      2.0   \n",
       "3595   UTTAR PRADESH  26.0  7.10         274.0  0.35   0.065      2.0   \n",
       "3596   UTTAR PRADESH  21.5  7.25         412.5  0.00   0.000      2.0   \n",
       "3597   UTTAR PRADESH  18.0  7.40         576.0  0.00   0.000      2.0   \n",
       "\n",
       "      Tot_col           WQI  WQI clf  \n",
       "0       400.0     33.802166        3  \n",
       "1       600.0   7183.223007        1  \n",
       "2       400.0   7194.161986        1  \n",
       "3       600.0   7191.071349        1  \n",
       "4         2.0   7207.681195        1  \n",
       "...       ...           ...      ...  \n",
       "3593      2.0  11817.193652        0  \n",
       "3594      2.0  11792.488485        0  \n",
       "3595     70.0  11850.945770        0  \n",
       "3596     70.0  11856.227476        0  \n",
       "3597      2.0  11858.413336        0  \n",
       "\n",
       "[3598 rows x 12 columns]"
      ]
     },
     "execution_count": 19,
     "metadata": {},
     "output_type": "execute_result"
    }
   ],
   "source": [
    "df_wqi"
   ]
  },
  {
   "cell_type": "code",
   "execution_count": 20,
   "id": "c96f35a7",
   "metadata": {},
   "outputs": [
    {
     "data": {
      "text/html": [
       "<div>\n",
       "<style scoped>\n",
       "    .dataframe tbody tr th:only-of-type {\n",
       "        vertical-align: middle;\n",
       "    }\n",
       "\n",
       "    .dataframe tbody tr th {\n",
       "        vertical-align: top;\n",
       "    }\n",
       "\n",
       "    .dataframe thead th {\n",
       "        text-align: right;\n",
       "    }\n",
       "</style>\n",
       "<table border=\"1\" class=\"dataframe\">\n",
       "  <thead>\n",
       "    <tr style=\"text-align: right;\">\n",
       "      <th></th>\n",
       "      <th>STATION CODE</th>\n",
       "      <th>Temp</th>\n",
       "      <th>PH</th>\n",
       "      <th>Conductivity</th>\n",
       "      <th>BOD</th>\n",
       "      <th>NI</th>\n",
       "      <th>Fec_col</th>\n",
       "      <th>Tot_col</th>\n",
       "      <th>WQI</th>\n",
       "      <th>WQI clf</th>\n",
       "    </tr>\n",
       "  </thead>\n",
       "  <tbody>\n",
       "    <tr>\n",
       "      <th>count</th>\n",
       "      <td>3598.000000</td>\n",
       "      <td>3598.000000</td>\n",
       "      <td>3598.000000</td>\n",
       "      <td>3598.000000</td>\n",
       "      <td>3598.000000</td>\n",
       "      <td>3598.000000</td>\n",
       "      <td>3598.000000</td>\n",
       "      <td>3598.000000</td>\n",
       "      <td>3598.000000</td>\n",
       "      <td>3598.000000</td>\n",
       "    </tr>\n",
       "    <tr>\n",
       "      <th>mean</th>\n",
       "      <td>2877.045859</td>\n",
       "      <td>26.018496</td>\n",
       "      <td>7.302168</td>\n",
       "      <td>1247.913146</td>\n",
       "      <td>1.793677</td>\n",
       "      <td>2.539883</td>\n",
       "      <td>56.354919</td>\n",
       "      <td>111.259867</td>\n",
       "      <td>13748.343109</td>\n",
       "      <td>0.080878</td>\n",
       "    </tr>\n",
       "    <tr>\n",
       "      <th>std</th>\n",
       "      <td>1048.898246</td>\n",
       "      <td>4.125052</td>\n",
       "      <td>0.632501</td>\n",
       "      <td>1459.359403</td>\n",
       "      <td>4.527852</td>\n",
       "      <td>4.935847</td>\n",
       "      <td>226.729840</td>\n",
       "      <td>392.315087</td>\n",
       "      <td>5046.008091</td>\n",
       "      <td>0.382209</td>\n",
       "    </tr>\n",
       "    <tr>\n",
       "      <th>min</th>\n",
       "      <td>3.000000</td>\n",
       "      <td>0.000000</td>\n",
       "      <td>3.500000</td>\n",
       "      <td>0.000000</td>\n",
       "      <td>0.000000</td>\n",
       "      <td>0.000000</td>\n",
       "      <td>0.000000</td>\n",
       "      <td>2.000000</td>\n",
       "      <td>0.949688</td>\n",
       "      <td>0.000000</td>\n",
       "    </tr>\n",
       "    <tr>\n",
       "      <th>25%</th>\n",
       "      <td>1958.000000</td>\n",
       "      <td>24.000000</td>\n",
       "      <td>7.050000</td>\n",
       "      <td>338.500000</td>\n",
       "      <td>0.500000</td>\n",
       "      <td>0.300000</td>\n",
       "      <td>2.000000</td>\n",
       "      <td>2.000000</td>\n",
       "      <td>9317.797266</td>\n",
       "      <td>0.000000</td>\n",
       "    </tr>\n",
       "    <tr>\n",
       "      <th>50%</th>\n",
       "      <td>2896.000000</td>\n",
       "      <td>27.000000</td>\n",
       "      <td>7.350000</td>\n",
       "      <td>772.750000</td>\n",
       "      <td>1.000000</td>\n",
       "      <td>0.882500</td>\n",
       "      <td>2.000000</td>\n",
       "      <td>2.000000</td>\n",
       "      <td>13852.171318</td>\n",
       "      <td>0.000000</td>\n",
       "    </tr>\n",
       "    <tr>\n",
       "      <th>75%</th>\n",
       "      <td>3779.000000</td>\n",
       "      <td>29.000000</td>\n",
       "      <td>7.700000</td>\n",
       "      <td>1586.500000</td>\n",
       "      <td>1.800000</td>\n",
       "      <td>2.503750</td>\n",
       "      <td>8.000000</td>\n",
       "      <td>23.875000</td>\n",
       "      <td>18083.482400</td>\n",
       "      <td>0.000000</td>\n",
       "    </tr>\n",
       "    <tr>\n",
       "      <th>max</th>\n",
       "      <td>4912.000000</td>\n",
       "      <td>39.000000</td>\n",
       "      <td>16.700000</td>\n",
       "      <td>11000.000000</td>\n",
       "      <td>150.000000</td>\n",
       "      <td>42.450000</td>\n",
       "      <td>3200.000000</td>\n",
       "      <td>4601.000000</td>\n",
       "      <td>23556.609869</td>\n",
       "      <td>3.000000</td>\n",
       "    </tr>\n",
       "  </tbody>\n",
       "</table>\n",
       "</div>"
      ],
      "text/plain": [
       "       STATION CODE         Temp           PH  Conductivity          BOD  \\\n",
       "count   3598.000000  3598.000000  3598.000000   3598.000000  3598.000000   \n",
       "mean    2877.045859    26.018496     7.302168   1247.913146     1.793677   \n",
       "std     1048.898246     4.125052     0.632501   1459.359403     4.527852   \n",
       "min        3.000000     0.000000     3.500000      0.000000     0.000000   \n",
       "25%     1958.000000    24.000000     7.050000    338.500000     0.500000   \n",
       "50%     2896.000000    27.000000     7.350000    772.750000     1.000000   \n",
       "75%     3779.000000    29.000000     7.700000   1586.500000     1.800000   \n",
       "max     4912.000000    39.000000    16.700000  11000.000000   150.000000   \n",
       "\n",
       "                NI      Fec_col      Tot_col           WQI      WQI clf  \n",
       "count  3598.000000  3598.000000  3598.000000   3598.000000  3598.000000  \n",
       "mean      2.539883    56.354919   111.259867  13748.343109     0.080878  \n",
       "std       4.935847   226.729840   392.315087   5046.008091     0.382209  \n",
       "min       0.000000     0.000000     2.000000      0.949688     0.000000  \n",
       "25%       0.300000     2.000000     2.000000   9317.797266     0.000000  \n",
       "50%       0.882500     2.000000     2.000000  13852.171318     0.000000  \n",
       "75%       2.503750     8.000000    23.875000  18083.482400     0.000000  \n",
       "max      42.450000  3200.000000  4601.000000  23556.609869     3.000000  "
      ]
     },
     "execution_count": 20,
     "metadata": {},
     "output_type": "execute_result"
    }
   ],
   "source": [
    "df_wqi.describe()"
   ]
  },
  {
   "cell_type": "code",
   "execution_count": 21,
   "id": "dc2996d9",
   "metadata": {},
   "outputs": [
    {
     "data": {
      "text/html": [
       "<div>\n",
       "<style scoped>\n",
       "    .dataframe tbody tr th:only-of-type {\n",
       "        vertical-align: middle;\n",
       "    }\n",
       "\n",
       "    .dataframe tbody tr th {\n",
       "        vertical-align: top;\n",
       "    }\n",
       "\n",
       "    .dataframe thead th {\n",
       "        text-align: right;\n",
       "    }\n",
       "</style>\n",
       "<table border=\"1\" class=\"dataframe\">\n",
       "  <thead>\n",
       "    <tr style=\"text-align: right;\">\n",
       "      <th></th>\n",
       "      <th>STATION CODE</th>\n",
       "      <th>LOCATIONS</th>\n",
       "      <th>STATE</th>\n",
       "      <th>Temp</th>\n",
       "      <th>PH</th>\n",
       "      <th>Conductivity</th>\n",
       "      <th>BOD</th>\n",
       "      <th>NI</th>\n",
       "      <th>Fec_col</th>\n",
       "      <th>Tot_col</th>\n",
       "      <th>WQI</th>\n",
       "      <th>WQI clf</th>\n",
       "    </tr>\n",
       "  </thead>\n",
       "  <tbody>\n",
       "    <tr>\n",
       "      <th>0</th>\n",
       "      <td>26</td>\n",
       "      <td>WELL AT GRAM PANCHAYAT OFFICE, KAANURU,\\nVIJAY...</td>\n",
       "      <td>ANDHRA PRADESH</td>\n",
       "      <td>25.0</td>\n",
       "      <td>7.60</td>\n",
       "      <td>1624.0</td>\n",
       "      <td>1.10</td>\n",
       "      <td>3.65</td>\n",
       "      <td>2.0</td>\n",
       "      <td>400.0</td>\n",
       "      <td>33.802166</td>\n",
       "      <td>3</td>\n",
       "    </tr>\n",
       "    <tr>\n",
       "      <th>1</th>\n",
       "      <td>1513</td>\n",
       "      <td>BOREWELL KRISHNA MURTHY, D.NO. 48-16-43\\nAUTON...</td>\n",
       "      <td>ANDHRA PRADESH</td>\n",
       "      <td>26.0</td>\n",
       "      <td>7.85</td>\n",
       "      <td>1682.5</td>\n",
       "      <td>1.10</td>\n",
       "      <td>3.15</td>\n",
       "      <td>2.0</td>\n",
       "      <td>600.0</td>\n",
       "      <td>7183.223007</td>\n",
       "      <td>1</td>\n",
       "    </tr>\n",
       "    <tr>\n",
       "      <th>2</th>\n",
       "      <td>1514</td>\n",
       "      <td>BOREWELL VIJAY KUMAR AUTONAGAR\\nVIJAYAWADA</td>\n",
       "      <td>ANDHRA PRADESH</td>\n",
       "      <td>25.0</td>\n",
       "      <td>7.40</td>\n",
       "      <td>1862.0</td>\n",
       "      <td>1.30</td>\n",
       "      <td>2.40</td>\n",
       "      <td>2.0</td>\n",
       "      <td>400.0</td>\n",
       "      <td>7194.161986</td>\n",
       "      <td>1</td>\n",
       "    </tr>\n",
       "    <tr>\n",
       "      <th>3</th>\n",
       "      <td>1516</td>\n",
       "      <td>BOREWELL OF NAVLOK GARDENS, NELLORE</td>\n",
       "      <td>ANDHRA PRADESH</td>\n",
       "      <td>25.0</td>\n",
       "      <td>8.15</td>\n",
       "      <td>1502.5</td>\n",
       "      <td>1.10</td>\n",
       "      <td>16.10</td>\n",
       "      <td>2.0</td>\n",
       "      <td>600.0</td>\n",
       "      <td>7191.071349</td>\n",
       "      <td>1</td>\n",
       "    </tr>\n",
       "    <tr>\n",
       "      <th>4</th>\n",
       "      <td>1517</td>\n",
       "      <td>BOREWELL NEAR TUNGBHADRA KURNOOL</td>\n",
       "      <td>ANDHRA PRADESH</td>\n",
       "      <td>24.0</td>\n",
       "      <td>7.40</td>\n",
       "      <td>4920.0</td>\n",
       "      <td>1.25</td>\n",
       "      <td>9.45</td>\n",
       "      <td>2.0</td>\n",
       "      <td>2.0</td>\n",
       "      <td>7207.681195</td>\n",
       "      <td>1</td>\n",
       "    </tr>\n",
       "  </tbody>\n",
       "</table>\n",
       "</div>"
      ],
      "text/plain": [
       "   STATION CODE                                          LOCATIONS  \\\n",
       "0            26  WELL AT GRAM PANCHAYAT OFFICE, KAANURU,\\nVIJAY...   \n",
       "1          1513  BOREWELL KRISHNA MURTHY, D.NO. 48-16-43\\nAUTON...   \n",
       "2          1514         BOREWELL VIJAY KUMAR AUTONAGAR\\nVIJAYAWADA   \n",
       "3          1516                BOREWELL OF NAVLOK GARDENS, NELLORE   \n",
       "4          1517                   BOREWELL NEAR TUNGBHADRA KURNOOL   \n",
       "\n",
       "            STATE  Temp    PH  Conductivity   BOD     NI  Fec_col  Tot_col  \\\n",
       "0  ANDHRA PRADESH  25.0  7.60        1624.0  1.10   3.65      2.0    400.0   \n",
       "1  ANDHRA PRADESH  26.0  7.85        1682.5  1.10   3.15      2.0    600.0   \n",
       "2  ANDHRA PRADESH  25.0  7.40        1862.0  1.30   2.40      2.0    400.0   \n",
       "3  ANDHRA PRADESH  25.0  8.15        1502.5  1.10  16.10      2.0    600.0   \n",
       "4  ANDHRA PRADESH  24.0  7.40        4920.0  1.25   9.45      2.0      2.0   \n",
       "\n",
       "           WQI  WQI clf  \n",
       "0    33.802166        3  \n",
       "1  7183.223007        1  \n",
       "2  7194.161986        1  \n",
       "3  7191.071349        1  \n",
       "4  7207.681195        1  "
      ]
     },
     "execution_count": 21,
     "metadata": {},
     "output_type": "execute_result"
    }
   ],
   "source": [
    "data = df_wqi\n",
    "data.head()"
   ]
  },
  {
   "cell_type": "code",
   "execution_count": 22,
   "id": "f825fc53",
   "metadata": {},
   "outputs": [],
   "source": [
    "data=data.drop(['WQI'], axis=1)\n",
    "data=data.drop(['STATION CODE'], axis=1)\n",
    "data=data.drop(['LOCATIONS'], axis=1)\n",
    "data=data.drop(['PH'], axis=1)\n",
    "data=data.drop(['Conductivity'], axis=1)\n",
    "data=data.drop(['BOD'], axis=1)\n",
    "data=data.drop(['NI'], axis=1)\n",
    "data=data.drop(['Fec_col'], axis=1)\n",
    "data=data.drop(['Tot_col'], axis=1)"
   ]
  },
  {
   "cell_type": "code",
   "execution_count": 23,
   "id": "af77795a",
   "metadata": {},
   "outputs": [
    {
     "data": {
      "text/html": [
       "<div>\n",
       "<style scoped>\n",
       "    .dataframe tbody tr th:only-of-type {\n",
       "        vertical-align: middle;\n",
       "    }\n",
       "\n",
       "    .dataframe tbody tr th {\n",
       "        vertical-align: top;\n",
       "    }\n",
       "\n",
       "    .dataframe thead th {\n",
       "        text-align: right;\n",
       "    }\n",
       "</style>\n",
       "<table border=\"1\" class=\"dataframe\">\n",
       "  <thead>\n",
       "    <tr style=\"text-align: right;\">\n",
       "      <th></th>\n",
       "      <th>STATE</th>\n",
       "      <th>Temp</th>\n",
       "      <th>WQI clf</th>\n",
       "    </tr>\n",
       "  </thead>\n",
       "  <tbody>\n",
       "    <tr>\n",
       "      <th>0</th>\n",
       "      <td>ANDHRA PRADESH</td>\n",
       "      <td>25.0</td>\n",
       "      <td>3</td>\n",
       "    </tr>\n",
       "    <tr>\n",
       "      <th>1</th>\n",
       "      <td>ANDHRA PRADESH</td>\n",
       "      <td>26.0</td>\n",
       "      <td>1</td>\n",
       "    </tr>\n",
       "    <tr>\n",
       "      <th>2</th>\n",
       "      <td>ANDHRA PRADESH</td>\n",
       "      <td>25.0</td>\n",
       "      <td>1</td>\n",
       "    </tr>\n",
       "    <tr>\n",
       "      <th>3</th>\n",
       "      <td>ANDHRA PRADESH</td>\n",
       "      <td>25.0</td>\n",
       "      <td>1</td>\n",
       "    </tr>\n",
       "    <tr>\n",
       "      <th>4</th>\n",
       "      <td>ANDHRA PRADESH</td>\n",
       "      <td>24.0</td>\n",
       "      <td>1</td>\n",
       "    </tr>\n",
       "  </tbody>\n",
       "</table>\n",
       "</div>"
      ],
      "text/plain": [
       "            STATE  Temp  WQI clf\n",
       "0  ANDHRA PRADESH  25.0        3\n",
       "1  ANDHRA PRADESH  26.0        1\n",
       "2  ANDHRA PRADESH  25.0        1\n",
       "3  ANDHRA PRADESH  25.0        1\n",
       "4  ANDHRA PRADESH  24.0        1"
      ]
     },
     "execution_count": 23,
     "metadata": {},
     "output_type": "execute_result"
    }
   ],
   "source": [
    "data.head()"
   ]
  },
  {
   "cell_type": "code",
   "execution_count": 24,
   "id": "349b7174",
   "metadata": {},
   "outputs": [
    {
     "data": {
      "text/plain": [
       "RAJASTHAN                                 344\n",
       "GUJARAT                                   313\n",
       "BIHAR                                     245\n",
       "ASSAM                                     232\n",
       "ODISHA                                    227\n",
       "WEST BENGAL                               216\n",
       "MADHYA PRADESH                            192\n",
       "TRIPURA                                   169\n",
       "PUNJAB                                    142\n",
       "MAHARASHTRA                               138\n",
       "KERALA                                    134\n",
       "TELANGANA                                 133\n",
       "HIMACHAL PRADESH                          121\n",
       "UTTAR PRADESH                             117\n",
       "ANDHRA PRADESH                            100\n",
       "LAKSHADWEEP                                99\n",
       "DELHI                                      92\n",
       "MIZORAM                                    86\n",
       "PUDUCHERRY                                 82\n",
       "UTTARAKHAND                                68\n",
       "NAGALAND                                   40\n",
       "TAMIL NADU                                 36\n",
       "GOA                                        34\n",
       "MEGHALAYA                                  33\n",
       "CHHATTISGARH                               30\n",
       "HIMACHAL\\nPRADESH                          26\n",
       "CHANDIGARH                                 26\n",
       "JAMMU & KASHMIR                            24\n",
       "HARYANA                                    18\n",
       "MANIPUR                                    18\n",
       "DAMAN AND DIU, DADRA\\nAND NAGAR HAVELI     12\n",
       "DAMAN & DIU, DADRA &\\nNAGAR HAVELI         12\n",
       "DAMAN AND DIU, DADRA AND\\nNAGAR HAVELI      8\n",
       "JAMMU &\\nKASHMIR                            7\n",
       "KARNATAKA                                   6\n",
       "DADRA & NAGAR\\nHAVELI                       6\n",
       "DAMAN & DIU                                 6\n",
       "JHARKHAND                                   3\n",
       "DAMAN AND DIU,\\nDADRA AND NAGAR HAVELI      3\n",
       "Name: STATE, dtype: int64"
      ]
     },
     "execution_count": 24,
     "metadata": {},
     "output_type": "execute_result"
    }
   ],
   "source": [
    "data.STATE.value_counts()"
   ]
  },
  {
   "cell_type": "code",
   "execution_count": 25,
   "id": "467e3aed",
   "metadata": {},
   "outputs": [],
   "source": [
    "def shorten_categories(categories, cutoff):\n",
    "    categorical_map = {}\n",
    "    for i in range(len(categories)):\n",
    "        if categories.values[i] >= cutoff:\n",
    "            categorical_map[categories.index[i]] = categories.index[i]\n",
    "        else:\n",
    "            categorical_map[categories.index[i]] = 'Other'\n",
    "    return categorical_map"
   ]
  },
  {
   "cell_type": "code",
   "execution_count": 26,
   "id": "2351f457",
   "metadata": {},
   "outputs": [
    {
     "data": {
      "text/plain": [
       "RAJASTHAN           344\n",
       "GUJARAT             313\n",
       "BIHAR               245\n",
       "ASSAM               232\n",
       "ODISHA              227\n",
       "WEST BENGAL         216\n",
       "MADHYA PRADESH      192\n",
       "Other               175\n",
       "TRIPURA             169\n",
       "PUNJAB              142\n",
       "MAHARASHTRA         138\n",
       "KERALA              134\n",
       "TELANGANA           133\n",
       "HIMACHAL PRADESH    121\n",
       "UTTAR PRADESH       117\n",
       "ANDHRA PRADESH      100\n",
       "LAKSHADWEEP          99\n",
       "DELHI                92\n",
       "MIZORAM              86\n",
       "PUDUCHERRY           82\n",
       "UTTARAKHAND          68\n",
       "NAGALAND             40\n",
       "TAMIL NADU           36\n",
       "GOA                  34\n",
       "MEGHALAYA            33\n",
       "CHHATTISGARH         30\n",
       "Name: STATE, dtype: int64"
      ]
     },
     "execution_count": 26,
     "metadata": {},
     "output_type": "execute_result"
    }
   ],
   "source": [
    "state_map = shorten_categories(data.STATE.value_counts(), 30)\n",
    "data['STATE'] = data['STATE'].map(state_map)\n",
    "data.STATE.value_counts()"
   ]
  },
  {
   "cell_type": "code",
   "execution_count": 27,
   "id": "37958941",
   "metadata": {},
   "outputs": [],
   "source": [
    "from sklearn.preprocessing import LabelEncoder"
   ]
  },
  {
   "cell_type": "code",
   "execution_count": 28,
   "id": "1408e45b",
   "metadata": {},
   "outputs": [
    {
     "data": {
      "text/plain": [
       "array([ 0,  1,  2, 16,  3,  4,  5,  6,  7,  8,  9, 10, 11, 12, 13, 14, 15,\n",
       "       17, 18, 19, 20, 21, 22, 23, 24, 25])"
      ]
     },
     "execution_count": 28,
     "metadata": {},
     "output_type": "execute_result"
    }
   ],
   "source": [
    "le_state = LabelEncoder()\n",
    "data['STATE'] = le_state.fit_transform(data['STATE'])\n",
    "data.STATE.unique()"
   ]
  },
  {
   "cell_type": "code",
   "execution_count": 29,
   "id": "532e0f94",
   "metadata": {},
   "outputs": [
    {
     "data": {
      "text/plain": [
       "array([ 78,  93,  65,  71, 128, 121, 100, 107, 153,  35,  60, 114,  26,\n",
       "        33, 146, 137, 164,  48,  30,  56,  44,  84,  52, 166,  18, 159,\n",
       "       169,  12, 173, 171, 176, 175,  40,  17,  15,  10,   8,  14,  13,\n",
       "        39,   9, 177,  23,  21,   6,  58,  54, 132, 103,  88, 110, 129,\n",
       "        92,  94,  97,  95,  89,  62,  63,  70,  77,  75,  79,  31,   0,\n",
       "         3,  24,  64, 117, 162, 165,  29, 130, 139, 125, 141, 144, 143,\n",
       "       131, 140, 145, 150, 148, 156, 155, 149, 151, 154,  28,  96,  90,\n",
       "        91, 134,  83,  41,  42,  37,  76, 135,  46, 118, 180, 183, 182,\n",
       "       179,  16, 178,  86,  87,  85,  82, 112, 111, 124, 127, 120, 136,\n",
       "       142, 116,   1, 174,  50,   5,   7, 157, 138, 147, 161, 133, 160,\n",
       "       126, 152, 119, 158, 109, 123,  47,  43, 102,  45, 113,  51,  19,\n",
       "        22,  20,  27, 115,  59,  36, 122, 108, 168, 170,  72,  55,  53,\n",
       "        49,  68,  81,  80, 105, 106, 167, 172,  34,  38,  25,  32,   4,\n",
       "        11, 101,   2, 181,  57,  61,  99,  98, 163,  67,  66, 104,  74,\n",
       "        69,  73], dtype=int64)"
      ]
     },
     "execution_count": 29,
     "metadata": {},
     "output_type": "execute_result"
    }
   ],
   "source": [
    "le_temp = LabelEncoder()\n",
    "data['Temp'] = le_temp.fit_transform(data['Temp'])\n",
    "data.Temp.unique()"
   ]
  },
  {
   "cell_type": "code",
   "execution_count": 30,
   "id": "16001be3",
   "metadata": {},
   "outputs": [
    {
     "data": {
      "text/html": [
       "<div>\n",
       "<style scoped>\n",
       "    .dataframe tbody tr th:only-of-type {\n",
       "        vertical-align: middle;\n",
       "    }\n",
       "\n",
       "    .dataframe tbody tr th {\n",
       "        vertical-align: top;\n",
       "    }\n",
       "\n",
       "    .dataframe thead th {\n",
       "        text-align: right;\n",
       "    }\n",
       "</style>\n",
       "<table border=\"1\" class=\"dataframe\">\n",
       "  <thead>\n",
       "    <tr style=\"text-align: right;\">\n",
       "      <th></th>\n",
       "      <th>STATE</th>\n",
       "      <th>Temp</th>\n",
       "      <th>WQI clf</th>\n",
       "    </tr>\n",
       "  </thead>\n",
       "  <tbody>\n",
       "    <tr>\n",
       "      <th>0</th>\n",
       "      <td>0</td>\n",
       "      <td>78</td>\n",
       "      <td>3</td>\n",
       "    </tr>\n",
       "    <tr>\n",
       "      <th>1</th>\n",
       "      <td>0</td>\n",
       "      <td>93</td>\n",
       "      <td>1</td>\n",
       "    </tr>\n",
       "    <tr>\n",
       "      <th>2</th>\n",
       "      <td>0</td>\n",
       "      <td>78</td>\n",
       "      <td>1</td>\n",
       "    </tr>\n",
       "    <tr>\n",
       "      <th>3</th>\n",
       "      <td>0</td>\n",
       "      <td>78</td>\n",
       "      <td>1</td>\n",
       "    </tr>\n",
       "    <tr>\n",
       "      <th>4</th>\n",
       "      <td>0</td>\n",
       "      <td>65</td>\n",
       "      <td>1</td>\n",
       "    </tr>\n",
       "  </tbody>\n",
       "</table>\n",
       "</div>"
      ],
      "text/plain": [
       "   STATE  Temp  WQI clf\n",
       "0      0    78        3\n",
       "1      0    93        1\n",
       "2      0    78        1\n",
       "3      0    78        1\n",
       "4      0    65        1"
      ]
     },
     "execution_count": 30,
     "metadata": {},
     "output_type": "execute_result"
    }
   ],
   "source": [
    "data.head()"
   ]
  },
  {
   "cell_type": "code",
   "execution_count": 31,
   "id": "48fa35a6",
   "metadata": {},
   "outputs": [],
   "source": [
    "from sklearn.model_selection import RandomizedSearchCV, GridSearchCV\n",
    "from sklearn.linear_model import LinearRegression"
   ]
  },
  {
   "cell_type": "code",
   "execution_count": 32,
   "id": "68ec86d9",
   "metadata": {},
   "outputs": [
    {
     "data": {
      "text/html": [
       "<style>#sk-container-id-1 {color: black;background-color: white;}#sk-container-id-1 pre{padding: 0;}#sk-container-id-1 div.sk-toggleable {background-color: white;}#sk-container-id-1 label.sk-toggleable__label {cursor: pointer;display: block;width: 100%;margin-bottom: 0;padding: 0.3em;box-sizing: border-box;text-align: center;}#sk-container-id-1 label.sk-toggleable__label-arrow:before {content: \"▸\";float: left;margin-right: 0.25em;color: #696969;}#sk-container-id-1 label.sk-toggleable__label-arrow:hover:before {color: black;}#sk-container-id-1 div.sk-estimator:hover label.sk-toggleable__label-arrow:before {color: black;}#sk-container-id-1 div.sk-toggleable__content {max-height: 0;max-width: 0;overflow: hidden;text-align: left;background-color: #f0f8ff;}#sk-container-id-1 div.sk-toggleable__content pre {margin: 0.2em;color: black;border-radius: 0.25em;background-color: #f0f8ff;}#sk-container-id-1 input.sk-toggleable__control:checked~div.sk-toggleable__content {max-height: 200px;max-width: 100%;overflow: auto;}#sk-container-id-1 input.sk-toggleable__control:checked~label.sk-toggleable__label-arrow:before {content: \"▾\";}#sk-container-id-1 div.sk-estimator input.sk-toggleable__control:checked~label.sk-toggleable__label {background-color: #d4ebff;}#sk-container-id-1 div.sk-label input.sk-toggleable__control:checked~label.sk-toggleable__label {background-color: #d4ebff;}#sk-container-id-1 input.sk-hidden--visually {border: 0;clip: rect(1px 1px 1px 1px);clip: rect(1px, 1px, 1px, 1px);height: 1px;margin: -1px;overflow: hidden;padding: 0;position: absolute;width: 1px;}#sk-container-id-1 div.sk-estimator {font-family: monospace;background-color: #f0f8ff;border: 1px dotted black;border-radius: 0.25em;box-sizing: border-box;margin-bottom: 0.5em;}#sk-container-id-1 div.sk-estimator:hover {background-color: #d4ebff;}#sk-container-id-1 div.sk-parallel-item::after {content: \"\";width: 100%;border-bottom: 1px solid gray;flex-grow: 1;}#sk-container-id-1 div.sk-label:hover label.sk-toggleable__label {background-color: #d4ebff;}#sk-container-id-1 div.sk-serial::before {content: \"\";position: absolute;border-left: 1px solid gray;box-sizing: border-box;top: 0;bottom: 0;left: 50%;z-index: 0;}#sk-container-id-1 div.sk-serial {display: flex;flex-direction: column;align-items: center;background-color: white;padding-right: 0.2em;padding-left: 0.2em;position: relative;}#sk-container-id-1 div.sk-item {position: relative;z-index: 1;}#sk-container-id-1 div.sk-parallel {display: flex;align-items: stretch;justify-content: center;background-color: white;position: relative;}#sk-container-id-1 div.sk-item::before, #sk-container-id-1 div.sk-parallel-item::before {content: \"\";position: absolute;border-left: 1px solid gray;box-sizing: border-box;top: 0;bottom: 0;left: 50%;z-index: -1;}#sk-container-id-1 div.sk-parallel-item {display: flex;flex-direction: column;z-index: 1;position: relative;background-color: white;}#sk-container-id-1 div.sk-parallel-item:first-child::after {align-self: flex-end;width: 50%;}#sk-container-id-1 div.sk-parallel-item:last-child::after {align-self: flex-start;width: 50%;}#sk-container-id-1 div.sk-parallel-item:only-child::after {width: 0;}#sk-container-id-1 div.sk-dashed-wrapped {border: 1px dashed gray;margin: 0 0.4em 0.5em 0.4em;box-sizing: border-box;padding-bottom: 0.4em;background-color: white;}#sk-container-id-1 div.sk-label label {font-family: monospace;font-weight: bold;display: inline-block;line-height: 1.2em;}#sk-container-id-1 div.sk-label-container {text-align: center;}#sk-container-id-1 div.sk-container {/* jupyter's `normalize.less` sets `[hidden] { display: none; }` but bootstrap.min.css set `[hidden] { display: none !important; }` so we also need the `!important` here to be able to override the default hidden behavior on the sphinx rendered scikit-learn.org. See: https://github.com/scikit-learn/scikit-learn/issues/21755 */display: inline-block !important;position: relative;}#sk-container-id-1 div.sk-text-repr-fallback {display: none;}</style><div id=\"sk-container-id-1\" class=\"sk-top-container\"><div class=\"sk-text-repr-fallback\"><pre>LinearRegression()</pre><b>In a Jupyter environment, please rerun this cell to show the HTML representation or trust the notebook. <br />On GitHub, the HTML representation is unable to render, please try loading this page with nbviewer.org.</b></div><div class=\"sk-container\" hidden><div class=\"sk-item\"><div class=\"sk-estimator sk-toggleable\"><input class=\"sk-toggleable__control sk-hidden--visually\" id=\"sk-estimator-id-1\" type=\"checkbox\" checked><label for=\"sk-estimator-id-1\" class=\"sk-toggleable__label sk-toggleable__label-arrow\">LinearRegression</label><div class=\"sk-toggleable__content\"><pre>LinearRegression()</pre></div></div></div></div></div>"
      ],
      "text/plain": [
       "LinearRegression()"
      ]
     },
     "execution_count": 32,
     "metadata": {},
     "output_type": "execute_result"
    }
   ],
   "source": [
    "X = data.drop(\"WQI clf\", axis=1)\n",
    "y = data[\"WQI clf\"]\n",
    "linear_reg = LinearRegression()\n",
    "linear_reg.fit(X, y.values)"
   ]
  },
  {
   "cell_type": "code",
   "execution_count": 33,
   "id": "29b617d6",
   "metadata": {},
   "outputs": [],
   "source": [
    "y_pred = linear_reg.predict(X)"
   ]
  },
  {
   "cell_type": "code",
   "execution_count": 34,
   "id": "71b8d381",
   "metadata": {},
   "outputs": [
    {
     "data": {
      "text/plain": [
       "0.3803403102477085"
      ]
     },
     "execution_count": 34,
     "metadata": {},
     "output_type": "execute_result"
    }
   ],
   "source": [
    "from sklearn.metrics import mean_absolute_error, mean_squared_error\n",
    "import numpy as np\n",
    "error = np.sqrt(mean_squared_error(y, y_pred))\n",
    "error"
   ]
  },
  {
   "cell_type": "code",
   "execution_count": 35,
   "id": "76fbdac4",
   "metadata": {},
   "outputs": [
    {
     "data": {
      "text/html": [
       "<style>#sk-container-id-2 {color: black;background-color: white;}#sk-container-id-2 pre{padding: 0;}#sk-container-id-2 div.sk-toggleable {background-color: white;}#sk-container-id-2 label.sk-toggleable__label {cursor: pointer;display: block;width: 100%;margin-bottom: 0;padding: 0.3em;box-sizing: border-box;text-align: center;}#sk-container-id-2 label.sk-toggleable__label-arrow:before {content: \"▸\";float: left;margin-right: 0.25em;color: #696969;}#sk-container-id-2 label.sk-toggleable__label-arrow:hover:before {color: black;}#sk-container-id-2 div.sk-estimator:hover label.sk-toggleable__label-arrow:before {color: black;}#sk-container-id-2 div.sk-toggleable__content {max-height: 0;max-width: 0;overflow: hidden;text-align: left;background-color: #f0f8ff;}#sk-container-id-2 div.sk-toggleable__content pre {margin: 0.2em;color: black;border-radius: 0.25em;background-color: #f0f8ff;}#sk-container-id-2 input.sk-toggleable__control:checked~div.sk-toggleable__content {max-height: 200px;max-width: 100%;overflow: auto;}#sk-container-id-2 input.sk-toggleable__control:checked~label.sk-toggleable__label-arrow:before {content: \"▾\";}#sk-container-id-2 div.sk-estimator input.sk-toggleable__control:checked~label.sk-toggleable__label {background-color: #d4ebff;}#sk-container-id-2 div.sk-label input.sk-toggleable__control:checked~label.sk-toggleable__label {background-color: #d4ebff;}#sk-container-id-2 input.sk-hidden--visually {border: 0;clip: rect(1px 1px 1px 1px);clip: rect(1px, 1px, 1px, 1px);height: 1px;margin: -1px;overflow: hidden;padding: 0;position: absolute;width: 1px;}#sk-container-id-2 div.sk-estimator {font-family: monospace;background-color: #f0f8ff;border: 1px dotted black;border-radius: 0.25em;box-sizing: border-box;margin-bottom: 0.5em;}#sk-container-id-2 div.sk-estimator:hover {background-color: #d4ebff;}#sk-container-id-2 div.sk-parallel-item::after {content: \"\";width: 100%;border-bottom: 1px solid gray;flex-grow: 1;}#sk-container-id-2 div.sk-label:hover label.sk-toggleable__label {background-color: #d4ebff;}#sk-container-id-2 div.sk-serial::before {content: \"\";position: absolute;border-left: 1px solid gray;box-sizing: border-box;top: 0;bottom: 0;left: 50%;z-index: 0;}#sk-container-id-2 div.sk-serial {display: flex;flex-direction: column;align-items: center;background-color: white;padding-right: 0.2em;padding-left: 0.2em;position: relative;}#sk-container-id-2 div.sk-item {position: relative;z-index: 1;}#sk-container-id-2 div.sk-parallel {display: flex;align-items: stretch;justify-content: center;background-color: white;position: relative;}#sk-container-id-2 div.sk-item::before, #sk-container-id-2 div.sk-parallel-item::before {content: \"\";position: absolute;border-left: 1px solid gray;box-sizing: border-box;top: 0;bottom: 0;left: 50%;z-index: -1;}#sk-container-id-2 div.sk-parallel-item {display: flex;flex-direction: column;z-index: 1;position: relative;background-color: white;}#sk-container-id-2 div.sk-parallel-item:first-child::after {align-self: flex-end;width: 50%;}#sk-container-id-2 div.sk-parallel-item:last-child::after {align-self: flex-start;width: 50%;}#sk-container-id-2 div.sk-parallel-item:only-child::after {width: 0;}#sk-container-id-2 div.sk-dashed-wrapped {border: 1px dashed gray;margin: 0 0.4em 0.5em 0.4em;box-sizing: border-box;padding-bottom: 0.4em;background-color: white;}#sk-container-id-2 div.sk-label label {font-family: monospace;font-weight: bold;display: inline-block;line-height: 1.2em;}#sk-container-id-2 div.sk-label-container {text-align: center;}#sk-container-id-2 div.sk-container {/* jupyter's `normalize.less` sets `[hidden] { display: none; }` but bootstrap.min.css set `[hidden] { display: none !important; }` so we also need the `!important` here to be able to override the default hidden behavior on the sphinx rendered scikit-learn.org. See: https://github.com/scikit-learn/scikit-learn/issues/21755 */display: inline-block !important;position: relative;}#sk-container-id-2 div.sk-text-repr-fallback {display: none;}</style><div id=\"sk-container-id-2\" class=\"sk-top-container\"><div class=\"sk-text-repr-fallback\"><pre>DecisionTreeRegressor(random_state=0)</pre><b>In a Jupyter environment, please rerun this cell to show the HTML representation or trust the notebook. <br />On GitHub, the HTML representation is unable to render, please try loading this page with nbviewer.org.</b></div><div class=\"sk-container\" hidden><div class=\"sk-item\"><div class=\"sk-estimator sk-toggleable\"><input class=\"sk-toggleable__control sk-hidden--visually\" id=\"sk-estimator-id-2\" type=\"checkbox\" checked><label for=\"sk-estimator-id-2\" class=\"sk-toggleable__label sk-toggleable__label-arrow\">DecisionTreeRegressor</label><div class=\"sk-toggleable__content\"><pre>DecisionTreeRegressor(random_state=0)</pre></div></div></div></div></div>"
      ],
      "text/plain": [
       "DecisionTreeRegressor(random_state=0)"
      ]
     },
     "execution_count": 35,
     "metadata": {},
     "output_type": "execute_result"
    }
   ],
   "source": [
    "from sklearn.tree import DecisionTreeRegressor\n",
    "dec_tree_reg  = DecisionTreeRegressor(random_state=0)\n",
    "dec_tree_reg.fit(X,y.values)"
   ]
  },
  {
   "cell_type": "code",
   "execution_count": 36,
   "id": "2d6f85bd",
   "metadata": {},
   "outputs": [
    {
     "data": {
      "text/plain": [
       "0.3150657833312891"
      ]
     },
     "execution_count": 36,
     "metadata": {},
     "output_type": "execute_result"
    }
   ],
   "source": [
    "y_pred = dec_tree_reg.predict(X)\n",
    "error = np.sqrt(mean_squared_error(y, y_pred))\n",
    "error"
   ]
  },
  {
   "cell_type": "code",
   "execution_count": 37,
   "id": "a18c2c0e",
   "metadata": {},
   "outputs": [],
   "source": [
    "regressor = linear_reg"
   ]
  },
  {
   "cell_type": "code",
   "execution_count": 38,
   "id": "4e26370d",
   "metadata": {},
   "outputs": [
    {
     "data": {
      "text/html": [
       "<div>\n",
       "<style scoped>\n",
       "    .dataframe tbody tr th:only-of-type {\n",
       "        vertical-align: middle;\n",
       "    }\n",
       "\n",
       "    .dataframe tbody tr th {\n",
       "        vertical-align: top;\n",
       "    }\n",
       "\n",
       "    .dataframe thead th {\n",
       "        text-align: right;\n",
       "    }\n",
       "</style>\n",
       "<table border=\"1\" class=\"dataframe\">\n",
       "  <thead>\n",
       "    <tr style=\"text-align: right;\">\n",
       "      <th></th>\n",
       "      <th>STATE</th>\n",
       "      <th>Temp</th>\n",
       "    </tr>\n",
       "  </thead>\n",
       "  <tbody>\n",
       "    <tr>\n",
       "      <th>0</th>\n",
       "      <td>0</td>\n",
       "      <td>78</td>\n",
       "    </tr>\n",
       "    <tr>\n",
       "      <th>1</th>\n",
       "      <td>0</td>\n",
       "      <td>93</td>\n",
       "    </tr>\n",
       "    <tr>\n",
       "      <th>2</th>\n",
       "      <td>0</td>\n",
       "      <td>78</td>\n",
       "    </tr>\n",
       "    <tr>\n",
       "      <th>3</th>\n",
       "      <td>0</td>\n",
       "      <td>78</td>\n",
       "    </tr>\n",
       "    <tr>\n",
       "      <th>4</th>\n",
       "      <td>0</td>\n",
       "      <td>65</td>\n",
       "    </tr>\n",
       "    <tr>\n",
       "      <th>...</th>\n",
       "      <td>...</td>\n",
       "      <td>...</td>\n",
       "    </tr>\n",
       "    <tr>\n",
       "      <th>3593</th>\n",
       "      <td>23</td>\n",
       "      <td>33</td>\n",
       "    </tr>\n",
       "    <tr>\n",
       "      <th>3594</th>\n",
       "      <td>23</td>\n",
       "      <td>40</td>\n",
       "    </tr>\n",
       "    <tr>\n",
       "      <th>3595</th>\n",
       "      <td>23</td>\n",
       "      <td>93</td>\n",
       "    </tr>\n",
       "    <tr>\n",
       "      <th>3596</th>\n",
       "      <td>23</td>\n",
       "      <td>44</td>\n",
       "    </tr>\n",
       "    <tr>\n",
       "      <th>3597</th>\n",
       "      <td>23</td>\n",
       "      <td>23</td>\n",
       "    </tr>\n",
       "  </tbody>\n",
       "</table>\n",
       "<p>3598 rows × 2 columns</p>\n",
       "</div>"
      ],
      "text/plain": [
       "      STATE  Temp\n",
       "0         0    78\n",
       "1         0    93\n",
       "2         0    78\n",
       "3         0    78\n",
       "4         0    65\n",
       "...     ...   ...\n",
       "3593     23    33\n",
       "3594     23    40\n",
       "3595     23    93\n",
       "3596     23    44\n",
       "3597     23    23\n",
       "\n",
       "[3598 rows x 2 columns]"
      ]
     },
     "execution_count": 38,
     "metadata": {},
     "output_type": "execute_result"
    }
   ],
   "source": [
    "X"
   ]
  },
  {
   "cell_type": "code",
   "execution_count": 39,
   "id": "a176eacd",
   "metadata": {},
   "outputs": [
    {
     "data": {
      "text/plain": [
       "array([['MAHARASHTRA', '25.0']], dtype='<U32')"
      ]
     },
     "execution_count": 39,
     "metadata": {},
     "output_type": "execute_result"
    }
   ],
   "source": [
    "X = np.array([[\"MAHARASHTRA\", 25.0]])\n",
    "X"
   ]
  },
  {
   "cell_type": "code",
   "execution_count": 40,
   "id": "3ec32ffb",
   "metadata": {},
   "outputs": [
    {
     "data": {
      "text/plain": [
       "array([[11., 25.]])"
      ]
     },
     "execution_count": 40,
     "metadata": {},
     "output_type": "execute_result"
    }
   ],
   "source": [
    "X[:,0] = le_state.transform(X[:,0])\n",
    "X = X.astype(float)\n",
    "X"
   ]
  },
  {
   "cell_type": "code",
   "execution_count": 41,
   "id": "e4b28edc",
   "metadata": {},
   "outputs": [
    {
     "name": "stderr",
     "output_type": "stream",
     "text": [
      "C:\\Users\\madge\\anaconda3\\lib\\site-packages\\sklearn\\base.py:420: UserWarning: X does not have valid feature names, but LinearRegression was fitted with feature names\n",
      "  warnings.warn(\n"
     ]
    },
    {
     "data": {
      "text/plain": [
       "array([0.08337766])"
      ]
     },
     "execution_count": 41,
     "metadata": {},
     "output_type": "execute_result"
    }
   ],
   "source": [
    "y_pred = regressor.predict(X)\n",
    "y_pred"
   ]
  },
  {
   "cell_type": "code",
   "execution_count": 42,
   "id": "2bc10928",
   "metadata": {},
   "outputs": [],
   "source": [
    "import pickle"
   ]
  },
  {
   "cell_type": "code",
   "execution_count": 43,
   "id": "3410480b",
   "metadata": {},
   "outputs": [],
   "source": [
    "data = {'model': regressor, \"le_state\" : le_state, \"le_temp\" : le_temp}\n",
    "with open('saved_steps.pkl', 'wb') as file:\n",
    "    pickle.dump(data, file)"
   ]
  },
  {
   "cell_type": "code",
   "execution_count": 44,
   "id": "2e0cf851",
   "metadata": {},
   "outputs": [],
   "source": [
    "with open('saved_steps.pkl', 'rb') as file:\n",
    "    data = pickle.load(file)\n",
    "data_loaded = data[\"model\"]\n",
    "le_state = data[\"le_state\"]\n",
    "le_temp = data[\"le_temp\"]"
   ]
  },
  {
   "cell_type": "code",
   "execution_count": 45,
   "id": "0f8971e6",
   "metadata": {},
   "outputs": [
    {
     "name": "stderr",
     "output_type": "stream",
     "text": [
      "C:\\Users\\madge\\anaconda3\\lib\\site-packages\\sklearn\\base.py:420: UserWarning: X does not have valid feature names, but LinearRegression was fitted with feature names\n",
      "  warnings.warn(\n"
     ]
    },
    {
     "data": {
      "text/plain": [
       "array([0.08337766])"
      ]
     },
     "execution_count": 45,
     "metadata": {},
     "output_type": "execute_result"
    }
   ],
   "source": [
    "y_pred = data_loaded.predict(X)\n",
    "y_pred"
   ]
  },
  {
   "cell_type": "code",
   "execution_count": null,
   "id": "a450759f",
   "metadata": {},
   "outputs": [],
   "source": []
  }
 ],
 "metadata": {
  "kernelspec": {
   "display_name": "Python 3 (ipykernel)",
   "language": "python",
   "name": "python3"
  },
  "language_info": {
   "codemirror_mode": {
    "name": "ipython",
    "version": 3
   },
   "file_extension": ".py",
   "mimetype": "text/x-python",
   "name": "python",
   "nbconvert_exporter": "python",
   "pygments_lexer": "ipython3",
   "version": "3.10.9"
  }
 },
 "nbformat": 4,
 "nbformat_minor": 5
}
